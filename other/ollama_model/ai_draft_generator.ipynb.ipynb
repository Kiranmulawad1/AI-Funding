{
 "cells": [
  {
   "cell_type": "code",
   "execution_count": 1,
   "id": "ec57f91c",
   "metadata": {},
   "outputs": [],
   "source": [
    "# %%\n",
    "# Install if needed\n",
    "import sys\n",
    "!{sys.executable} -m pip install python-docx --quiet"
   ]
  },
  {
   "cell_type": "code",
   "execution_count": 3,
   "id": "57b323a6",
   "metadata": {},
   "outputs": [],
   "source": [
    "# %%\n",
    "import os\n",
    "from docx import Document\n",
    "from ollama import Client"
   ]
  },
  {
   "cell_type": "code",
   "execution_count": 9,
   "id": "3a6908be",
   "metadata": {},
   "outputs": [],
   "source": [
    "# %%\n",
    "# Example company profile (extracted from PDF or user input)\n",
    "company_profile = {\n",
    "    \"company_name\": \"RoboAI Solutions\",\n",
    "    \"location\": \"Rhineland-Palatinate, Germany\",\n",
    "    \"industry\": \"Artificial Intelligence, Robotics\",\n",
    "    \"goals\": \"- Advance AI-based robotic systems for automation\\n- Collaborate with academic institutions\",\n",
    "    \"project_idea\": \"Develop intelligent control systems for industrial robots using AI\",\n",
    "    \"funding_need\": \"Initial prototyping, testing, and team expansion (~€200,000)\"\n",
    "}\n"
   ]
  },
  {
   "cell_type": "code",
   "execution_count": 10,
   "id": "dc4a605f",
   "metadata": {},
   "outputs": [],
   "source": [
    "# %%\n",
    "# Example funding program metadata (from your semantic search results)\n",
    "funding_data = {\n",
    "    \"name\": \"AIRISE – AI in Manufacturing\",\n",
    "    \"amount\": \"Up to €300,000\",\n",
    "    \"deadline\": \"31 August 2025\",\n",
    "    \"eligibility\": \"SMEs and mid-caps in AI manufacturing innovation\",\n",
    "    \"description\": \"Supports AI experimentation and scaling for companies in manufacturing. Funding helps develop, test, or scale solutions like digital twins, smart control, and robotics.\"\n",
    "}"
   ]
  },
  {
   "cell_type": "code",
   "execution_count": 11,
   "id": "c69bcabd",
   "metadata": {},
   "outputs": [],
   "source": [
    "# %%\n",
    "# Build a single program prompt for document drafting\n",
    "def build_draft_prompt(profile, program):\n",
    "    return f\"\"\"\n",
    "You are a professional grant writer AI assistant.\n",
    "\n",
    "Use the following company profile and the funding program details to generate a complete funding application draft.\n",
    "\n",
    "## Company Profile\n",
    "- Company Name: {profile[\"company_name\"]}\n",
    "- Location: {profile[\"location\"]}\n",
    "- Industry: {profile[\"industry\"]}\n",
    "- Goals: {profile[\"goals\"]}\n",
    "- Project Idea: {profile[\"project_idea\"]}\n",
    "- Funding Need: {profile[\"funding_need\"]}\n",
    "\n",
    "## Funding Program\n",
    "- Name: {program[\"name\"]}\n",
    "- Amount: {program[\"amount\"]}\n",
    "- Deadline: {program[\"deadline\"]}\n",
    "- Eligibility: {program[\"eligibility\"]}\n",
    "- Description: {program[\"description\"]}\n",
    "\n",
    "## Format Output as:\n",
    "1. Title\n",
    "2. Executive Summary\n",
    "3. Objectives\n",
    "4. Innovation\n",
    "5. Budget Estimate\n",
    "6. Relevance to Program\n",
    "7. Contact Details\n",
    "\n",
    "Be professional and concise, but clear. Format the output as a ready-to-edit funding application.\n",
    "\"\"\""
   ]
  },
  {
   "cell_type": "code",
   "execution_count": 12,
   "id": "03b1877b",
   "metadata": {},
   "outputs": [],
   "source": [
    "# %%\n",
    "# Generate application draft using LLaMA 3.2 (Ollama)\n",
    "client = Client(host=\"http://localhost:11434\")\n",
    "prompt = build_draft_prompt(company_profile, funding_data)\n",
    "\n",
    "response = client.generate(\n",
    "    model=\"llama3.2\",\n",
    "    prompt=prompt,\n",
    "    stream=False\n",
    ")\n",
    "\n",
    "application_draft = response[\"response\"].strip()\n"
   ]
  },
  {
   "cell_type": "code",
   "execution_count": 13,
   "id": "cf597882",
   "metadata": {},
   "outputs": [
    {
     "name": "stdout",
     "output_type": "stream",
     "text": [
      "**Title:** RoboAI Solutions: Enhancing Industrial Robot Intelligence with AIRISE - AI in Manufacturing Funding\n",
      "\n",
      "**Executive Summary:**\n",
      "We, RoboAI Solutions, are a Rhineland-Palatinate-based SME specializing in Artificial Intelligence (AI) and Robotics. We seek funding through the AIRISE program to advance our project, \"Intelligent Control Systems for Industrial Robots using AI.\" Our goal is to develop cutting-edge AI-based control systems that enhance automation capabilities in industrial robots. With €200,000 in funding, we aim to achieve significant milestones in prototyping, testing, and team expansion.\n",
      "\n",
      "**Objectives:**\n",
      "\n",
      "1. Develop intelligent control systems for industrial robots using AI.\n",
      "2. Collaborate with leading academic institutions to advance research and knowledge sharing.\n",
      "3. Achieve a 20% increase in automation efficiency and productivity for our clients.\n",
      "\n",
      "**Innovation:**\n",
      "Our project focuses on integrating machine learning algorithms, computer vision, and sensor data analysis to create adaptive control systems for industrial robots. This innovative approach will enable real-time process optimization, reduced production downtime, and enhanced product quality.\n",
      "\n",
      "**Budget Estimate:**\n",
      "\n",
      "1. Personnel (30%): €60,000\n",
      "\t* Project Manager: €15,000\n",
      "\t* Software Engineer: €20,000\n",
      "\t* Researcher: €10,000\n",
      "\t* Administrative Assistant: €5,000\n",
      "2. Equipment and Materials (40%): €80,000\n",
      "\t* Industrial robots and sensors: €30,000\n",
      "\t* AI software development tools: €20,000\n",
      "\t* Laboratory equipment and consumables: €15,000\n",
      "\t* Miscellaneous: €15,000\n",
      "3. Research and Collaboration (15%): €30,000\n",
      "\t* Academic institution partnerships: €10,000\n",
      "\t* Conference and workshop expenses: €5,000\n",
      "\t* Research publications and dissemination: €5,000\n",
      "4. Contingency Fund (15%): €30,000\n",
      "\n",
      "**Relevance to Program:**\n",
      "Our project aligns perfectly with the AIRISE program's objectives of supporting AI experimentation and scaling for companies in manufacturing. By developing intelligent control systems for industrial robots using AI, we will contribute to the growth of AI-based manufacturing solutions and enhance the competitiveness of our clients.\n",
      "\n",
      "**Contact Details:**\n",
      "\n",
      "Name: [Your Name]\n",
      "Title: Project Manager\n",
      "Company: RoboAI Solutions\n",
      "Address: Rhineland-Palatinate, Germany\n",
      "Email: [your email]\n",
      "Phone: +49 123 456 789\n"
     ]
    }
   ],
   "source": [
    "# %%\n",
    "# Output the draft\n",
    "print(application_draft)"
   ]
  },
  {
   "cell_type": "code",
   "execution_count": 8,
   "id": "dcf99ac4",
   "metadata": {},
   "outputs": [
    {
     "name": "stdout",
     "output_type": "stream",
     "text": [
      "**Funding Application Draft: Artificial Intelligence for Robotics Research**\n",
      "\n",
      "**1. Title**\n",
      "Application for AIRISE – AI in Manufacturing Funding to Develop AI Solutions for Robotics Research\n",
      "\n",
      "**2. Executive Summary**\n",
      "\n",
      "Our company is a leading AI research firm focusing on robotics innovation. We aim to enhance robotic capabilities through AI solutions, driving industry growth and efficiency. This application seeks funding from the AIRISE program to support our research efforts in developing cutting-edge AI technologies for robotics applications.\n",
      "\n",
      "**3. Objectives**\n",
      "\n",
      "The primary objectives of this project are:\n",
      "\n",
      "* To develop innovative AI solutions for robotics, focusing on digital twins, smart control, and robotics.\n",
      "* To test and scale these solutions in real-world manufacturing settings.\n",
      "* To improve collaboration between humans and robots through advanced human-robot interaction techniques.\n",
      "\n",
      "**4. Innovation**\n",
      "\n",
      "Our research will leverage the latest advancements in AI and robotics to create novel solutions addressing key challenges in industrial automation. We will focus on:\n",
      "\n",
      "* Developing sophisticated digital twins for predictive maintenance and optimization of robotic systems.\n",
      "* Creating intelligent control algorithms for autonomous robotic navigation and task execution.\n",
      "* Enhancing multimodal communication between humans and robots through advanced natural language processing and computer vision techniques.\n",
      "\n",
      "**5. Budget Estimate**\n",
      "\n",
      "We request funding of €250,000 to support the following activities:\n",
      "\n",
      "* Personnel costs (researchers, engineers): €80,000\n",
      "* Equipment and software expenses: €60,000\n",
      "* Travel and collaboration costs: €20,000\n",
      "* Miscellaneous (lab supplies, etc.): €30,000\n",
      "\n",
      "**6. Relevance to Program**\n",
      "\n",
      "Our project aligns with the AIRISE program's focus on AI experimentation and scaling for companies in manufacturing. Our research objectives and innovation strategies are directly relevant to the program's goals, particularly in developing digital twins and intelligent control systems for robotics.\n",
      "\n",
      "Additionally, our work on human-robot collaboration and multimodal communication resonates with the FORTIS program's emphasis on improving human-robot interaction in industry. We believe that our project can contribute to both programs' objectives and demonstrate a strong alignment between our research goals and the funding opportunities.\n",
      "\n",
      "**7. Contact Details**\n",
      "\n",
      "Name: [Your Name]\n",
      "Title: Grant Writing Assistant\n",
      "Company: [AI Research Firm]\n",
      "Address: [Physical Address]\n",
      "Email: [Email Address]\n",
      "\n",
      "Please note that this is a draft, and you should adjust it to fit your specific needs and company details. Additionally, ensure that you review the application procedures, deadlines, and eligibility criteria for both programs before submitting your application.\n"
     ]
    }
   ],
   "source": [
    "# %%\n",
    "# Output the draft\n",
    "print(application_draft)\n"
   ]
  },
  {
   "cell_type": "code",
   "execution_count": null,
   "id": "8895ee63",
   "metadata": {},
   "outputs": [],
   "source": [
    "# %%\n",
    "# Save to DOCX\n",
    "def save_to_docx(text, filename=\"application_draft.docx\"):\n",
    "    doc = Document()\n",
    "    for para in text.split(\"\\n\\n\"):\n",
    "        doc.add_paragraph(para.strip())\n",
    "    doc.save(filename)\n",
    "    print(f\"✅ Draft saved as: {filename}\")\n"
   ]
  },
  {
   "cell_type": "code",
   "execution_count": null,
   "id": "7ba39044",
   "metadata": {},
   "outputs": [],
   "source": [
    "# %%\n",
    "save_to_docx(application_draft)\n"
   ]
  }
 ],
 "metadata": {
  "kernelspec": {
   "display_name": ".venv",
   "language": "python",
   "name": "python3"
  },
  "language_info": {
   "codemirror_mode": {
    "name": "ipython",
    "version": 3
   },
   "file_extension": ".py",
   "mimetype": "text/x-python",
   "name": "python",
   "nbconvert_exporter": "python",
   "pygments_lexer": "ipython3",
   "version": "3.12.3"
  }
 },
 "nbformat": 4,
 "nbformat_minor": 5
}
