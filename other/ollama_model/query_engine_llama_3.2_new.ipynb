{
 "cells": [
  {
   "cell_type": "code",
   "execution_count": null,
   "id": "32fb1d7a",
   "metadata": {},
   "outputs": [],
   "source": [
    "# %%\n",
    "import os\n",
    "import re\n",
    "import pandas as pd\n",
    "from dotenv import load_dotenv\n",
    "from pinecone import Pinecone\n",
    "from sentence_transformers import SentenceTransformer\n",
    "from ollama import Client\n",
    "from dateutil import parser\n",
    "from datetime import datetime"
   ]
  },
  {
   "cell_type": "code",
   "execution_count": 2,
   "id": "aaba2a3b",
   "metadata": {},
   "outputs": [],
   "source": [
    "# %%\n",
    "# Load environment variables\n",
    "load_dotenv()\n",
    "PINECONE_API_KEY = os.getenv(\"PINECONE_API_KEY\")\n"
   ]
  },
  {
   "cell_type": "code",
   "execution_count": 3,
   "id": "b749b79c",
   "metadata": {},
   "outputs": [],
   "source": [
    "# %%\n",
    "# Load full funding dataset (CSV)\n",
    "full_df = pd.read_csv(\"/Users/kiranmulawad/AI-Funding/2_preprocessing/data/merged_funding_data.csv\")\n"
   ]
  },
  {
   "cell_type": "code",
   "execution_count": 4,
   "id": "0638ebfa",
   "metadata": {},
   "outputs": [],
   "source": [
    "# %%\n",
    "# Initialize Pinecone + embedding model\n",
    "pc = Pinecone(api_key=PINECONE_API_KEY)\n",
    "index = pc.Index(\"funding-search-bge\")\n",
    "model = SentenceTransformer(\"BAAI/bge-small-en\")\n"
   ]
  },
  {
   "cell_type": "code",
   "execution_count": 15,
   "id": "7991011c",
   "metadata": {},
   "outputs": [],
   "source": [
    "# %%\n",
    "# Sample query\n",
    "query = \"We are an AI company focused on AI for robotics. We are focusing on research right now.\"\n",
    "query_embedding = model.encode(query).tolist()\n"
   ]
  },
  {
   "cell_type": "code",
   "execution_count": 16,
   "id": "b3ad9415",
   "metadata": {},
   "outputs": [],
   "source": [
    "user_location = \"Rhineland-Palatinate\""
   ]
  },
  {
   "cell_type": "code",
   "execution_count": 17,
   "id": "2cc7579e",
   "metadata": {},
   "outputs": [],
   "source": [
    "# %%\n",
    "# Query both CSV + PDF-upload data\n",
    "semantic_matches = index.query(\n",
    "    vector=query_embedding, top_k=5, include_metadata=True, namespace=\"open-source-v1\"\n",
    ")\n",
    "pdf_matches = index.query(\n",
    "    vector=query_embedding, top_k=5, include_metadata=True, namespace=\"pdf-upload\"\n",
    ")\n"
   ]
  },
  {
   "cell_type": "code",
   "execution_count": 18,
   "id": "36f05615",
   "metadata": {},
   "outputs": [
    {
     "name": "stdout",
     "output_type": "stream",
     "text": [
      "✅ Total unique results: 5\n"
     ]
    }
   ],
   "source": [
    "# %%\n",
    "# Merge + deduplicate\n",
    "all_matches = semantic_matches[\"matches\"] + pdf_matches[\"matches\"]\n",
    "seen = set()\n",
    "unique_matches = []\n",
    "for m in all_matches:\n",
    "    key = (m[\"metadata\"].get(\"name\", \"\"), m[\"metadata\"].get(\"description\", \"\"))\n",
    "    if key not in seen:\n",
    "        unique_matches.append(m)\n",
    "        seen.add(key)\n",
    "\n",
    "print(f\"✅ Total unique results: {len(unique_matches)}\")\n"
   ]
  },
  {
   "cell_type": "code",
   "execution_count": 19,
   "id": "9fd91864",
   "metadata": {},
   "outputs": [],
   "source": [
    "# %%\n",
    "# Create DataFrame\n",
    "results_df = pd.DataFrame([m[\"metadata\"] for m in unique_matches])\n",
    "\n",
    "# Parse deadline and calculate days left\n",
    "def safe_parse_deadline(deadline_str):\n",
    "    try:\n",
    "        return parser.parse(deadline_str, dayfirst=True, fuzzy=True)\n",
    "    except:\n",
    "        return None\n",
    "\n",
    "results_df[\"deadline_date\"] = results_df[\"deadline\"].apply(safe_parse_deadline)\n",
    "results_df[\"days_left\"] = (results_df[\"deadline_date\"] - datetime.now()).dt.days\n",
    "results_df = results_df[results_df[\"days_left\"].fillna(0) >= 0]\n"
   ]
  },
  {
   "cell_type": "code",
   "execution_count": 20,
   "id": "c695c050",
   "metadata": {},
   "outputs": [],
   "source": [
    "def compute_relevance_score(row, query, funding_need=\"200000\", target_domain=\"AI\", user_location=\"Rhineland-Palatinate\"):\n",
    "    score = 0\n",
    "\n",
    "    # 🧠 Domain match\n",
    "    if target_domain.lower() in str(row.get(\"domain\", \"\")).lower():\n",
    "        score += 0.4\n",
    "\n",
    "    # 💰 Funding amount\n",
    "    try:\n",
    "        amount_val = int(re.sub(r\"[^\\d]\", \"\", str(row.get(\"amount\", \"0\"))))\n",
    "        if amount_val >= int(funding_need):\n",
    "            score += 0.3\n",
    "    except:\n",
    "        pass\n",
    "\n",
    "    # 📅 Deadline relevance\n",
    "    if \"month\" in str(row.get(\"deadline\", \"\")).lower() or \"2025\" in str(row.get(\"deadline\", \"\")):\n",
    "        score += 0.2\n",
    "\n",
    "    # 🔍 Keyword match in description\n",
    "    if any(word.lower() in str(row.get(\"description\", \"\")).lower() for word in query.split()):\n",
    "        score += 0.1\n",
    "\n",
    "    # 📍 Location boost\n",
    "    if user_location.lower() in str(row.get(\"location\", \"\")).lower():\n",
    "        score += 0.1\n",
    "\n",
    "    return round(score * 100)\n",
    "\n",
    "results_df[\"relevance_score\"] = results_df.apply(\n",
    "    lambda r: compute_relevance_score(r, query, user_location=user_location), axis=1\n",
    ")\n",
    "results_df = results_df.sort_values(by=\"relevance_score\", ascending=False)\n",
    "matches = [{\"metadata\": r} for r in results_df.to_dict(\"records\")]\n"
   ]
  },
  {
   "cell_type": "code",
   "execution_count": 21,
   "id": "788c59c6",
   "metadata": {},
   "outputs": [],
   "source": [
    "# %%\n",
    "# Format blocks for GPT\n",
    "def generate_structured_funding_blocks(matches, user_query: str) -> str:\n",
    "    formatted_blocks = []\n",
    "\n",
    "    field_aliases = {\n",
    "        \"Amount\": [\"amount\", \"how much\", \"funding\", \"money\"],\n",
    "        \"Deadline\": [\"deadline\", \"last date\", \"until\", \"submission date\"],\n",
    "        \"Eligibility\": [\"eligible\", \"eligibility\", \"who can apply\"],\n",
    "        \"Procedure\": [\"procedure\", \"how to apply\", \"application\", \"steps\", \"process\"],\n",
    "        \"Contact\": [\"contact\", \"email\", \"person\", \"support\"],\n",
    "    }\n",
    "\n",
    "    for idx, match in enumerate(matches, start=1):\n",
    "        meta = match[\"metadata\"]\n",
    "        name = meta.get(\"name\", \"Unnamed\")\n",
    "\n",
    "        fields = {\n",
    "            \"Description\": meta.get(\"description\"),\n",
    "            \"Domain\": meta.get(\"domain\"),\n",
    "            \"Eligibility\": meta.get(\"eligibility\"),\n",
    "            \"Amount\": meta.get(\"amount\"),\n",
    "            \"Deadline\": meta.get(\"deadline\"),\n",
    "            \"Procedure\": meta.get(\"procedure\"),\n",
    "            \"Location\": meta.get(\"location\"),\n",
    "            \"Contact\": meta.get(\"contact\"),\n",
    "            \"URL\": meta.get(\"url\"),\n",
    "            \"Source\": meta.get(\"source\", \"Unknown\")\n",
    "        }\n",
    "\n",
    "        missing_fields = []\n",
    "        for key, value in fields.items():\n",
    "            if key in field_aliases:\n",
    "                if any(alias in user_query.lower() for alias in field_aliases[key]):\n",
    "                    if not value or \"not found\" in str(value).lower():\n",
    "                        missing_fields.append(key)\n",
    "\n",
    "        block = f\"\"\"**{idx}. {name}**\\n\"\"\"\n",
    "        for key in [\"Description\", \"Domain\", \"Eligibility\", \"Amount\", \"Deadline\", \"Procedure\", \"Contact\", \"Location\", \"Source\"]:\n",
    "            val = fields[key]\n",
    "\n",
    "            if key == \"Deadline\" and val and \"not found\" not in str(val).lower():\n",
    "                days_left = meta.get(\"days_left\", None)\n",
    "                if pd.notnull(days_left):\n",
    "                    val += f\" (🕒 {int(days_left)} days left)\"\n",
    "\n",
    "            if val and \"not found\" not in str(val).lower():\n",
    "                block += f\"   - **{key}**: {val}\\n\"\n",
    "\n",
    "        if missing_fields:\n",
    "            block += f\"   - *Couldn't trace information about {', '.join(missing_fields)}.*\\n\"\n",
    "\n",
    "        if fields[\"URL\"]:\n",
    "            block += f\"   - **For more information visit**: {fields['URL']}\\n\"\n",
    "\n",
    "        formatted_blocks.append(block)\n",
    "\n",
    "    return \"\\n\".join(formatted_blocks)\n"
   ]
  },
  {
   "cell_type": "code",
   "execution_count": 22,
   "id": "13a651f8",
   "metadata": {},
   "outputs": [
    {
     "name": "stdout",
     "output_type": "stream",
     "text": [
      "**1. Funding for projects on the topic of \"Application of artificial intelligence (AI) in drug discovery\"**\n",
      "   - **Description**: Guideline for the funding of projects on the topic of \"Application of artificial intelligence (AI) in drug discovery\" dated: 19.02.2025 Federal Ministry of Education and Research BAnz AT 03.03.2025 B5\n",
      "   - **Domain**: Research & Innovation (topic-specific), Health & Social Affairs\n",
      "   - **Eligibility**: University, research institution, company, association/association\n",
      "   - **Contact**: Name: Projektträger Jülich (PtJ), Email: ptj@fz-juelich.de, Phone: Tel: +49 2461 61-2626, Address: 52425 Jülich\n",
      "   - **Location**: Nationwide\n",
      "   - **Source**: foerderdatenbank\n",
      "   - **For more information visit**: https://www.foerderdatenbank.de/FDB/Content/DE/Foerderprogramm/Bund/BMBF/anwendung-ki-wirkstoffforschung.html\n",
      "\n",
      "**2. Promotion of interdisciplinary pilot projects on the topic of \"Neurobiologically inspired artificial intelligence\"**\n",
      "   - **Description**: Guideline for the funding of interdisciplinary pilot projects on the topic of \"Neurobiologically inspired artificial intelligence\" dated: 25.11.2024 Federal Ministry of Education and Research BAnz AT 04.12.2024 B5\n",
      "   - **Domain**: Research & Innovation (topic-specific)\n",
      "   - **Eligibility**: Research institution, university, company\n",
      "   - **Contact**: Name: DLR Projektträger, Email: ge@dlr.de, Phone: Tel: +49 0228 3821-1210, Address: 53227 Bonn\n",
      "   - **Location**: Nationwide\n",
      "   - **Source**: foerderdatenbank\n",
      "   - **For more information visit**: https://www.foerderdatenbank.de/FDB/Content/DE/Foerderprogramm/Bund/BMBF/bmbf-neurobiologisch-inspirierte-ki.html\n",
      "\n",
      "**3. Funding of collaborative research projects in the fields of \"software and algorithms with a focus on artificial intelligence and machine learning\", \"research data management\" and \"federated digital infrastructures\" for the exploration of the universe and matter (ErUM)**\n",
      "   - **Description**: Directive on the funding of collaborative research projects in the fields of \"Software and algorithms with a focus on artificial intelligence and machine learning\", \"Research data management\" and \"Federated digital infrastructures\" for the exploration of the universe and matter (ErUM) of 30.09.2024\n",
      "   - **Domain**: Research & Innovation (topic-specific)\n",
      "   - **Eligibility**: Research institution, university, company\n",
      "   - **Contact**: Name: Projektträger DESY (PT.DESY), Email: pt@desy.de, Phone: Tel: +49 40 8998-3702, Address: 22607 Hamburg\n",
      "   - **Location**: Nationwide\n",
      "   - **Source**: foerderdatenbank\n",
      "   - **For more information visit**: https://www.foerderdatenbank.de/FDB/Content/DE/Foerderprogramm/Bund/BMBF/software-algorithmen-ki-maschinelles-lernen.html\n",
      "\n"
     ]
    }
   ],
   "source": [
    "# %%\n",
    "semantic_output = generate_structured_funding_blocks(matches, query)\n",
    "print(semantic_output)\n"
   ]
  },
  {
   "cell_type": "code",
   "execution_count": 23,
   "id": "2ed5182d",
   "metadata": {},
   "outputs": [],
   "source": [
    "\n",
    "# %%\n",
    "# Prepare LLaMA prompt\n",
    "llm_prompt = f\"\"\"\n",
    "The company described itself as:\n",
    "\n",
    "\"{query}\"\n",
    "\n",
    "Here are the top 5 most relevant public funding programs in Germany, based on a semantic search match to their needs:\n",
    "\n",
    "{semantic_output}\n",
    "\n",
    "Now:\n",
    "\n",
    "Please write a concise and professional recommendation containing **only the top 2–3 most relevant funding programs** in this format:\n",
    "\n",
    "Only select the top programs that most directly match the company’s domain, maturity stage (e.g., early-stage research), or funding needs. Ignore entries that are vague or poorly aligned.\n",
    "\n",
    "For each recommendation, follow this format exactly:\n",
    "\n",
    "1. <Program Name>  \n",
    "Why it fits: <1–2 lines explaining relevance to the company’s domain (or) industry (or) field of work>  \n",
    "**Description**: <1–3 sentence summary of what the program funds and its focus>  \n",
    "**Domain**: <Domain>  \n",
    "**Eligibility**: <Eligibility>  \n",
    "**Amount**: <Amount>  \n",
    "**Deadline**: <Deadline>\n",
    "**Location**: <Location>\n",
    "**Contact**: <Contact person, email, or organization — not the URL>  \n",
    "**Next Steps**:  \n",
    "- Step 1: <Visit the official call page>  \n",
    "- Step 2: <Provide one or two helpful next steps, e.g., form a consortium, prepare documents>  \n",
    "- Step 3: (Optional) <Any extra steps from the program's procedure>\n",
    "\n",
    "If any field like **Amount**, **Deadline**, **Eligibility**, **Procedure**, **Contact**, or **Domain** is missing, either omit the line or say “Not specified”.\n",
    "\n",
    "Make sure **Next Steps** are formatted as real bullet points on new lines — not in a single line. Use simple and readable language. List only the top 2 or 3 matching programs — not all 5.\n",
    "\"\"\""
   ]
  },
  {
   "cell_type": "code",
   "execution_count": 24,
   "id": "7e32785b",
   "metadata": {},
   "outputs": [],
   "source": [
    "# %%\n",
    "# Run LLaMA\n",
    "client = Client(host=\"http://localhost:11434\")\n",
    "response = client.generate(model=\"llama3.2\", prompt=llm_prompt, stream=False)"
   ]
  },
  {
   "cell_type": "code",
   "execution_count": 25,
   "id": "91bdeae1",
   "metadata": {},
   "outputs": [
    {
     "name": "stdout",
     "output_type": "stream",
     "text": [
      "\n",
      "🧾 LLaMA 3.2 Recommendation:\n",
      "\n",
      "Here is a concise and professional recommendation containing the top 2-3 most relevant funding programs:\n",
      "\n",
      "1. **Funding for projects on the topic of \"Application of artificial intelligence (AI) in drug discovery\"**\n",
      "Why it fits: This program directly aligns with the company's domain of AI for robotics, specifically focusing on AI applications in a relevant field.\n",
      "**Description**: The program funds research projects exploring the application of AI in drug discovery, aiming to develop innovative solutions for improving pharmaceutical development processes.\n",
      "**Domain**: Research & Innovation (topic-specific), Health & Social Affairs\n",
      "**Eligibility**: University, research institution, company, association/association\n",
      "**Amount**: Not specified\n",
      "**Deadline**: Not specified\n",
      "**Location**: Nationwide\n",
      "**Contact**: Projektträger Jülich (PtJ)\n",
      "**Next Steps**\n",
      "- Step 1: Visit the official call page https://www.foerderdatenbank.de/FDB/Content/DE/Foerderprogramm/Bund/BMBF/anwendung-ki-wirkstoffforschung.html\n",
      "- Step 2: Prepare a detailed proposal outlining the research project's objectives, methodology, and expected outcomes.\n",
      "\n",
      "2. **Promotion of interdisciplinary pilot projects on the topic of \"Neurobiologically inspired artificial intelligence\"**\n",
      "Why it fits: This program aligns with the company's focus on AI for robotics, particularly in exploring novel approaches inspired by nature.\n",
      "**Description**: The program funds interdisciplinary pilot projects investigating neurobiologically inspired AI solutions for various applications, including robotics and artificial intelligence.\n",
      "**Domain**: Research & Innovation (topic-specific)\n",
      "**Eligibility**: Research institution, university, company\n",
      "**Amount**: Not specified\n",
      "**Deadline**: Not specified\n",
      "**Location**: Nationwide\n",
      "**Contact**: DLR Projektträger\n",
      "**Next Steps**\n",
      "- Step 1: Form a consortium with relevant partners to propose an interdisciplinary pilot project.\n",
      "- Step 2: Prepare a comprehensive proposal outlining the project's objectives, methodology, and expected outcomes.\n",
      "\n",
      "3. **Funding of collaborative research projects in the fields of \"Software and algorithms with a focus on artificial intelligence and machine learning\"**\n",
      "Why it fits: This program aligns with the company's focus on AI for robotics, particularly in developing advanced software and algorithms.\n",
      "**Description**: The program funds collaborative research projects exploring innovative software and algorithms for AI and machine learning applications, including robotics.\n",
      "**Domain**: Research & Innovation (topic-specific)\n",
      "**Eligibility**: Research institution, university, company\n",
      "**Amount**: Not specified\n",
      "**Deadline**: Not specified\n",
      "**Location**: Nationwide\n",
      "**Contact**: Projektträger DESY (PT.DESY)\n",
      "**Next Steps**\n",
      "- Step 1: Find suitable partners for a collaborative research project.\n",
      "- Step 2: Prepare a detailed proposal outlining the project's objectives, methodology, and expected outcomes.\n"
     ]
    }
   ],
   "source": [
    "# %%\n",
    "# Display output\n",
    "print(\"\\n🧾 LLaMA 3.2 Recommendation:\\n\")\n",
    "print(response[\"response\"])"
   ]
  },
  {
   "cell_type": "code",
   "execution_count": null,
   "id": "0ff50031",
   "metadata": {},
   "outputs": [],
   "source": []
  }
 ],
 "metadata": {
  "kernelspec": {
   "display_name": ".venv",
   "language": "python",
   "name": "python3"
  },
  "language_info": {
   "codemirror_mode": {
    "name": "ipython",
    "version": 3
   },
   "file_extension": ".py",
   "mimetype": "text/x-python",
   "name": "python",
   "nbconvert_exporter": "python",
   "pygments_lexer": "ipython3",
   "version": "3.12.3"
  }
 },
 "nbformat": 4,
 "nbformat_minor": 5
}
