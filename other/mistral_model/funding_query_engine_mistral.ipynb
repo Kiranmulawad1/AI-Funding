{
 "cells": [
  {
   "cell_type": "markdown",
   "id": "1cd83a89",
   "metadata": {},
   "source": [
    "# #🧠 Mistral + Pinecone: Funding Search Engine with Local LLM"
   ]
  },
  {
   "cell_type": "code",
   "execution_count": 1,
   "id": "4936ca03",
   "metadata": {},
   "outputs": [],
   "source": [
    "# %%\n",
    "import os\n",
    "import pandas as pd\n",
    "from dotenv import load_dotenv\n",
    "from pinecone import Pinecone\n",
    "from ollama import Client  # <-- Ollama to use local mistral\n",
    "from IPython.display import display"
   ]
  },
  {
   "cell_type": "code",
   "execution_count": 2,
   "id": "74182738",
   "metadata": {},
   "outputs": [],
   "source": [
    "# %%\n",
    "# Load environment variables\n",
    "load_dotenv()\n",
    "PINECONE_API_KEY = os.getenv(\"PINECONE_API_KEY\")\n",
    "assert PINECONE_API_KEY, \"PINECONE_API_KEY is missing\""
   ]
  },
  {
   "cell_type": "code",
   "execution_count": 3,
   "id": "725a9310",
   "metadata": {},
   "outputs": [],
   "source": [
    "# %%\n",
    "# Initialize Pinecone client\n",
    "pc = Pinecone(api_key=PINECONE_API_KEY)\n",
    "index = pc.Index(\"funding-search-bge\")  # Update with your actual index name"
   ]
  },
  {
   "cell_type": "code",
   "execution_count": 4,
   "id": "3e6df75c",
   "metadata": {},
   "outputs": [],
   "source": [
    "# %%\n",
    "# Initialize Ollama client\n",
    "ollama_client = Client(host='http://localhost:11434')  # Default Ollama host"
   ]
  },
  {
   "cell_type": "code",
   "execution_count": 5,
   "id": "4f46937f",
   "metadata": {},
   "outputs": [],
   "source": [
    "# %%\n",
    "# Example query (can also be generated from PDF like before)\n",
    "query = \"We are an AI company focused on AI for robotics. We are focusing on research right now.\""
   ]
  },
  {
   "cell_type": "code",
   "execution_count": 6,
   "id": "6968aa1c",
   "metadata": {},
   "outputs": [
    {
     "data": {
      "application/vnd.jupyter.widget-view+json": {
       "model_id": "c6268840fbfd40a9a397320212468f6a",
       "version_major": 2,
       "version_minor": 0
      },
      "text/plain": [
       "modules.json:   0%|          | 0.00/349 [00:00<?, ?B/s]"
      ]
     },
     "metadata": {},
     "output_type": "display_data"
    },
    {
     "data": {
      "application/vnd.jupyter.widget-view+json": {
       "model_id": "abd7c32625f54af49a059ff95fd4afa5",
       "version_major": 2,
       "version_minor": 0
      },
      "text/plain": [
       "config_sentence_transformers.json:   0%|          | 0.00/124 [00:00<?, ?B/s]"
      ]
     },
     "metadata": {},
     "output_type": "display_data"
    },
    {
     "data": {
      "application/vnd.jupyter.widget-view+json": {
       "model_id": "78da87fe94a04cfb93c38edcc5f8af0e",
       "version_major": 2,
       "version_minor": 0
      },
      "text/plain": [
       "README.md: 0.00B [00:00, ?B/s]"
      ]
     },
     "metadata": {},
     "output_type": "display_data"
    },
    {
     "data": {
      "application/vnd.jupyter.widget-view+json": {
       "model_id": "627a7980eb9c48959923d3e1f73a20f1",
       "version_major": 2,
       "version_minor": 0
      },
      "text/plain": [
       "sentence_bert_config.json:   0%|          | 0.00/52.0 [00:00<?, ?B/s]"
      ]
     },
     "metadata": {},
     "output_type": "display_data"
    },
    {
     "data": {
      "application/vnd.jupyter.widget-view+json": {
       "model_id": "b07057321adf4c17ab98b2298633e8a6",
       "version_major": 2,
       "version_minor": 0
      },
      "text/plain": [
       "config.json:   0%|          | 0.00/684 [00:00<?, ?B/s]"
      ]
     },
     "metadata": {},
     "output_type": "display_data"
    },
    {
     "data": {
      "application/vnd.jupyter.widget-view+json": {
       "model_id": "885db87933304d53bf9ff595f1efef1e",
       "version_major": 2,
       "version_minor": 0
      },
      "text/plain": [
       "model.safetensors:   0%|          | 0.00/133M [00:00<?, ?B/s]"
      ]
     },
     "metadata": {},
     "output_type": "display_data"
    },
    {
     "data": {
      "application/vnd.jupyter.widget-view+json": {
       "model_id": "4067615bbb6744d5abed61ea7e2ea8e6",
       "version_major": 2,
       "version_minor": 0
      },
      "text/plain": [
       "tokenizer_config.json:   0%|          | 0.00/366 [00:00<?, ?B/s]"
      ]
     },
     "metadata": {},
     "output_type": "display_data"
    },
    {
     "data": {
      "application/vnd.jupyter.widget-view+json": {
       "model_id": "398c6a41f66440f999750c6f9ef0b185",
       "version_major": 2,
       "version_minor": 0
      },
      "text/plain": [
       "vocab.txt: 0.00B [00:00, ?B/s]"
      ]
     },
     "metadata": {},
     "output_type": "display_data"
    },
    {
     "data": {
      "application/vnd.jupyter.widget-view+json": {
       "model_id": "a72108505fe04464a840c8da6c380cfd",
       "version_major": 2,
       "version_minor": 0
      },
      "text/plain": [
       "tokenizer.json: 0.00B [00:00, ?B/s]"
      ]
     },
     "metadata": {},
     "output_type": "display_data"
    },
    {
     "data": {
      "application/vnd.jupyter.widget-view+json": {
       "model_id": "7f681ea800b2418da2ebd29a937a044f",
       "version_major": 2,
       "version_minor": 0
      },
      "text/plain": [
       "special_tokens_map.json:   0%|          | 0.00/125 [00:00<?, ?B/s]"
      ]
     },
     "metadata": {},
     "output_type": "display_data"
    },
    {
     "data": {
      "application/vnd.jupyter.widget-view+json": {
       "model_id": "2e0f46555353402ab24bb42077793e2b",
       "version_major": 2,
       "version_minor": 0
      },
      "text/plain": [
       "config.json:   0%|          | 0.00/190 [00:00<?, ?B/s]"
      ]
     },
     "metadata": {},
     "output_type": "display_data"
    }
   ],
   "source": [
    "# %%\n",
    "# Embed query using sentence-transformers locally (you already uploaded embeddings in that space)\n",
    "from sentence_transformers import SentenceTransformer\n",
    "\n",
    "model = SentenceTransformer(\"BAAI/bge-small-en\")\n",
    "query_embedding = model.encode(query).tolist()"
   ]
  },
  {
   "cell_type": "code",
   "execution_count": 7,
   "id": "3f5f71d5",
   "metadata": {},
   "outputs": [],
   "source": [
    "# %%\n",
    "# Query Pinecone\n",
    "semantic_matches = index.query(\n",
    "    vector=query_embedding,\n",
    "    top_k=5,\n",
    "    include_metadata=True,\n",
    "    namespace=\"open-source-v1\"  # your new namespace\n",
    ")"
   ]
  },
  {
   "cell_type": "code",
   "execution_count": 8,
   "id": "ad258b54",
   "metadata": {},
   "outputs": [
    {
     "data": {
      "text/html": [
       "<div>\n",
       "<style scoped>\n",
       "    .dataframe tbody tr th:only-of-type {\n",
       "        vertical-align: middle;\n",
       "    }\n",
       "\n",
       "    .dataframe tbody tr th {\n",
       "        vertical-align: top;\n",
       "    }\n",
       "\n",
       "    .dataframe thead th {\n",
       "        text-align: right;\n",
       "    }\n",
       "</style>\n",
       "<table border=\"1\" class=\"dataframe\">\n",
       "  <thead>\n",
       "    <tr style=\"text-align: right;\">\n",
       "      <th></th>\n",
       "      <th>name</th>\n",
       "      <th>description</th>\n",
       "      <th>domain</th>\n",
       "      <th>eligibility</th>\n",
       "      <th>amount</th>\n",
       "      <th>deadline</th>\n",
       "      <th>url</th>\n",
       "      <th>id</th>\n",
       "    </tr>\n",
       "  </thead>\n",
       "  <tbody>\n",
       "    <tr>\n",
       "      <th>0</th>\n",
       "      <td>MASTER 2nd Open Call</td>\n",
       "      <td>MASTER supports projects that develop and vali...</td>\n",
       "      <td>VR/XR</td>\n",
       "      <td>Universities, research institutions, education...</td>\n",
       "      <td>Up to 100,000 euros</td>\n",
       "      <td>June 12, 2025</td>\n",
       "      <td>https://www.master-xr.eu/open-calls/open-call-2/</td>\n",
       "      <td>b0e5c199bfa519c5a1d8c452edd92901</td>\n",
       "    </tr>\n",
       "    <tr>\n",
       "      <th>1</th>\n",
       "      <td>Promotion of interdisciplinary pilot projects ...</td>\n",
       "      <td>Guideline for the funding of interdisciplinary...</td>\n",
       "      <td>Research &amp; Innovation (topic-specific)</td>\n",
       "      <td>Research institution, university, company</td>\n",
       "      <td>amount information not found</td>\n",
       "      <td>deadline information not found</td>\n",
       "      <td>https://www.foerderdatenbank.de/FDB/Content/DE...</td>\n",
       "      <td>7f11351b7489d381f3c2e474b06d25eb</td>\n",
       "    </tr>\n",
       "    <tr>\n",
       "      <th>2</th>\n",
       "      <td>Funding for projects on the topic of \"Applicat...</td>\n",
       "      <td>Guideline for the funding of projects on the t...</td>\n",
       "      <td>Research &amp; Innovation (topic-specific), Health...</td>\n",
       "      <td>University, research institution, company, ass...</td>\n",
       "      <td>amount information not found</td>\n",
       "      <td>deadline information not found</td>\n",
       "      <td>https://www.foerderdatenbank.de/FDB/Content/DE...</td>\n",
       "      <td>cd21459049ca19b22a72fffcda329c79</td>\n",
       "    </tr>\n",
       "    <tr>\n",
       "      <th>3</th>\n",
       "      <td>FORTIS 1st Open Call</td>\n",
       "      <td>FORTIS supports projects that develop innovati...</td>\n",
       "      <td>Human-robot interaction (HRI), multimodal comm...</td>\n",
       "      <td>Consortia of 2-3 organizations: Start-ups, SME...</td>\n",
       "      <td>Up to 250,000 euros</td>\n",
       "      <td>June 04, 2025</td>\n",
       "      <td>https://fortis-project.eu/open-call-1/</td>\n",
       "      <td>bd4c4d243afbba1223855b5ab41181a9</td>\n",
       "    </tr>\n",
       "    <tr>\n",
       "      <th>4</th>\n",
       "      <td>Funding of collaborative research projects in ...</td>\n",
       "      <td>Directive on the funding of collaborative rese...</td>\n",
       "      <td>Research &amp; Innovation (topic-specific)</td>\n",
       "      <td>Research institution, university, company</td>\n",
       "      <td>amount information not found</td>\n",
       "      <td>deadline information not found</td>\n",
       "      <td>https://www.foerderdatenbank.de/FDB/Content/DE...</td>\n",
       "      <td>24418f42df5e76ad3641741782229d11</td>\n",
       "    </tr>\n",
       "  </tbody>\n",
       "</table>\n",
       "</div>"
      ],
      "text/plain": [
       "                                                name  \\\n",
       "0                               MASTER 2nd Open Call   \n",
       "1  Promotion of interdisciplinary pilot projects ...   \n",
       "2  Funding for projects on the topic of \"Applicat...   \n",
       "3                               FORTIS 1st Open Call   \n",
       "4  Funding of collaborative research projects in ...   \n",
       "\n",
       "                                         description  \\\n",
       "0  MASTER supports projects that develop and vali...   \n",
       "1  Guideline for the funding of interdisciplinary...   \n",
       "2  Guideline for the funding of projects on the t...   \n",
       "3  FORTIS supports projects that develop innovati...   \n",
       "4  Directive on the funding of collaborative rese...   \n",
       "\n",
       "                                              domain  \\\n",
       "0                                              VR/XR   \n",
       "1             Research & Innovation (topic-specific)   \n",
       "2  Research & Innovation (topic-specific), Health...   \n",
       "3  Human-robot interaction (HRI), multimodal comm...   \n",
       "4             Research & Innovation (topic-specific)   \n",
       "\n",
       "                                         eligibility  \\\n",
       "0  Universities, research institutions, education...   \n",
       "1          Research institution, university, company   \n",
       "2  University, research institution, company, ass...   \n",
       "3  Consortia of 2-3 organizations: Start-ups, SME...   \n",
       "4          Research institution, university, company   \n",
       "\n",
       "                         amount                        deadline  \\\n",
       "0           Up to 100,000 euros                   June 12, 2025   \n",
       "1  amount information not found  deadline information not found   \n",
       "2  amount information not found  deadline information not found   \n",
       "3           Up to 250,000 euros                   June 04, 2025   \n",
       "4  amount information not found  deadline information not found   \n",
       "\n",
       "                                                 url  \\\n",
       "0   https://www.master-xr.eu/open-calls/open-call-2/   \n",
       "1  https://www.foerderdatenbank.de/FDB/Content/DE...   \n",
       "2  https://www.foerderdatenbank.de/FDB/Content/DE...   \n",
       "3             https://fortis-project.eu/open-call-1/   \n",
       "4  https://www.foerderdatenbank.de/FDB/Content/DE...   \n",
       "\n",
       "                                 id  \n",
       "0  b0e5c199bfa519c5a1d8c452edd92901  \n",
       "1  7f11351b7489d381f3c2e474b06d25eb  \n",
       "2  cd21459049ca19b22a72fffcda329c79  \n",
       "3  bd4c4d243afbba1223855b5ab41181a9  \n",
       "4  24418f42df5e76ad3641741782229d11  "
      ]
     },
     "metadata": {},
     "output_type": "display_data"
    }
   ],
   "source": [
    "# %%\n",
    "matches = [match[\"metadata\"] for match in semantic_matches[\"matches\"]]\n",
    "funding_results_df = pd.DataFrame(matches)\n",
    "\n",
    "# Reorder columns if needed\n",
    "desired_order = [\n",
    "    \"name\", \"description\", \"domain\", \"eligibility\", \"amount\",\n",
    "    \"deadline\", \"url\", \"id\"\n",
    "]\n",
    "funding_results_df = funding_results_df[[col for col in desired_order if col in funding_results_df.columns]]\n",
    "display(funding_results_df)"
   ]
  },
  {
   "cell_type": "code",
   "execution_count": 9,
   "id": "73350f8a",
   "metadata": {},
   "outputs": [],
   "source": [
    "# %%\n",
    "# Format funding blocks (same logic)\n",
    "def generate_structured_funding_blocks(matches, user_query: str) -> str:\n",
    "    formatted_blocks = []\n",
    "\n",
    "    field_aliases = {\n",
    "        \"Amount\": [\"amount\", \"how much\", \"funding\", \"money\"],\n",
    "        \"Deadline\": [\"deadline\", \"last date\", \"until\", \"submission date\"],\n",
    "        \"Eligibility\": [\"eligible\", \"eligibility\", \"who can apply\"],\n",
    "        \"Procedure\": [\"procedure\", \"how to apply\", \"application\", \"steps\", \"process\"],\n",
    "        \"Contact\": [\"contact\", \"email\", \"person\", \"support\"],\n",
    "    }\n",
    "\n",
    "    for idx, match in enumerate(matches, start=1):\n",
    "        meta = match[\"metadata\"]\n",
    "        name = meta.get(\"name\", \"Unnamed\")\n",
    "\n",
    "        fields = {\n",
    "            \"Description\": meta.get(\"description\"),\n",
    "            \"Domain\": meta.get(\"domain\"),\n",
    "            \"Eligibility\": meta.get(\"eligibility\"),\n",
    "            \"Amount\": meta.get(\"amount\"),\n",
    "            \"Deadline\": meta.get(\"deadline\"),\n",
    "            \"Procedure\": meta.get(\"procedure\"),\n",
    "            \"Contact\": meta.get(\"contact\"),\n",
    "            \"URL\": meta.get(\"url\"),\n",
    "        }\n",
    "\n",
    "        missing_fields = []\n",
    "        for key, value in fields.items():\n",
    "            if key in field_aliases:\n",
    "                if any(alias in user_query.lower() for alias in field_aliases[key]):\n",
    "                    if not value or \"not found\" in str(value).lower():\n",
    "                        missing_fields.append(key)\n",
    "\n",
    "        block = f\"\"\"**{idx}. {name}**\\n\"\"\"\n",
    "        for key in [\"Description\", \"Domain\", \"Eligibility\", \"Amount\", \"Deadline\", \"Procedure\", \"Contact\"]:\n",
    "            val = fields[key]\n",
    "            if val and \"not found\" not in str(val).lower():\n",
    "                block += f\"   - **{key}**: {val}\\n\"\n",
    "\n",
    "        if missing_fields:\n",
    "            block += f\"   - *Couldn't trace information about {', '.join(missing_fields)}.*\\n\"\n",
    "\n",
    "        if fields[\"URL\"]:\n",
    "            block += f\"   - **For more information visit**: {fields['URL']}\\n\"\n",
    "\n",
    "        formatted_blocks.append(block)\n",
    "\n",
    "    return \"\\n\".join(formatted_blocks)"
   ]
  },
  {
   "cell_type": "code",
   "execution_count": 10,
   "id": "e8bead4d",
   "metadata": {},
   "outputs": [
    {
     "name": "stdout",
     "output_type": "stream",
     "text": [
      "**1. MASTER 2nd Open Call**\n",
      "   - **Description**: MASTER supports projects that develop and validate innovative XR-based educational content for robotics training. The aim is to create practical training scenarios that promote the use of XR technologies in industrial robotics and give students and specialists access to modern learning tools.  Further information can be found here\n",
      "   - **Domain**: VR/XR\n",
      "   - **Eligibility**: Universities, research institutions, educational institutions, SMEs and large companies\n",
      "   - **Amount**: Up to 100,000 euros\n",
      "   - **Deadline**: June 12, 2025\n",
      "   - **For more information visit**: https://www.master-xr.eu/open-calls/open-call-2/\n",
      "\n",
      "**2. Promotion of interdisciplinary pilot projects on the topic of \"Neurobiologically inspired artificial intelligence\"**\n",
      "   - **Description**: Guideline for the funding of interdisciplinary pilot projects on the topic of \"Neurobiologically inspired artificial intelligence\" dated: 25.11.2024 Federal Ministry of Education and Research BAnz AT 04.12.2024 B5\n",
      "   - **Domain**: Research & Innovation (topic-specific)\n",
      "   - **Eligibility**: Research institution, university, company\n",
      "   - **Contact**: Name: DLR Projektträger, Email: ge@dlr.de, Phone: Tel: +49 0228 3821-1210, Address: 53227 Bonn\n",
      "   - **For more information visit**: https://www.foerderdatenbank.de/FDB/Content/DE/Foerderprogramm/Bund/BMBF/bmbf-neurobiologisch-inspirierte-ki.html\n",
      "\n",
      "**3. Funding for projects on the topic of \"Application of artificial intelligence (AI) in drug discovery\"**\n",
      "   - **Description**: Guideline for the funding of projects on the topic of \"Application of artificial intelligence (AI) in drug discovery\" dated: 19.02.2025 Federal Ministry of Education and Research BAnz AT 03.03.2025 B5\n",
      "   - **Domain**: Research & Innovation (topic-specific), Health & Social Affairs\n",
      "   - **Eligibility**: University, research institution, company, association/association\n",
      "   - **Contact**: Name: Projektträger Jülich (PtJ), Email: ptj@fz-juelich.de, Phone: Tel: +49 2461 61-2626, Address: 52425 Jülich\n",
      "   - **For more information visit**: https://www.foerderdatenbank.de/FDB/Content/DE/Foerderprogramm/Bund/BMBF/anwendung-ki-wirkstoffforschung.html\n",
      "\n",
      "**4. FORTIS 1st Open Call**\n",
      "   - **Description**: FORTIS supports projects that develop innovative solutions for safe, trustworthy and efficient human-robot interaction in industrial applications. The focus is on the integration of multimodal communication methods and digital twins to optimize collaboration between humans and robots in areas such as construction, maintenance and logistics. The aim is to promote practical technologies that improve interaction and increase productivity. Further information can be found here\n",
      "   - **Domain**: Human-robot interaction (HRI), multimodal communication, digital twins\n",
      "   - **Eligibility**: Consortia of 2-3 organizations: Start-ups, SMEs, mid-caps, research institutions, universities\n",
      "   - **Amount**: Up to 250,000 euros\n",
      "   - **Deadline**: June 04, 2025\n",
      "   - **For more information visit**: https://fortis-project.eu/open-call-1/\n",
      "\n",
      "**5. Funding of collaborative research projects in the fields of \"software and algorithms with a focus on artificial intelligence and machine learning\", \"research data management\" and \"federated digital infrastructures\" for the exploration of the universe and matter (ErUM)**\n",
      "   - **Description**: Directive on the funding of collaborative research projects in the fields of \"Software and algorithms with a focus on artificial intelligence and machine learning\", \"Research data management\" and \"Federated digital infrastructures\" for the exploration of the universe and matter (ErUM) of 30.09.2024\n",
      "   - **Domain**: Research & Innovation (topic-specific)\n",
      "   - **Eligibility**: Research institution, university, company\n",
      "   - **Contact**: Name: Projektträger DESY (PT.DESY), Email: pt@desy.de, Phone: Tel: +49 40 8998-3702, Address: 22607 Hamburg\n",
      "   - **For more information visit**: https://www.foerderdatenbank.de/FDB/Content/DE/Foerderprogramm/Bund/BMBF/software-algorithmen-ki-maschinelles-lernen.html\n",
      "\n"
     ]
    }
   ],
   "source": [
    "# %%\n",
    "# Create formatted funding output\n",
    "semantic_output = generate_structured_funding_blocks(semantic_matches[\"matches\"], query)\n",
    "print(semantic_output)"
   ]
  },
  {
   "cell_type": "code",
   "execution_count": 26,
   "id": "43a5f8dc",
   "metadata": {},
   "outputs": [],
   "source": [
    "\n",
    "# %%\n",
    "# Prepare prompt for Mistral\n",
    "llm_prompt = f\"\"\"\n",
    "The company described itself as:\n",
    "\n",
    "\"{query}\"\n",
    "\n",
    "Here are the top 5 most relevant public funding programs in Germany, based on a semantic search match to their needs:\n",
    "\n",
    "{semantic_output}\n",
    "\n",
    "Now:\n",
    "\n",
    "Please write a concise and professional recommendation containing **only the top 2–3 most relevant funding programs** in this format:\n",
    "\n",
    "Only select the top programs that most directly match the company’s domain, maturity stage (e.g., early-stage research), or funding needs. Ignore entries that are vague or poorly aligned.\n",
    "\n",
    "For each recommendation, follow this format exactly:\n",
    "\n",
    "1. <Program Name>  \n",
    "**Why it fits**: <Brief explanation why this program is suitable>  \n",
    "**Domain**: <Domain>  \n",
    "**Description**: <1–3 sentence summary of what the program funds and its focus>  \n",
    "**Eligibility**: <Eligibility>  \n",
    "**Amount**: <Amount>  \n",
    "**Deadline**: <Deadline>  \n",
    "**Contact**: <Contact> \n",
    "**Next Steps**:  \n",
    "- <Step 1> Visit the official call page: <Program URL>  \n",
    "- <Step 2> Provide one or two additional helpful steps based on available info (e.g., forming a consortium, preparing documents, contacting support, etc.)   \n",
    "- <Step 3> (Optional) Include any additional steps if mentioned in the procedure  \n",
    "\n",
    "If any field like **Amount**, **Deadline**, **Eligibility**, **Procedure**, or **Contact** is missing, either omit the line or say “Not specified”.\n",
    "\n",
    "Use simple bullet points under **Next Steps**. Only list the top 2 or 3 programs — not all 5.\n",
    "\"\"\"\n"
   ]
  },
  {
   "cell_type": "code",
   "execution_count": 27,
   "id": "78317657",
   "metadata": {},
   "outputs": [],
   "source": [
    "# # Save LLM prompt to a .txt file so it can be used by Ollama\n",
    "# with open(\"llm_prompt_mistral.txt\", \"w\") as f:\n",
    "#     f.write(llm_prompt)"
   ]
  },
  {
   "cell_type": "code",
   "execution_count": 28,
   "id": "c16c8ad8",
   "metadata": {},
   "outputs": [],
   "source": [
    "# %%\n",
    "# Run Mistral via Ollama\n",
    "response = ollama_client.chat(\n",
    "    model=\"mistral\",  # or llama3.2 if you prefer\n",
    "    messages=[\n",
    "        {\"role\": \"system\", \"content\": \"You are an expert in funding opportunities.\"},\n",
    "        {\"role\": \"user\", \"content\": llm_prompt}\n",
    "    ]\n",
    ")"
   ]
  },
  {
   "cell_type": "code",
   "execution_count": 29,
   "id": "00067223",
   "metadata": {},
   "outputs": [
    {
     "name": "stdout",
     "output_type": "stream",
     "text": [
      "\n",
      "🧾 Mistral Recommendation:\n",
      "\n",
      " 1. **MASTER 2nd Open Call**\n",
      "   - **Why it fits**: This program focuses on developing XR-based educational content for robotics training, which aligns with your company's focus on AI for robotics and research.\n",
      "   - **Domain**: VR/XR\n",
      "   - **Description**: Funding for innovative XR-based educational content in industrial robotics.\n",
      "   - **Eligibility**: Universities, research institutions, educational institutions, SMEs and large companies\n",
      "   - **Amount**: Up to 100,000 euros\n",
      "   - **Deadline**: June 12, 2025\n",
      "   - **Contact**: Not specified\n",
      "   - **Next Steps:**\n",
      "     - Visit the official call page: [MASTER 2nd Open Call](https://www.master-xr.eu/open-calls/open-call-2/)\n",
      "     - Prepare a compelling proposal that highlights how your research can contribute to practical learning tools in industrial robotics\n",
      "\n",
      "2. **FORTIS 1st Open Call**\n",
      "   - **Why it fits**: This program focuses on developing innovative solutions for safe, trustworthy and efficient human-robot interaction in industrial applications, which is directly related to your company's work on AI for robotics.\n",
      "   - **Domain**: Human-robot interaction (HRI), multimodal communication, digital twins\n",
      "   - **Description**: Funding for projects that develop solutions for safe and efficient human-robot interaction in industrial applications.\n",
      "   - **Eligibility**: Consortia of 2-3 organizations: Start-ups, SMEs, research institutions, universities\n",
      "   - **Amount**: Up to 250,000 euros\n",
      "   - **Deadline**: June 04, 2025\n",
      "   - **Contact**: Not specified\n",
      "   - **Next Steps:**\n",
      "     - Visit the official call page: [FORTIS 1st Open Call](https://fortis-project.eu/open-call-1/)\n",
      "     - Form a consortium with compatible organizations to increase chances of success\n",
      "     - Prepare a proposal that demonstrates your company's expertise in AI and robotics for human-robot interaction applications\n"
     ]
    }
   ],
   "source": [
    "# %%\n",
    "# Show LLM recommendation\n",
    "print(\"\\n🧾 Mistral Recommendation:\\n\")\n",
    "print(response['message']['content'])"
   ]
  },
  {
   "cell_type": "code",
   "execution_count": null,
   "id": "54c36cf9",
   "metadata": {},
   "outputs": [],
   "source": []
  }
 ],
 "metadata": {
  "kernelspec": {
   "display_name": ".venv",
   "language": "python",
   "name": "python3"
  },
  "language_info": {
   "codemirror_mode": {
    "name": "ipython",
    "version": 3
   },
   "file_extension": ".py",
   "mimetype": "text/x-python",
   "name": "python",
   "nbconvert_exporter": "python",
   "pygments_lexer": "ipython3",
   "version": "3.12.3"
  }
 },
 "nbformat": 4,
 "nbformat_minor": 5
}
