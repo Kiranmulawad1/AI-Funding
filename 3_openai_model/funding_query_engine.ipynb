{
 "cells": [
  {
   "cell_type": "markdown",
   "id": "d665fbe1",
   "metadata": {},
   "source": [
    "# 🤖 Unified Semantic Search: PDF Profile + CSV Funding + LLM Draft"
   ]
  },
  {
   "cell_type": "code",
   "execution_count": 16,
   "id": "98e6b697",
   "metadata": {},
   "outputs": [],
   "source": [
    "import sys\n",
    "!{sys.executable} -m pip install -q openai tiktoken python-dotenv tqdm pandas"
   ]
  },
  {
   "cell_type": "code",
   "execution_count": 17,
   "id": "6d95529a",
   "metadata": {},
   "outputs": [
    {
     "name": "stdout",
     "output_type": "stream",
     "text": [
      "\u001b[33mWARNING: Skipping pinecone-client as it is not installed.\u001b[0m\u001b[33m\n",
      "\u001b[0mFound existing installation: pinecone 7.3.0\n",
      "Uninstalling pinecone-7.3.0:\n",
      "  Successfully uninstalled pinecone-7.3.0\n",
      "Collecting pinecone\n",
      "  Using cached pinecone-7.3.0-py3-none-any.whl.metadata (9.5 kB)\n",
      "Requirement already satisfied: certifi>=2019.11.17 in /Users/kiranmulawad/AI-Funding/.venv/lib/python3.12/site-packages (from pinecone) (2025.7.14)\n",
      "Requirement already satisfied: pinecone-plugin-assistant<2.0.0,>=1.6.0 in /Users/kiranmulawad/AI-Funding/.venv/lib/python3.12/site-packages (from pinecone) (1.7.0)\n",
      "Requirement already satisfied: pinecone-plugin-interface<0.0.8,>=0.0.7 in /Users/kiranmulawad/AI-Funding/.venv/lib/python3.12/site-packages (from pinecone) (0.0.7)\n",
      "Requirement already satisfied: python-dateutil>=2.5.3 in /Users/kiranmulawad/AI-Funding/.venv/lib/python3.12/site-packages (from pinecone) (2.9.0.post0)\n",
      "Requirement already satisfied: typing-extensions>=3.7.4 in /Users/kiranmulawad/AI-Funding/.venv/lib/python3.12/site-packages (from pinecone) (4.14.1)\n",
      "Requirement already satisfied: urllib3>=1.26.5 in /Users/kiranmulawad/AI-Funding/.venv/lib/python3.12/site-packages (from pinecone) (2.5.0)\n",
      "Requirement already satisfied: packaging<25.0,>=24.2 in /Users/kiranmulawad/AI-Funding/.venv/lib/python3.12/site-packages (from pinecone-plugin-assistant<2.0.0,>=1.6.0->pinecone) (24.2)\n",
      "Requirement already satisfied: requests<3.0.0,>=2.32.3 in /Users/kiranmulawad/AI-Funding/.venv/lib/python3.12/site-packages (from pinecone-plugin-assistant<2.0.0,>=1.6.0->pinecone) (2.32.4)\n",
      "Requirement already satisfied: charset_normalizer<4,>=2 in /Users/kiranmulawad/AI-Funding/.venv/lib/python3.12/site-packages (from requests<3.0.0,>=2.32.3->pinecone-plugin-assistant<2.0.0,>=1.6.0->pinecone) (3.4.2)\n",
      "Requirement already satisfied: idna<4,>=2.5 in /Users/kiranmulawad/AI-Funding/.venv/lib/python3.12/site-packages (from requests<3.0.0,>=2.32.3->pinecone-plugin-assistant<2.0.0,>=1.6.0->pinecone) (3.10)\n",
      "Requirement already satisfied: six>=1.5 in /Users/kiranmulawad/AI-Funding/.venv/lib/python3.12/site-packages (from python-dateutil>=2.5.3->pinecone) (1.17.0)\n",
      "Using cached pinecone-7.3.0-py3-none-any.whl (587 kB)\n",
      "Installing collected packages: pinecone\n",
      "Successfully installed pinecone-7.3.0\n"
     ]
    }
   ],
   "source": [
    "import sys\n",
    "!{sys.executable} -m pip uninstall -y pinecone-client pinecone\n",
    "!{sys.executable} -m pip install pinecone"
   ]
  },
  {
   "cell_type": "code",
   "execution_count": 19,
   "id": "541cd03f",
   "metadata": {},
   "outputs": [
    {
     "name": "stdout",
     "output_type": "stream",
     "text": [
      "/Users/kiranmulawad/AI-Funding/.venv/bin/python\n",
      "langchain-pinecone        0.2.11\n",
      "pinecone                  7.3.0\n",
      "pinecone-plugin-assistant 1.7.0\n",
      "pinecone-plugin-interface 0.0.7\n"
     ]
    }
   ],
   "source": [
    "import sys\n",
    "print(sys.executable)\n",
    "!{sys.executable} -m pip list | grep pinecone\n"
   ]
  },
  {
   "cell_type": "code",
   "execution_count": 21,
   "id": "c6c5fa71",
   "metadata": {},
   "outputs": [],
   "source": [
    "import os\n",
    "import pandas as pd\n",
    "from dotenv import load_dotenv\n",
    "from openai import OpenAI\n",
    "import pinecone\n",
    "from tqdm import tqdm\n",
    "import fitz  # PyMuPDF\n",
    "from typing import List\n",
    "from IPython.display import display"
   ]
  },
  {
   "cell_type": "code",
   "execution_count": null,
   "id": "379e7a1b",
   "metadata": {},
   "outputs": [],
   "source": [
    "# # Load env variables\n",
    "# load_dotenv()\n",
    "# OPENAI_API_KEY = os.getenv(\"OPENAI_API_KEY\")\n",
    "# PINECONE_API_KEY = os.getenv(\"PINECONE_API_KEY\")\n",
    "# PINECONE_ENV = os.getenv(\"PINECONE_ENV\")\n",
    "# assert OPENAI_API_KEY and PINECONE_API_KEY and PINECONE_ENV"
   ]
  },
  {
   "cell_type": "code",
   "execution_count": null,
   "id": "80f107e6",
   "metadata": {},
   "outputs": [],
   "source": [
    "# # Init Pinecone + OpenAI\n",
    "# client = OpenAI(api_key=OPENAI_API_KEY)\n",
    "# pc = Pinecone(api_key=PINECONE_API_KEY)\n",
    "# index = pc.Index(\"funding-search\")"
   ]
  },
  {
   "cell_type": "code",
   "execution_count": 27,
   "id": "ad223ac7",
   "metadata": {},
   "outputs": [
    {
     "data": {
      "text/plain": [
       "True"
      ]
     },
     "execution_count": 27,
     "metadata": {},
     "output_type": "execute_result"
    }
   ],
   "source": [
    "# Load environment variables\n",
    "load_dotenv()"
   ]
  },
  {
   "cell_type": "code",
   "execution_count": 28,
   "id": "1d6b240d",
   "metadata": {},
   "outputs": [],
   "source": [
    "OPENAI_API_KEY = os.getenv(\"OPENAI_API_KEY\")\n",
    "PINECONE_API_KEY = os.getenv(\"PINECONE_API_KEY\")\n",
    "PINECONE_ENV = os.getenv(\"PINECONE_ENV\")\n",
    "assert OPENAI_API_KEY and PINECONE_API_KEY and PINECONE_ENV"
   ]
  },
  {
   "cell_type": "code",
   "execution_count": 29,
   "id": "dc3c2a23",
   "metadata": {},
   "outputs": [
    {
     "ename": "AttributeError",
     "evalue": "module 'pinecone' has no attribute 'init'",
     "output_type": "error",
     "traceback": [
      "\u001b[31m---------------------------------------------------------------------------\u001b[39m",
      "\u001b[31mAttributeError\u001b[39m                            Traceback (most recent call last)",
      "\u001b[36mCell\u001b[39m\u001b[36m \u001b[39m\u001b[32mIn[29]\u001b[39m\u001b[32m, line 5\u001b[39m\n\u001b[32m      2\u001b[39m client = OpenAI(api_key=OPENAI_API_KEY)\n\u001b[32m      4\u001b[39m \u001b[38;5;66;03m# Initialize Pinecone (new 7.x+ style)\u001b[39;00m\n\u001b[32m----> \u001b[39m\u001b[32m5\u001b[39m \u001b[43mpinecone\u001b[49m\u001b[43m.\u001b[49m\u001b[43minit\u001b[49m(api_key=PINECONE_API_KEY, environment=PINECONE_ENV)\n\u001b[32m      7\u001b[39m \u001b[38;5;66;03m# Connect to existing index or create it if needed\u001b[39;00m\n\u001b[32m      8\u001b[39m index = pinecone.Index(\u001b[33m\"\u001b[39m\u001b[33mfunding-search\u001b[39m\u001b[33m\"\u001b[39m)\n",
      "\u001b[31mAttributeError\u001b[39m: module 'pinecone' has no attribute 'init'"
     ]
    }
   ],
   "source": [
    "# Initialize OpenAI client\n",
    "client = OpenAI(api_key=OPENAI_API_KEY)\n",
    "\n",
    "# Initialize Pinecone (new 7.x+ style)\n",
    "pinecone.init(api_key=PINECONE_API_KEY, environment=PINECONE_ENV)\n",
    "\n",
    "# Connect to existing index or create it if needed\n",
    "index = pinecone.Index(\"funding-search\")"
   ]
  },
  {
   "cell_type": "code",
   "execution_count": 42,
   "id": "c24cce2b",
   "metadata": {},
   "outputs": [],
   "source": [
    "# # %%\n",
    "# # Extract PDF profile text\n",
    "# pdf_path = \"/Users/kiranmulawad/AI-Funding/3_openai_model/sample pdf profiles/sample_user_profile.pdf\"\n",
    "\n",
    "# def extract_text_from_pdf(pdf_path: str) -> str:\n",
    "#     doc = fitz.open(pdf_path)\n",
    "#     return \"\\n\".join([page.get_text() for page in doc])\n",
    "\n",
    "# pdf_text = extract_text_from_pdf(pdf_path)\n",
    "# print(\"✅ PDF Text Sample:\\n\", pdf_text[:500])"
   ]
  },
  {
   "cell_type": "code",
   "execution_count": 43,
   "id": "06f7e016",
   "metadata": {},
   "outputs": [],
   "source": [
    "# # %%\n",
    "# # Generate a query from the PDF profile\n",
    "# prompt = f\"\"\"You are an expert grant advisor. Based on the following user profile text, generate a single-sentence query to find relevant public funding in Germany:\n",
    "\n",
    "# Profile:\n",
    "# \\\"\\\"\\\"\n",
    "# {pdf_text[:2000]}\n",
    "# \\\"\\\"\\\"\n",
    "\n",
    "# Only output the query — do not include explanations or headers.\"\"\"\n",
    "\n",
    "# query_response = client.chat.completions.create(\n",
    "#     model=\"gpt-4\",\n",
    "#     messages=[\n",
    "#         {\"role\": \"system\", \"content\": \"You generate funding search queries from user descriptions.\"},\n",
    "#         {\"role\": \"user\", \"content\": prompt}\n",
    "#     ]\n",
    "# )\n",
    "\n",
    "# query = query_response.choices[0].message.content.strip()\n",
    "# print(\"📝 Auto-generated query:\", query)\n"
   ]
  },
  {
   "cell_type": "code",
   "execution_count": 4,
   "id": "43c4c7fc",
   "metadata": {},
   "outputs": [],
   "source": [
    "query = \"We are an AI company focused on AI for robotics. We are focusing on research right now.\""
   ]
  },
  {
   "cell_type": "code",
   "execution_count": 7,
   "id": "2a02878f",
   "metadata": {},
   "outputs": [
    {
     "ename": "AuthenticationError",
     "evalue": "Error code: 401 - {'error': {'message': 'Incorrect API key provided: sk-proj-********************************************************************************************************************************************************eFEA. You can find your API key at https://platform.openai.com/account/api-keys.', 'type': 'invalid_request_error', 'param': None, 'code': 'invalid_api_key'}}",
     "output_type": "error",
     "traceback": [
      "\u001b[31m---------------------------------------------------------------------------\u001b[39m",
      "\u001b[31mAuthenticationError\u001b[39m                       Traceback (most recent call last)",
      "\u001b[36mCell\u001b[39m\u001b[36m \u001b[39m\u001b[32mIn[7]\u001b[39m\u001b[32m, line 3\u001b[39m\n\u001b[32m      1\u001b[39m \u001b[38;5;66;03m# %%\u001b[39;00m\n\u001b[32m      2\u001b[39m \u001b[38;5;66;03m# Embed query\u001b[39;00m\n\u001b[32m----> \u001b[39m\u001b[32m3\u001b[39m query_embedding = \u001b[43mclient\u001b[49m\u001b[43m.\u001b[49m\u001b[43membeddings\u001b[49m\u001b[43m.\u001b[49m\u001b[43mcreate\u001b[49m\u001b[43m(\u001b[49m\n\u001b[32m      4\u001b[39m \u001b[43m    \u001b[49m\u001b[38;5;28;43minput\u001b[39;49m\u001b[43m=\u001b[49m\u001b[43m[\u001b[49m\u001b[43mquery\u001b[49m\u001b[43m]\u001b[49m\u001b[43m,\u001b[49m\n\u001b[32m      5\u001b[39m \u001b[43m    \u001b[49m\u001b[43mmodel\u001b[49m\u001b[43m=\u001b[49m\u001b[33;43m\"\u001b[39;49m\u001b[33;43mtext-embedding-3-small\u001b[39;49m\u001b[33;43m\"\u001b[39;49m\n\u001b[32m      6\u001b[39m \u001b[43m)\u001b[49m.data[\u001b[32m0\u001b[39m].embedding\n",
      "\u001b[36mFile \u001b[39m\u001b[32m~/AI-Funding/.venv/lib/python3.12/site-packages/openai/resources/embeddings.py:129\u001b[39m, in \u001b[36mEmbeddings.create\u001b[39m\u001b[34m(self, input, model, dimensions, encoding_format, user, extra_headers, extra_query, extra_body, timeout)\u001b[39m\n\u001b[32m    123\u001b[39m             embedding.embedding = np.frombuffer(  \u001b[38;5;66;03m# type: ignore[no-untyped-call]\u001b[39;00m\n\u001b[32m    124\u001b[39m                 base64.b64decode(data), dtype=\u001b[33m\"\u001b[39m\u001b[33mfloat32\u001b[39m\u001b[33m\"\u001b[39m\n\u001b[32m    125\u001b[39m             ).tolist()\n\u001b[32m    127\u001b[39m     \u001b[38;5;28;01mreturn\u001b[39;00m obj\n\u001b[32m--> \u001b[39m\u001b[32m129\u001b[39m \u001b[38;5;28;01mreturn\u001b[39;00m \u001b[38;5;28;43mself\u001b[39;49m\u001b[43m.\u001b[49m\u001b[43m_post\u001b[49m\u001b[43m(\u001b[49m\n\u001b[32m    130\u001b[39m \u001b[43m    \u001b[49m\u001b[33;43m\"\u001b[39;49m\u001b[33;43m/embeddings\u001b[39;49m\u001b[33;43m\"\u001b[39;49m\u001b[43m,\u001b[49m\n\u001b[32m    131\u001b[39m \u001b[43m    \u001b[49m\u001b[43mbody\u001b[49m\u001b[43m=\u001b[49m\u001b[43mmaybe_transform\u001b[49m\u001b[43m(\u001b[49m\u001b[43mparams\u001b[49m\u001b[43m,\u001b[49m\u001b[43m \u001b[49m\u001b[43membedding_create_params\u001b[49m\u001b[43m.\u001b[49m\u001b[43mEmbeddingCreateParams\u001b[49m\u001b[43m)\u001b[49m\u001b[43m,\u001b[49m\n\u001b[32m    132\u001b[39m \u001b[43m    \u001b[49m\u001b[43moptions\u001b[49m\u001b[43m=\u001b[49m\u001b[43mmake_request_options\u001b[49m\u001b[43m(\u001b[49m\n\u001b[32m    133\u001b[39m \u001b[43m        \u001b[49m\u001b[43mextra_headers\u001b[49m\u001b[43m=\u001b[49m\u001b[43mextra_headers\u001b[49m\u001b[43m,\u001b[49m\n\u001b[32m    134\u001b[39m \u001b[43m        \u001b[49m\u001b[43mextra_query\u001b[49m\u001b[43m=\u001b[49m\u001b[43mextra_query\u001b[49m\u001b[43m,\u001b[49m\n\u001b[32m    135\u001b[39m \u001b[43m        \u001b[49m\u001b[43mextra_body\u001b[49m\u001b[43m=\u001b[49m\u001b[43mextra_body\u001b[49m\u001b[43m,\u001b[49m\n\u001b[32m    136\u001b[39m \u001b[43m        \u001b[49m\u001b[43mtimeout\u001b[49m\u001b[43m=\u001b[49m\u001b[43mtimeout\u001b[49m\u001b[43m,\u001b[49m\n\u001b[32m    137\u001b[39m \u001b[43m        \u001b[49m\u001b[43mpost_parser\u001b[49m\u001b[43m=\u001b[49m\u001b[43mparser\u001b[49m\u001b[43m,\u001b[49m\n\u001b[32m    138\u001b[39m \u001b[43m    \u001b[49m\u001b[43m)\u001b[49m\u001b[43m,\u001b[49m\n\u001b[32m    139\u001b[39m \u001b[43m    \u001b[49m\u001b[43mcast_to\u001b[49m\u001b[43m=\u001b[49m\u001b[43mCreateEmbeddingResponse\u001b[49m\u001b[43m,\u001b[49m\n\u001b[32m    140\u001b[39m \u001b[43m\u001b[49m\u001b[43m)\u001b[49m\n",
      "\u001b[36mFile \u001b[39m\u001b[32m~/AI-Funding/.venv/lib/python3.12/site-packages/openai/_base_client.py:1249\u001b[39m, in \u001b[36mSyncAPIClient.post\u001b[39m\u001b[34m(self, path, cast_to, body, options, files, stream, stream_cls)\u001b[39m\n\u001b[32m   1235\u001b[39m \u001b[38;5;28;01mdef\u001b[39;00m\u001b[38;5;250m \u001b[39m\u001b[34mpost\u001b[39m(\n\u001b[32m   1236\u001b[39m     \u001b[38;5;28mself\u001b[39m,\n\u001b[32m   1237\u001b[39m     path: \u001b[38;5;28mstr\u001b[39m,\n\u001b[32m   (...)\u001b[39m\u001b[32m   1244\u001b[39m     stream_cls: \u001b[38;5;28mtype\u001b[39m[_StreamT] | \u001b[38;5;28;01mNone\u001b[39;00m = \u001b[38;5;28;01mNone\u001b[39;00m,\n\u001b[32m   1245\u001b[39m ) -> ResponseT | _StreamT:\n\u001b[32m   1246\u001b[39m     opts = FinalRequestOptions.construct(\n\u001b[32m   1247\u001b[39m         method=\u001b[33m\"\u001b[39m\u001b[33mpost\u001b[39m\u001b[33m\"\u001b[39m, url=path, json_data=body, files=to_httpx_files(files), **options\n\u001b[32m   1248\u001b[39m     )\n\u001b[32m-> \u001b[39m\u001b[32m1249\u001b[39m     \u001b[38;5;28;01mreturn\u001b[39;00m cast(ResponseT, \u001b[38;5;28;43mself\u001b[39;49m\u001b[43m.\u001b[49m\u001b[43mrequest\u001b[49m\u001b[43m(\u001b[49m\u001b[43mcast_to\u001b[49m\u001b[43m,\u001b[49m\u001b[43m \u001b[49m\u001b[43mopts\u001b[49m\u001b[43m,\u001b[49m\u001b[43m \u001b[49m\u001b[43mstream\u001b[49m\u001b[43m=\u001b[49m\u001b[43mstream\u001b[49m\u001b[43m,\u001b[49m\u001b[43m \u001b[49m\u001b[43mstream_cls\u001b[49m\u001b[43m=\u001b[49m\u001b[43mstream_cls\u001b[49m\u001b[43m)\u001b[49m)\n",
      "\u001b[36mFile \u001b[39m\u001b[32m~/AI-Funding/.venv/lib/python3.12/site-packages/openai/_base_client.py:1037\u001b[39m, in \u001b[36mSyncAPIClient.request\u001b[39m\u001b[34m(self, cast_to, options, stream, stream_cls)\u001b[39m\n\u001b[32m   1034\u001b[39m             err.response.read()\n\u001b[32m   1036\u001b[39m         log.debug(\u001b[33m\"\u001b[39m\u001b[33mRe-raising status error\u001b[39m\u001b[33m\"\u001b[39m)\n\u001b[32m-> \u001b[39m\u001b[32m1037\u001b[39m         \u001b[38;5;28;01mraise\u001b[39;00m \u001b[38;5;28mself\u001b[39m._make_status_error_from_response(err.response) \u001b[38;5;28;01mfrom\u001b[39;00m\u001b[38;5;250m \u001b[39m\u001b[38;5;28;01mNone\u001b[39;00m\n\u001b[32m   1039\u001b[39m     \u001b[38;5;28;01mbreak\u001b[39;00m\n\u001b[32m   1041\u001b[39m \u001b[38;5;28;01massert\u001b[39;00m response \u001b[38;5;129;01mis\u001b[39;00m \u001b[38;5;129;01mnot\u001b[39;00m \u001b[38;5;28;01mNone\u001b[39;00m, \u001b[33m\"\u001b[39m\u001b[33mcould not resolve response (should never happen)\u001b[39m\u001b[33m\"\u001b[39m\n",
      "\u001b[31mAuthenticationError\u001b[39m: Error code: 401 - {'error': {'message': 'Incorrect API key provided: sk-proj-********************************************************************************************************************************************************eFEA. You can find your API key at https://platform.openai.com/account/api-keys.', 'type': 'invalid_request_error', 'param': None, 'code': 'invalid_api_key'}}"
     ]
    }
   ],
   "source": [
    "# %%\n",
    "# Embed query\n",
    "query_embedding = client.embeddings.create(\n",
    "    input=[query],\n",
    "    model=\"text-embedding-3-small\"\n",
    ").data[0].embedding"
   ]
  },
  {
   "cell_type": "code",
   "execution_count": 46,
   "id": "a98293ab",
   "metadata": {},
   "outputs": [],
   "source": [
    "# %%\n",
    "# 🔍 Query CSV-based funding vectors\n",
    "semantic_matches = index.query(\n",
    "    vector=query_embedding,\n",
    "    top_k=5,\n",
    "    include_metadata=True,\n",
    "    namespace=\"openai-v3\"\n",
    ")"
   ]
  },
  {
   "cell_type": "code",
   "execution_count": 47,
   "id": "62adb9e3",
   "metadata": {},
   "outputs": [],
   "source": [
    "matches = [match[\"metadata\"] for match in semantic_matches[\"matches\"]]\n",
    "funding_results_df = pd.DataFrame(matches)"
   ]
  },
  {
   "cell_type": "code",
   "execution_count": 48,
   "id": "15af331b",
   "metadata": {},
   "outputs": [],
   "source": [
    "desired_order = [\n",
    "    \"name\", \"description\", \"domain\", \"eligibility\", \"amount\",\n",
    "    \"deadline\", \"url\", \"id\"\n",
    "]\n",
    "\n",
    "# Reorder the DataFrame\n",
    "funding_results_df = funding_results_df[desired_order]"
   ]
  },
  {
   "cell_type": "code",
   "execution_count": 49,
   "id": "f3125f02",
   "metadata": {},
   "outputs": [
    {
     "data": {
      "text/html": [
       "<div>\n",
       "<style scoped>\n",
       "    .dataframe tbody tr th:only-of-type {\n",
       "        vertical-align: middle;\n",
       "    }\n",
       "\n",
       "    .dataframe tbody tr th {\n",
       "        vertical-align: top;\n",
       "    }\n",
       "\n",
       "    .dataframe thead th {\n",
       "        text-align: right;\n",
       "    }\n",
       "</style>\n",
       "<table border=\"1\" class=\"dataframe\">\n",
       "  <thead>\n",
       "    <tr style=\"text-align: right;\">\n",
       "      <th></th>\n",
       "      <th>name</th>\n",
       "      <th>description</th>\n",
       "      <th>domain</th>\n",
       "      <th>eligibility</th>\n",
       "      <th>amount</th>\n",
       "      <th>deadline</th>\n",
       "      <th>url</th>\n",
       "      <th>id</th>\n",
       "    </tr>\n",
       "  </thead>\n",
       "  <tbody>\n",
       "    <tr>\n",
       "      <th>0</th>\n",
       "      <td>AIRISE Open Call</td>\n",
       "      <td>AIRISE supports SMEs and mid-caps in the imple...</td>\n",
       "      <td>AI in production</td>\n",
       "      <td>SMEs and mid-caps</td>\n",
       "      <td>Up to 60,000 euros</td>\n",
       "      <td>July 16, 2025</td>\n",
       "      <td>https://airise.eu/calls</td>\n",
       "      <td>0965271e1a6f6f68548db796c1e7c80d</td>\n",
       "    </tr>\n",
       "    <tr>\n",
       "      <th>1</th>\n",
       "      <td>Funding for projects on the topic of \"Applicat...</td>\n",
       "      <td>Guideline for the funding of projects on the t...</td>\n",
       "      <td>Research &amp; Innovation (topic-specific), Health...</td>\n",
       "      <td>University, research institution, company, ass...</td>\n",
       "      <td>amount information not found</td>\n",
       "      <td>deadline information not found</td>\n",
       "      <td>https://www.foerderdatenbank.de/FDB/Content/DE...</td>\n",
       "      <td>cd21459049ca19b22a72fffcda329c79</td>\n",
       "    </tr>\n",
       "    <tr>\n",
       "      <th>2</th>\n",
       "      <td>FORTIS 1st Open Call</td>\n",
       "      <td>FORTIS supports projects that develop innovati...</td>\n",
       "      <td>Human-robot interaction (HRI), multimodal comm...</td>\n",
       "      <td>Consortia of 2-3 organizations: Start-ups, SME...</td>\n",
       "      <td>Up to 250,000 euros</td>\n",
       "      <td>June 04, 2025</td>\n",
       "      <td>https://fortis-project.eu/open-call-1/</td>\n",
       "      <td>bd4c4d243afbba1223855b5ab41181a9</td>\n",
       "    </tr>\n",
       "    <tr>\n",
       "      <th>3</th>\n",
       "      <td>Promotion of interdisciplinary pilot projects ...</td>\n",
       "      <td>Guideline for the funding of interdisciplinary...</td>\n",
       "      <td>Research &amp; Innovation (topic-specific)</td>\n",
       "      <td>Research institution, university, company</td>\n",
       "      <td>amount information not found</td>\n",
       "      <td>deadline information not found</td>\n",
       "      <td>https://www.foerderdatenbank.de/FDB/Content/DE...</td>\n",
       "      <td>7f11351b7489d381f3c2e474b06d25eb</td>\n",
       "    </tr>\n",
       "    <tr>\n",
       "      <th>4</th>\n",
       "      <td>MASTER 2nd Open Call</td>\n",
       "      <td>MASTER supports projects that develop and vali...</td>\n",
       "      <td>VR/XR</td>\n",
       "      <td>Universities, research institutions, education...</td>\n",
       "      <td>Up to 100,000 euros</td>\n",
       "      <td>June 12, 2025</td>\n",
       "      <td>https://www.master-xr.eu/open-calls/open-call-2/</td>\n",
       "      <td>b0e5c199bfa519c5a1d8c452edd92901</td>\n",
       "    </tr>\n",
       "  </tbody>\n",
       "</table>\n",
       "</div>"
      ],
      "text/plain": [
       "                                                name  \\\n",
       "0                                   AIRISE Open Call   \n",
       "1  Funding for projects on the topic of \"Applicat...   \n",
       "2                               FORTIS 1st Open Call   \n",
       "3  Promotion of interdisciplinary pilot projects ...   \n",
       "4                               MASTER 2nd Open Call   \n",
       "\n",
       "                                         description  \\\n",
       "0  AIRISE supports SMEs and mid-caps in the imple...   \n",
       "1  Guideline for the funding of projects on the t...   \n",
       "2  FORTIS supports projects that develop innovati...   \n",
       "3  Guideline for the funding of interdisciplinary...   \n",
       "4  MASTER supports projects that develop and vali...   \n",
       "\n",
       "                                              domain  \\\n",
       "0                                   AI in production   \n",
       "1  Research & Innovation (topic-specific), Health...   \n",
       "2  Human-robot interaction (HRI), multimodal comm...   \n",
       "3             Research & Innovation (topic-specific)   \n",
       "4                                              VR/XR   \n",
       "\n",
       "                                         eligibility  \\\n",
       "0                                  SMEs and mid-caps   \n",
       "1  University, research institution, company, ass...   \n",
       "2  Consortia of 2-3 organizations: Start-ups, SME...   \n",
       "3          Research institution, university, company   \n",
       "4  Universities, research institutions, education...   \n",
       "\n",
       "                         amount                        deadline  \\\n",
       "0            Up to 60,000 euros                   July 16, 2025   \n",
       "1  amount information not found  deadline information not found   \n",
       "2           Up to 250,000 euros                   June 04, 2025   \n",
       "3  amount information not found  deadline information not found   \n",
       "4           Up to 100,000 euros                   June 12, 2025   \n",
       "\n",
       "                                                 url  \\\n",
       "0                            https://airise.eu/calls   \n",
       "1  https://www.foerderdatenbank.de/FDB/Content/DE...   \n",
       "2             https://fortis-project.eu/open-call-1/   \n",
       "3  https://www.foerderdatenbank.de/FDB/Content/DE...   \n",
       "4   https://www.master-xr.eu/open-calls/open-call-2/   \n",
       "\n",
       "                                 id  \n",
       "0  0965271e1a6f6f68548db796c1e7c80d  \n",
       "1  cd21459049ca19b22a72fffcda329c79  \n",
       "2  bd4c4d243afbba1223855b5ab41181a9  \n",
       "3  7f11351b7489d381f3c2e474b06d25eb  \n",
       "4  b0e5c199bfa519c5a1d8c452edd92901  "
      ]
     },
     "metadata": {},
     "output_type": "display_data"
    }
   ],
   "source": [
    "display(funding_results_df)"
   ]
  },
  {
   "cell_type": "code",
   "execution_count": null,
   "id": "ba8d8e7d",
   "metadata": {},
   "outputs": [],
   "source": [
    "def generate_structured_funding_blocks(matches, user_query: str) -> str:\n",
    "    formatted_blocks = []\n",
    "\n",
    "    field_aliases = {\n",
    "        \"Amount\": [\"amount\", \"how much\", \"funding\", \"money\"],\n",
    "        \"Deadline\": [\"deadline\", \"last date\", \"until\", \"submission date\"],\n",
    "        \"Eligibility\": [\"eligible\", \"eligibility\", \"who can apply\"],\n",
    "        \"Procedure\": [\"procedure\", \"how to apply\", \"application\", \"steps\", \"process\"],\n",
    "        \"Contact\": [\"contact\", \"email\", \"person\", \"support\"],\n",
    "    }\n",
    "\n",
    "    for idx, match in enumerate(matches, start=1):\n",
    "        meta = match[\"metadata\"]\n",
    "        name = meta.get(\"name\", \"Unnamed\")\n",
    "\n",
    "        # Extract all fields\n",
    "        fields = {\n",
    "            \"Description\": meta.get(\"description\"),\n",
    "            \"Domain\": meta.get(\"domain\"),\n",
    "            \"Eligibility\": meta.get(\"eligibility\"),\n",
    "            \"Amount\": meta.get(\"amount\"),\n",
    "            \"Deadline\": meta.get(\"deadline\"),\n",
    "            \"Procedure\": meta.get(\"procedure\"),\n",
    "            \"Contact\": meta.get(\"contact\"),\n",
    "            \"URL\": meta.get(\"url\"),\n",
    "        }\n",
    "\n",
    "        # Detect missing fields user asked about\n",
    "        missing_fields = []\n",
    "        for key, value in fields.items():\n",
    "            if key in field_aliases:\n",
    "                if any(alias in user_query.lower() for alias in field_aliases[key]):\n",
    "                    if not value or \"not found\" in str(value).lower():\n",
    "                        missing_fields.append(key)\n",
    "\n",
    "        # Start formatting block\n",
    "        block = f\"\"\"**{idx}. {name}**\\n\"\"\"\n",
    "        for key in [\"Description\", \"Domain\", \"Eligibility\", \"Amount\", \"Deadline\", \"Procedure\", \"Contact\"]:\n",
    "            val = fields[key]\n",
    "            if val and \"not found\" not in str(val).lower():\n",
    "                block += f\"   - **{key}**: {val}\\n\"\n",
    "\n",
    "        # Add missing info statement if needed\n",
    "        if missing_fields:\n",
    "            block += f\"   - *Couldn't trace information about {', '.join(missing_fields)}.*\\n\"\n",
    "\n",
    "        # Add URL\n",
    "        if fields[\"URL\"]:\n",
    "            block += f\"   - **For more information visit**: {fields['URL']}\\n\"\n",
    "\n",
    "        formatted_blocks.append(block)\n",
    "\n",
    "    return \"\\n\".join(formatted_blocks)\n"
   ]
  },
  {
   "cell_type": "code",
   "execution_count": null,
   "id": "23bda877",
   "metadata": {},
   "outputs": [
    {
     "name": "stdout",
     "output_type": "stream",
     "text": [
      "**1. AIRISE Open Call**\n",
      "   - **Description**: AIRISE supports SMEs and mid-caps in the implementation and scaling of AI solutions in manufacturing. The Open Calls are aimed at companies that are either conducting their first AI experiments or want to bring existing applications to a higher level of maturity (TRL). Funding is available for projects in areas such as design & engineering, process monitoring, manufacturing operations, supply chain, cyber security and training Further information can be found here\n",
      "   - **Domain**: AI in production\n",
      "   - **Eligibility**: SMEs and mid-caps\n",
      "   - **Amount**: Up to 60,000 euros\n",
      "   - **Deadline**: July 16, 2025\n",
      "   - **Link**: https://airise.eu/calls\n",
      "   - **For more information, visit**: https://airise.eu/calls\n",
      "\n",
      "**2. Funding for projects on the topic of \"Application of artificial intelligence (AI) in drug discovery\"**\n",
      "   - **Description**: Guideline for the funding of projects on the topic of \"Application of artificial intelligence (AI) in drug discovery\" dated: 19.02.2025 Federal Ministry of Education and Research BAnz AT 03.03.2025 B5\n",
      "   - **Domain**: Research & Innovation (topic-specific), Health & Social Affairs\n",
      "   - **Eligibility**: University, research institution, company, association/association\n",
      "   - **Amount**: amount information not found\n",
      "   - **Deadline**: deadline information not found\n",
      "   - **Link**: https://www.foerderdatenbank.de/FDB/Content/DE/Foerderprogramm/Bund/BMBF/anwendung-ki-wirkstoffforschung.html\n",
      "   - **For more information, visit**: https://www.foerderdatenbank.de/FDB/Content/DE/Foerderprogramm/Bund/BMBF/anwendung-ki-wirkstoffforschung.html\n",
      "\n",
      "**3. FORTIS 1st Open Call**\n",
      "   - **Description**: FORTIS supports projects that develop innovative solutions for safe, trustworthy and efficient human-robot interaction in industrial applications. The focus is on the integration of multimodal communication methods and digital twins to optimize collaboration between humans and robots in areas such as construction, maintenance and logistics. The aim is to promote practical technologies that improve interaction and increase productivity. Further information can be found here\n",
      "   - **Domain**: Human-robot interaction (HRI), multimodal communication, digital twins\n",
      "   - **Eligibility**: Consortia of 2-3 organizations: Start-ups, SMEs, mid-caps, research institutions, universities\n",
      "   - **Amount**: Up to 250,000 euros\n",
      "   - **Deadline**: June 04, 2025\n",
      "   - **Link**: https://fortis-project.eu/open-call-1/\n",
      "   - **For more information, visit**: https://fortis-project.eu/open-call-1/\n",
      "\n",
      "**4. Promotion of interdisciplinary pilot projects on the topic of \"Neurobiologically inspired artificial intelligence\"**\n",
      "   - **Description**: Guideline for the funding of interdisciplinary pilot projects on the topic of \"Neurobiologically inspired artificial intelligence\" dated: 25.11.2024 Federal Ministry of Education and Research BAnz AT 04.12.2024 B5\n",
      "   - **Domain**: Research & Innovation (topic-specific)\n",
      "   - **Eligibility**: Research institution, university, company\n",
      "   - **Amount**: amount information not found\n",
      "   - **Deadline**: deadline information not found\n",
      "   - **Link**: https://www.foerderdatenbank.de/FDB/Content/DE/Foerderprogramm/Bund/BMBF/bmbf-neurobiologisch-inspirierte-ki.html\n",
      "   - **For more information, visit**: https://www.foerderdatenbank.de/FDB/Content/DE/Foerderprogramm/Bund/BMBF/bmbf-neurobiologisch-inspirierte-ki.html\n",
      "\n",
      "**5. MASTER 2nd Open Call**\n",
      "   - **Description**: MASTER supports projects that develop and validate innovative XR-based educational content for robotics training. The aim is to create practical training scenarios that promote the use of XR technologies in industrial robotics and give students and specialists access to modern learning tools.  Further information can be found here\n",
      "   - **Domain**: VR/XR\n",
      "   - **Eligibility**: Universities, research institutions, educational institutions, SMEs and large companies\n",
      "   - **Amount**: Up to 100,000 euros\n",
      "   - **Deadline**: June 12, 2025\n",
      "   - **Link**: https://www.master-xr.eu/open-calls/open-call-2/\n",
      "   - **For more information, visit**: https://www.master-xr.eu/open-calls/open-call-2/\n"
     ]
    }
   ],
   "source": [
    "semantic_output = generate_structured_funding_blocks(semantic_matches[\"matches\"], query)\n",
    "print(semantic_output)"
   ]
  },
  {
   "cell_type": "code",
   "execution_count": null,
   "id": "95c729db",
   "metadata": {},
   "outputs": [],
   "source": [
    "top_matches = [\n",
    "    generate_structured_funding_blocks([match]) for match in semantic_matches[\"matches\"]\n",
    "]"
   ]
  },
  {
   "cell_type": "code",
   "execution_count": null,
   "id": "6ddfb531",
   "metadata": {},
   "outputs": [],
   "source": [
    "# llm_prompt = f\"\"\"\n",
    "# The company described itself as:\n",
    "\n",
    "# \"{query}\"\n",
    "\n",
    "# Here are the top 5 most relevant public funding programs in Germany, based on a semantic search match to their needs:\n",
    "\n",
    "# {semantic_output}\n",
    "\n",
    "# Now:\n",
    "\n",
    "# Please write a concise and professional recommendation containing **only the top 2–3 most relevant funding programs** in this format:\n",
    "\n",
    "# For each recommendation, follow this format exactly:\n",
    "\n",
    "# 1. <Program Name>  \n",
    "# Why it fits: <1–2 lines explaining relevance to the company’s domain (or) industry (or) field of work>  \n",
    "# **Description**: <1–3 sentence summary of what the program funds and its focus>  \n",
    "# **Eligibility**: <Eligibility>  \n",
    "# **Amount**: <Amount>  \n",
    "# **Deadline**: <Deadline>  \n",
    "# **Next Steps**:  \n",
    "# - <Step 1> Visit the official call page: <Program URL>   \n",
    "# - <Step 2> Refer procedures and guidelines \n",
    "# - <Step 3 (if needed)>   \n",
    "\n",
    "# Use simple bullet points under **Next Steps**. Only list the top 2 or 3 programs — not all 5.\n",
    "# \"\"\"\n"
   ]
  },
  {
   "cell_type": "code",
   "execution_count": null,
   "id": "c6d5e8d8",
   "metadata": {},
   "outputs": [],
   "source": [
    "# response = client.chat.completions.create(\n",
    "#     model=\"gpt-4-turbo\",\n",
    "#     messages=[\n",
    "#         {\"role\": \"system\", \"content\": \"You are a startup funding advisor in Germany.\"},\n",
    "#         {\"role\": \"user\", \"content\": llm_prompt}\n",
    "#     ]\n",
    "# )"
   ]
  },
  {
   "cell_type": "code",
   "execution_count": null,
   "id": "dc396b59",
   "metadata": {},
   "outputs": [
    {
     "name": "stdout",
     "output_type": "stream",
     "text": [
      "\n",
      "🧾 GPT Recommendation:\n",
      "\n",
      "1. **FORTIS 1st Open Call**  \n",
      "Why it fits: Directly targets innovative solutions for human-robot interaction, aligned with your focus on AI for robotics.  \n",
      "**Amount**: Up to 250,000 euros  \n",
      "**Deadline**: June 04, 2025  \n",
      "**Eligibility**: Consortia of 2-3 organizations: Start-ups, SMEs, mid-caps, research institutions, universities  \n",
      "**Description**: Focuses on developing technologies for enhancing productivity and interaction between humans and robots, integrating digital twins and multimodal communication in industry settings.  \n",
      "**Next Steps**:  \n",
      "- Visit the official call page: [FORTIS 1st Open Call](https://fortis-project.eu/open-call-1/)  \n",
      "- Consider forming or joining a consortium to apply.  \n",
      "- Review and prepare the required documentation for submission.\n",
      "\n",
      "2. **MASTER 2nd Open Call**  \n",
      "Why it fits: Supports the development of XR-based educational tools for robotics, beneficial for training purposes in AI-driven robotics fields.  \n",
      "**Amount**: Up to 100,000 euros  \n",
      "**Deadline**: June 12, 2025  \n",
      "**Eligibility**: Universities, research institutions, educational institutions, SMEs, and large companies  \n",
      "**Description**: The program supports the creation and validation of innovative XR-based educational content to enhance learning in industrial robotics using modern technologies.  \n",
      "**Next Steps**:  \n",
      "- Visit the official call page: [MASTER 2nd Open Call](https://www.master-xr.eu/open-calls/open-call-2/)  \n",
      "- Identify potential educational or technological partners for project collaboration.  \n",
      "- Prepare a proposal that outlines the innovative aspects of your XR-based educational tool.\n",
      "\n",
      "These programs align closely with your focus on AI in robotics and provide a substantial opportunity to fund and elevate your research and operational capabilities within the field.\n"
     ]
    }
   ],
   "source": [
    "# print(\"\\n🧾 GPT Recommendation:\\n\")\n",
    "# print(response.choices[0].message.content)"
   ]
  },
  {
   "cell_type": "code",
   "execution_count": null,
   "id": "27ca76e6",
   "metadata": {},
   "outputs": [
    {
     "ename": "NameError",
     "evalue": "name 'query' is not defined",
     "output_type": "error",
     "traceback": [
      "\u001b[31m---------------------------------------------------------------------------\u001b[39m",
      "\u001b[31mNameError\u001b[39m                                 Traceback (most recent call last)",
      "\u001b[36mCell\u001b[39m\u001b[36m \u001b[39m\u001b[32mIn[1]\u001b[39m\u001b[32m, line 4\u001b[39m\n\u001b[32m      1\u001b[39m llm_prompt = \u001b[33mf\u001b[39m\u001b[33m\"\"\"\u001b[39m\n\u001b[32m      2\u001b[39m \u001b[33mThe company described itself as:\u001b[39m\n\u001b[32m      3\u001b[39m \n\u001b[32m----> \u001b[39m\u001b[32m4\u001b[39m \u001b[33m\"\u001b[39m\u001b[38;5;132;01m{\u001b[39;00m\u001b[43mquery\u001b[49m\u001b[38;5;132;01m}\u001b[39;00m\u001b[33m\"\u001b[39m\n\u001b[32m      5\u001b[39m \n\u001b[32m      6\u001b[39m \u001b[33mHere are the top 5 most relevant public funding programs in Germany, based on a semantic search match to their needs:\u001b[39m\n\u001b[32m      7\u001b[39m \n\u001b[32m      8\u001b[39m \u001b[38;5;132;01m{\u001b[39;00msemantic_output\u001b[38;5;132;01m}\u001b[39;00m\n\u001b[32m      9\u001b[39m \n\u001b[32m     10\u001b[39m \u001b[33mNow:\u001b[39m\n\u001b[32m     11\u001b[39m \n\u001b[32m     12\u001b[39m \u001b[33mPlease write a concise and professional recommendation containing **only the top 2–3 most relevant funding programs** in this format:\u001b[39m\n\u001b[32m     13\u001b[39m \n\u001b[32m     14\u001b[39m \u001b[33mOnly select the top programs that most directly match the company’s domain, maturity stage (e.g., early-stage research), or funding needs. Ignore entries that are vague or poorly aligned.\u001b[39m\n\u001b[32m     15\u001b[39m \n\u001b[32m     16\u001b[39m \u001b[33mFor each recommendation, follow this format exactly:\u001b[39m\n\u001b[32m     17\u001b[39m \n\u001b[32m     18\u001b[39m \u001b[33m1. <Program Name>  \u001b[39m\n\u001b[32m     19\u001b[39m \u001b[33m**Why it fits**: <Brief explanation why this program is suitable>  \u001b[39m\n\u001b[32m     20\u001b[39m \u001b[33m**Domain**: <Domain>  \u001b[39m\n\u001b[32m     21\u001b[39m \u001b[33m**Description**: <1–3 sentence summary of what the program funds and its focus>  \u001b[39m\n\u001b[32m     22\u001b[39m \u001b[33m**Eligibility**: <Eligibility>  \u001b[39m\n\u001b[32m     23\u001b[39m \u001b[33m**Amount**: <Amount>  \u001b[39m\n\u001b[32m     24\u001b[39m \u001b[33m**Deadline**: <Deadline>  \u001b[39m\n\u001b[32m     25\u001b[39m \u001b[33m**Contact**: <Contact> \u001b[39m\n\u001b[32m     26\u001b[39m \u001b[33m**Next Steps**:  \u001b[39m\n\u001b[32m     27\u001b[39m \u001b[33m- <Step 1> Visit the official call page: <Program URL>  \u001b[39m\n\u001b[32m     28\u001b[39m \u001b[33m- <Step 2> Provide one or two additional helpful steps based on available info (e.g., forming a consortium, preparing documents, contacting support, etc.)   \u001b[39m\n\u001b[32m     29\u001b[39m \u001b[33m- <Step 3 (if needed)> \u001b[39m\n\u001b[32m     30\u001b[39m \n\u001b[32m     31\u001b[39m \u001b[33mIf any field like **Amount**, **Deadline**, **Eligibility**, **Procedure**, or **Contact** is missing, either omit the line or say “Not specified”.\u001b[39m\n\u001b[32m     32\u001b[39m \n\u001b[32m     33\u001b[39m \u001b[33mUse simple bullet points under **Next Steps**. Only list the top 2 or 3 programs — not all 5.\u001b[39m\n\u001b[32m     34\u001b[39m \u001b[33m\"\"\"\u001b[39m\n",
      "\u001b[31mNameError\u001b[39m: name 'query' is not defined"
     ]
    }
   ],
   "source": [
    "llm_prompt = f\"\"\"\n",
    "The company described itself as:\n",
    "\n",
    "\"{query}\"\n",
    "\n",
    "Here are the top 5 most relevant public funding programs in Germany, based on a semantic search match to their needs:\n",
    "\n",
    "{semantic_output}\n",
    "\n",
    "Now:\n",
    "\n",
    "Please write a concise and professional recommendation containing **only the top 2–3 most relevant funding programs** in this format:\n",
    "\n",
    "Only select the top programs that most directly match the company’s domain, maturity stage (e.g., early-stage research), or funding needs. Ignore entries that are vague or poorly aligned.\n",
    "\n",
    "For each recommendation, follow this format exactly:\n",
    "\n",
    "1. <Program Name>  \n",
    "Why it fits: <1–2 lines explaining relevance to the company’s domain (or) industry (or) field of work>  \n",
    "**Description**: <1–3 sentence summary of what the program funds and its focus>  \n",
    "**Eligibility**: <Eligibility>  \n",
    "**Amount**: <Amount>  \n",
    "**Deadline**: <Deadline>  \n",
    "**Contact**: <Contact person, email, or organization>  \n",
    "**Next Steps**:  \n",
    "- <Step 1> Visit the official call page: <Program URL>  \n",
    "- <Step 2> Review application procedures and eligibility guidelines  \n",
    "- <Step 3> (Optional) Include any additional steps if mentioned in the procedure  \n",
    "\n",
    "If any field like **Amount**, **Deadline**, **Eligibility**, **Procedure**, or **Contact** is missing, either omit the line or say “Not specified”.\n",
    "\n",
    "Use simple bullet points under **Next Steps**. Only list the top 2 or 3 programs — not all 5.\n",
    "\"\"\"\n"
   ]
  },
  {
   "cell_type": "code",
   "execution_count": null,
   "id": "2e6967de",
   "metadata": {},
   "outputs": [],
   "source": [
    "response = client.chat.completions.create(\n",
    "    model=\"gpt-4-turbo\",\n",
    "    messages=[\n",
    "        {\"role\": \"system\", \"content\": \"You are an expert in funding opportunities.\"},\n",
    "        {\"role\": \"user\", \"content\": llm_prompt}\n",
    "    ]\n",
    ")\n",
    "print(response.choices[0].message.content)\n"
   ]
  }
 ],
 "metadata": {
  "kernelspec": {
   "display_name": ".venv",
   "language": "python",
   "name": "python3"
  },
  "language_info": {
   "codemirror_mode": {
    "name": "ipython",
    "version": 3
   },
   "file_extension": ".py",
   "mimetype": "text/x-python",
   "name": "python",
   "nbconvert_exporter": "python",
   "pygments_lexer": "ipython3",
   "version": "3.12.3"
  }
 },
 "nbformat": 4,
 "nbformat_minor": 5
}
