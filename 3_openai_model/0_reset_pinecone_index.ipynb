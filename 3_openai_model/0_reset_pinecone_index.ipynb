{
 "cells": [
  {
   "cell_type": "code",
   "execution_count": 2,
   "id": "93591cd6",
   "metadata": {},
   "outputs": [],
   "source": [
    "!{sys.executable} -m pip install -q pinecone python-dotenv"
   ]
  },
  {
   "cell_type": "code",
   "execution_count": 2,
   "id": "7ea3829d",
   "metadata": {},
   "outputs": [],
   "source": [
    "# %%\n",
    "# Import libraries\n",
    "import os\n",
    "from dotenv import load_dotenv\n",
    "from pinecone import Pinecone, ServerlessSpec\n"
   ]
  },
  {
   "cell_type": "code",
   "execution_count": 3,
   "id": "34ae9064",
   "metadata": {},
   "outputs": [],
   "source": [
    "# %%\n",
    "# Load environment variables\n",
    "load_dotenv()\n",
    "PINECONE_API_KEY = os.getenv(\"PINECONE_API_KEY\")\n",
    "PINECONE_ENV = os.getenv(\"PINECONE_ENV\")\n",
    "assert PINECONE_API_KEY and PINECONE_ENV, \"❌ Missing Pinecone credentials!\"\n"
   ]
  },
  {
   "cell_type": "code",
   "execution_count": 4,
   "id": "0e909d15",
   "metadata": {},
   "outputs": [],
   "source": [
    "# %%\n",
    "# Initialize Pinecone client\n",
    "pc = Pinecone(api_key=PINECONE_API_KEY)\n",
    "index_name = \"funding-search\"\n"
   ]
  },
  {
   "cell_type": "code",
   "execution_count": 5,
   "id": "41d20944",
   "metadata": {},
   "outputs": [
    {
     "name": "stdout",
     "output_type": "stream",
     "text": [
      "🗑️ Deleted existing index: funding-search\n"
     ]
    }
   ],
   "source": [
    "# %%\n",
    "# Delete the old index if it exists\n",
    "if index_name in pc.list_indexes().names():\n",
    "    pc.delete_index(index_name)\n",
    "    print(f\"🗑️ Deleted existing index: {index_name}\")\n",
    "else:\n",
    "    print(f\"ℹ️ Index '{index_name}' does not exist yet.\")\n"
   ]
  },
  {
   "cell_type": "code",
   "execution_count": 6,
   "id": "f8144d44",
   "metadata": {},
   "outputs": [
    {
     "name": "stdout",
     "output_type": "stream",
     "text": [
      "✅ Recreated index 'funding-search' with dimension 1536.\n"
     ]
    }
   ],
   "source": [
    "# %%\n",
    "# Recreate the index with OpenAI-compatible dimension\n",
    "pc.create_index(\n",
    "    name=index_name,\n",
    "    dimension=1536,  # For OpenAI embeddings\n",
    "    metric=\"cosine\",\n",
    "    spec=ServerlessSpec(cloud=\"aws\", region=PINECONE_ENV)\n",
    ")\n",
    "print(f\"✅ Recreated index '{index_name}' with dimension 1536.\")\n"
   ]
  }
 ],
 "metadata": {
  "kernelspec": {
   "display_name": ".venv",
   "language": "python",
   "name": "python3"
  },
  "language_info": {
   "codemirror_mode": {
    "name": "ipython",
    "version": 3
   },
   "file_extension": ".py",
   "mimetype": "text/x-python",
   "name": "python",
   "nbconvert_exporter": "python",
   "pygments_lexer": "ipython3",
   "version": "3.12.3"
  }
 },
 "nbformat": 4,
 "nbformat_minor": 5
}
