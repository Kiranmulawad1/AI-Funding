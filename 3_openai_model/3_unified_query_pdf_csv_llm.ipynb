{
 "cells": [
  {
   "cell_type": "markdown",
   "id": "d665fbe1",
   "metadata": {},
   "source": [
    "# 🤖 Unified Semantic Search: PDF Profile + CSV Funding + LLM Draft"
   ]
  },
  {
   "cell_type": "markdown",
   "id": "bb4bb485",
   "metadata": {},
   "source": [
    "This notebook:\n",
    "- Embeds a user query from their PDF profile\n",
    "- Queries both Pinecone namespaces: `pdf-upload` and default (CSV funding)\n",
    "- Combines the results\n",
    "- Uses GPT to generate a summary + funding recommendations\n"
   ]
  },
  {
   "cell_type": "code",
   "execution_count": null,
   "id": "98e6b697",
   "metadata": {},
   "outputs": [],
   "source": [
    "# import sys\n",
    "# !{sys.executable} -m pip install -q openai pinecone tiktoken python-dotenv tqdm pandas"
   ]
  },
  {
   "cell_type": "code",
   "execution_count": 8,
   "id": "c6c5fa71",
   "metadata": {},
   "outputs": [],
   "source": [
    "import os\n",
    "import pandas as pd\n",
    "from dotenv import load_dotenv\n",
    "from openai import OpenAI\n",
    "from pinecone import Pinecone\n",
    "from tqdm import tqdm\n",
    "import fitz  # PyMuPDF\n",
    "import tiktoken\n",
    "from typing import List"
   ]
  },
  {
   "cell_type": "code",
   "execution_count": 9,
   "id": "379e7a1b",
   "metadata": {},
   "outputs": [],
   "source": [
    "# Load env variables\n",
    "load_dotenv()\n",
    "OPENAI_API_KEY = os.getenv(\"OPENAI_API_KEY\")\n",
    "PINECONE_API_KEY = os.getenv(\"PINECONE_API_KEY\")\n",
    "PINECONE_ENV = os.getenv(\"PINECONE_ENV\")\n",
    "assert OPENAI_API_KEY and PINECONE_API_KEY and PINECONE_ENV"
   ]
  },
  {
   "cell_type": "code",
   "execution_count": 10,
   "id": "80f107e6",
   "metadata": {},
   "outputs": [],
   "source": [
    "# Init Pinecone + OpenAI\n",
    "client = OpenAI(api_key=OPENAI_API_KEY)\n",
    "pc = Pinecone(api_key=PINECONE_API_KEY)\n",
    "index = pc.Index(\"funding-search\")"
   ]
  },
  {
   "cell_type": "code",
   "execution_count": 11,
   "id": "c24cce2b",
   "metadata": {},
   "outputs": [
    {
     "name": "stdout",
     "output_type": "stream",
     "text": [
      "✅ PDF Text Sample:\n",
      " Company Name: RoboAI Solutions\n",
      "Industry: Artificial Intelligence, Robotics\n",
      "Location: Rhineland-Palatinate, Germany\n",
      "Company Description:\n",
      "RoboAI Solutions is a startup focused on the intersection of artificial intelligence and robotics. We\n",
      "are currently in the early research and prototyping phase for developing intelligent control systems\n",
      "for industrial robots.\n",
      "Goals:\n",
      "- Advance AI-based robotic systems for automation\n",
      "- Collaborate with academic institutions\n",
      "- Apply for regional and national fundin\n"
     ]
    }
   ],
   "source": [
    "# %%\n",
    "# Extract PDF profile text\n",
    "pdf_path = \"/Users/kiranmulawad/AI-Funding/openai_model/sample_user_profile.pdf\"\n",
    "\n",
    "def extract_text_from_pdf(pdf_path: str) -> str:\n",
    "    doc = fitz.open(pdf_path)\n",
    "    return \"\\n\".join([page.get_text() for page in doc])\n",
    "\n",
    "pdf_text = extract_text_from_pdf(pdf_path)\n",
    "print(\"✅ PDF Text Sample:\\n\", pdf_text[:500])"
   ]
  },
  {
   "cell_type": "code",
   "execution_count": 12,
   "id": "06f7e016",
   "metadata": {},
   "outputs": [
    {
     "name": "stdout",
     "output_type": "stream",
     "text": [
      "📝 Auto-generated query: \"Public funding for Artificial Intelligence and Robotics research in Rhineland-Palatinate, Germany\"\n"
     ]
    }
   ],
   "source": [
    "# %%\n",
    "# Generate a query from the PDF profile\n",
    "prompt = f\"\"\"You are an expert grant advisor. Based on the following user profile text, generate a single-sentence query to find relevant public funding in Germany:\n",
    "\n",
    "Profile:\n",
    "\\\"\\\"\\\"\n",
    "{pdf_text[:2000]}\n",
    "\\\"\\\"\\\"\n",
    "\n",
    "Only output the query — do not include explanations or headers.\"\"\"\n",
    "\n",
    "query_response = client.chat.completions.create(\n",
    "    model=\"gpt-4\",\n",
    "    messages=[\n",
    "        {\"role\": \"system\", \"content\": \"You generate funding search queries from user descriptions.\"},\n",
    "        {\"role\": \"user\", \"content\": prompt}\n",
    "    ]\n",
    ")\n",
    "\n",
    "query = query_response.choices[0].message.content.strip()\n",
    "print(\"📝 Auto-generated query:\", query)\n"
   ]
  },
  {
   "cell_type": "code",
   "execution_count": 13,
   "id": "2a02878f",
   "metadata": {},
   "outputs": [],
   "source": [
    "# %%\n",
    "# Embed query\n",
    "query_embedding = client.embeddings.create(\n",
    "    input=[query],\n",
    "    model=\"text-embedding-3-small\"\n",
    ").data[0].embedding"
   ]
  },
  {
   "cell_type": "markdown",
   "id": "b8d8a49f",
   "metadata": {},
   "source": [
    "- Namespace `openai-v3`: CSV-based funding entries"
   ]
  },
  {
   "cell_type": "code",
   "execution_count": 14,
   "id": "a98293ab",
   "metadata": {},
   "outputs": [],
   "source": [
    "# %%\n",
    "# 🔍 Query CSV-based funding vectors\n",
    "csv_results = index.query(\n",
    "    vector=query_embedding,\n",
    "    top_k=5,\n",
    "    include_metadata=True,\n",
    "    namespace=\"openai-v3\"\n",
    ")"
   ]
  },
  {
   "cell_type": "code",
   "execution_count": 15,
   "id": "7c68cfb1",
   "metadata": {},
   "outputs": [
    {
     "name": "stdout",
     "output_type": "stream",
     "text": [
      "🔹 Match 1 | Score: 0.6428\n",
      "If you would like to submit an application (InnoTop), please click here:Program 358.\n",
      "URL: https://isb.rlp.de/foerderung/269.html\n",
      "---\n",
      "🔹 Match 2 | Score: 0.6271\n",
      "As part of this funding program, Rhineland-Palatinate companies are supported in the introduction of operational innovations. The grants are intended to contribute to creating or maintaining their performance and competitiveness. The grants are intended to provide investment incentives for the implementation of product innovations, innovative business models or innovations in the production proces\n",
      "---\n",
      "🔹 Match 3 | Score: 0.6182\n",
      "Administrative regulation of the Ministry of Economic Affairs, Transport, Agriculture and Viticulture of 20 October 2021The funding program Promotion of innovation assistants in small and medium-sized enterprises in Rhineland-Palatinate is intended to help improve their innovation and competitiveness through technology and knowledge transfer. Funding is provided for the recruitment and employment \n",
      "---\n",
      "🔹 Match 4 | Score: 0.6133\n",
      "Administrative regulation of the Ministry of Economic Affairs, Transport, Agriculture and Viticulture of 20 October 2023 (8401)The funding program provides the opportunity to apply for non-repayable grants for research and development. Funding is provided for feasibility studies on the analysis and evaluation of the potential and prospects of success of an R&D project as a basis for decision-makin\n",
      "---\n",
      "🔹 Match 5 | Score: 0.6060\n",
      "As part of this funding program, Rhineland-Palatinate companies are supported in increasing their energy and resource efficiency. The grants are intended to contribute to the effective reduction of greenhouse gas emissions, material consumption and waste generation and to ensure the long-term competitiveness of Rhineland-Palatinate as an industrial location.\n",
      "URL: https://isb.rlp.de/foerderung/364.\n",
      "---\n"
     ]
    }
   ],
   "source": [
    "# %%\n",
    "# ✅ Show top matches\n",
    "top_matches = []\n",
    "for match in csv_results['matches']:\n",
    "    score = match['score']\n",
    "    meta = match['metadata']\n",
    "    text = meta.get('description', '') + f\"\\nURL: {meta.get('url', '')}\"\n",
    "    top_matches.append((score, text))\n",
    "\n",
    "for i, (score, text) in enumerate(top_matches, 1):\n",
    "    print(f\"🔹 Match {i} | Score: {score:.4f}\\n{text[:400]}\\n---\")\n"
   ]
  },
  {
   "cell_type": "code",
   "execution_count": 17,
   "id": "dbef15e5",
   "metadata": {},
   "outputs": [
    {
     "name": "stdout",
     "output_type": "stream",
     "text": [
      "\n",
      "🧾 GPT Recommendation:\n",
      "\n",
      "For a startup focused on Artificial Intelligence and Robotics research in Rhineland-Palatinate, Germany, the following funding programs appear to be the most relevant and beneficial based on the goals of advancing technological innovation and competitiveness:\n",
      "\n",
      "1. **Administrative Regulation (Program 358) - Non-repayable Grants for R&D**:\n",
      "   - URL: [Program 358](https://isb.rlp.de/foerderung/358.html)\n",
      "   - **Relevance**: This program directly supports research and development in areas that include new technologies, processes, or services, making it highly pertinent to a startup in AI and robotics. The focus on industrial research and experimental development complements a high-tech startup’s objectives to innovate and develop cutting-edge technologies.\n",
      "   - **Action Steps**: You should prepare a comprehensive application detailing your project, how it advances the state of the art in AI and robotics, and its feasibility studies. Emphasize any potential contributions to climate neutrality if applicable, as this could increase the grant amount. Following the application guidelines meticulously will be crucial for a successful submission.\n",
      "\n",
      "2. **Program to Promote Innovation Assistants (245i)**:\n",
      "   - URL: [Promotion of Innovation Assistants](https://isb.rlp.de/foerderung/245i.html)\n",
      "   - **Relevance**: This program is tailored to enhance the innovation capacity of small and medium-sized enterprises by funding the salaries of innovation assistants with scientific or technical expertise. For a startup, employing a freshly graduated AI or robotics specialist as an innovation assistant could significantly boost your R&D efforts and facilitate technology transfer.\n",
      "   - **Action Steps**: Determine the scope of an R&D project at your startup that would benefit from expert input. Next, identify potential candidates who have recently completed university degrees in relevant fields. Prepare an application that outlines your project and demonstrates how the innovation assistant would contribute. Consider the flexibility in project duration, particularly advantageous for dynamic tech projects.\n",
      "\n",
      "3. **Operational Innovations Program (InnoTop)**:\n",
      "   - URL: [InnoTop](https://isb.rlp.de/foerderung/269.html)\n",
      "   - **Relevance**: Although more general, this program supports the introduction of operational innovations which can include innovative business models or enhancements in the production process. For an AI and robotics startup, this could involve funding to implement innovative production technologies or business strategies that are crucial for maintaining competitive advantage.\n",
      "   - **Action Steps**: Assess areas within your startup where innovative operational changes could be made or new business models could be introduced. Prepare a detailed proposal demonstrating how these innovations would help sustain or improve your market position and performance.\n",
      "\n",
      "**Recommended Approach**:\n",
      "- Prioritize applying for the R&D and Innovation Assistant programs as they offer direct benefits to technology development and staffing, which are critical for a startup in the AI and robotics field.\n",
      "- Consider the Operational Innovations program as a supplementary option to support broader strategic innovations within your startup.\n",
      "\n",
      "Each of these programs requires thorough documentation and precise alignment of your startup’s objectives with the program's aims. Preparing robust and detailed applications, accompanied by realistic project proposals and timelines, will be essential. It may also be beneficial to consult with a funding expert or participate in informational sessions offered by the Ministry to ensure alignment with application requirements and maximize your chances of securing funding.\n"
     ]
    }
   ],
   "source": [
    "# %%\n",
    "# 🧠 Send to LLM for final recommendation\n",
    "llm_prompt = f\"\"\"\n",
    "The user's profile is:\n",
    "{query}\n",
    "\n",
    "Top matched funding programs:\n",
    "\"\"\"\n",
    "\n",
    "for i, (_, text) in enumerate(top_matches, 1):\n",
    "    llm_prompt += f\"{i}. {text}\\n\\n\"\n",
    "\n",
    "llm_prompt += \"\"\"\n",
    "Based on this, recommend the 2–3 most relevant funding opportunities with clear reasoning and how the user should proceed.\n",
    "\"\"\"\n",
    "\n",
    "response = client.chat.completions.create(\n",
    "    model=\"gpt-4-turbo\",\n",
    "    messages=[\n",
    "        {\"role\": \"system\", \"content\": \"You are a funding advisor for startups in Germany.\"},\n",
    "        {\"role\": \"user\", \"content\": llm_prompt}\n",
    "    ]\n",
    ")\n",
    "\n",
    "print(\"\\n🧾 GPT Recommendation:\\n\")\n",
    "print(response.choices[0].message.content)"
   ]
  },
  {
   "cell_type": "code",
   "execution_count": null,
   "id": "c6d5e8d8",
   "metadata": {},
   "outputs": [],
   "source": []
  }
 ],
 "metadata": {
  "kernelspec": {
   "display_name": ".venv",
   "language": "python",
   "name": "python3"
  },
  "language_info": {
   "codemirror_mode": {
    "name": "ipython",
    "version": 3
   },
   "file_extension": ".py",
   "mimetype": "text/x-python",
   "name": "python",
   "nbconvert_exporter": "python",
   "pygments_lexer": "ipython3",
   "version": "3.12.3"
  }
 },
 "nbformat": 4,
 "nbformat_minor": 5
}
