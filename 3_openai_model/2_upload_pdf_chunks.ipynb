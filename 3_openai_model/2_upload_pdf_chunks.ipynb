{
 "cells": [
  {
   "cell_type": "markdown",
   "metadata": {},
   "source": [
    "# 📄 PDF Upload + Chunking + Embedding to Pinecone\n",
    "Enhanced with best practices:\n",
    "- Stable unique IDs\n",
    "- Metadata in Pinecone\n",
    "- Namespace support\n",
    "- Optional retrieval test\n",
    "- Avoid reuploading if not needed"
   ]
  },
  {
   "cell_type": "code",
   "execution_count": null,
   "metadata": {},
   "outputs": [],
   "source": [
    "# import sys\n",
    "# !{sys.executable} -m pip install tiktoken pymupdf openai pinecone python-dotenv tqdm"
   ]
  },
  {
   "cell_type": "code",
   "execution_count": 2,
   "metadata": {},
   "outputs": [],
   "source": [
    "import os\n",
    "import fitz  # PyMuPDF\n",
    "import hashlib\n",
    "from dotenv import load_dotenv\n",
    "from openai import OpenAI\n",
    "from pinecone import Pinecone, ServerlessSpec\n",
    "from tqdm import tqdm\n",
    "from typing import List"
   ]
  },
  {
   "cell_type": "code",
   "execution_count": 3,
   "metadata": {},
   "outputs": [],
   "source": [
    "load_dotenv()\n",
    "OPENAI_API_KEY = os.getenv(\"OPENAI_API_KEY\")\n",
    "PINECONE_API_KEY = os.getenv(\"PINECONE_API_KEY\")\n",
    "PINECONE_ENV = os.getenv(\"PINECONE_ENV\")\n",
    "\n",
    "assert OPENAI_API_KEY and PINECONE_API_KEY and PINECONE_ENV, \"❌ Missing environment variables\"\n",
    "\n",
    "client = OpenAI(api_key=OPENAI_API_KEY)\n",
    "pc = Pinecone(api_key=PINECONE_API_KEY)\n",
    "\n",
    "index_name = \"funding-search\"\n",
    "index = pc.Index(index_name)"
   ]
  },
  {
   "cell_type": "code",
   "execution_count": 4,
   "metadata": {},
   "outputs": [],
   "source": [
    "# 📥 Upload your PDF path here (change this line)\n",
    "pdf_path = \"/Users/kiranmulawad/AI-Funding/openai_model/sample_user_profile.pdf\""
   ]
  },
  {
   "cell_type": "code",
   "execution_count": 5,
   "metadata": {},
   "outputs": [
    {
     "name": "stdout",
     "output_type": "stream",
     "text": [
      "✅ Sample extracted text:\n",
      "Company Name: RoboAI Solutions\n",
      "Industry: Artificial Intelligence, Robotics\n",
      "Location: Rhineland-Palatinate, Germany\n",
      "Company Description:\n",
      "RoboAI Solutions is a startup focused on the intersection of artificial intelligence and robotics. We\n",
      "are currently in the early research and prototyping phase for developing intelligent control systems\n",
      "for industrial robots.\n",
      "Goals:\n",
      "- Advance AI-based robotic systems for automation\n",
      "- Collaborate with academic institutions\n",
      "- Apply for regional and national fundin\n"
     ]
    }
   ],
   "source": [
    "# 📄 Extract text from PDF\n",
    "def extract_text_from_pdf(pdf_path: str) -> str:\n",
    "    doc = fitz.open(pdf_path)\n",
    "    return \"\\n\".join([page.get_text() for page in doc])\n",
    "\n",
    "text = extract_text_from_pdf(pdf_path)\n",
    "print(\"✅ Sample extracted text:\")\n",
    "print(text[:500])"
   ]
  },
  {
   "cell_type": "code",
   "execution_count": 6,
   "metadata": {},
   "outputs": [
    {
     "name": "stdout",
     "output_type": "stream",
     "text": [
      "✅ Total chunks created: 1\n"
     ]
    }
   ],
   "source": [
    "# ✂️ Chunk text using tiktoken\n",
    "import tiktoken\n",
    "\n",
    "def chunk_text(text: str, max_tokens: int = 300) -> List[str]:\n",
    "    enc = tiktoken.get_encoding(\"cl100k_base\")\n",
    "    words = text.split(\". \")\n",
    "    chunks, current = [], \"\"\n",
    "    for sentence in words:\n",
    "        tentative = current + sentence + \". \"\n",
    "        if len(enc.encode(tentative)) <= max_tokens:\n",
    "            current = tentative\n",
    "        else:\n",
    "            chunks.append(current.strip())\n",
    "            current = sentence + \". \"\n",
    "    if current:\n",
    "        chunks.append(current.strip())\n",
    "    return chunks\n",
    "\n",
    "chunks = chunk_text(text)\n",
    "print(f\"✅ Total chunks created: {len(chunks)}\")"
   ]
  },
  {
   "cell_type": "code",
   "execution_count": 9,
   "metadata": {},
   "outputs": [
    {
     "name": "stdout",
     "output_type": "stream",
     "text": [
      "Chunk 0: Company Name: RoboAI Solutions\n",
      "Industry: Artificial Intelligence, Robotics\n",
      "Location: Rhineland-Palatinate, Germany\n",
      "Company Description:\n",
      "RoboAI Solutio\n"
     ]
    }
   ],
   "source": [
    "for i, chunk in enumerate(chunks):\n",
    "    print(f\"Chunk {i}: {chunk[:150]}\")"
   ]
  },
  {
   "cell_type": "code",
   "execution_count": null,
   "metadata": {},
   "outputs": [],
   "source": [
    "# # 🚀 Upload to Pinecone (only run if not already uploaded)\n",
    "# # ⚠️ COMMENT this cell if you already uploaded this PDF!\n",
    "\n",
    "# namespace = \"pdf-upload\"\n",
    "# prefix = hashlib.md5(pdf_path.encode()).hexdigest()[:8]  # Stable prefix for IDs\n",
    "# print(f\"🔐 PDF upload prefix (ID base): {prefix}\")\n",
    "\n",
    "# for i, chunk in enumerate(tqdm(chunks, desc=\"Embedding + Uploading chunks\")):\n",
    "#     embedding = client.embeddings.create(\n",
    "#         input=[chunk], model=\"text-embedding-3-small\"\n",
    "#     ).data[0].embedding\n",
    "\n",
    "#     vector_id = f\"{prefix}-chunk-{i}\"\n",
    "#     metadata = {\n",
    "#         \"source\": os.path.basename(pdf_path),\n",
    "#         \"chunk_index\": i,\n",
    "#         \"text\": chunk\n",
    "#     }\n",
    "#     index.upsert([(vector_id, embedding, metadata)], namespace=namespace)\n",
    "\n",
    "# print(\"✅ All chunks embedded and uploaded to Pinecone.\")"
   ]
  },
  {
   "cell_type": "code",
   "execution_count": 7,
   "metadata": {},
   "outputs": [],
   "source": [
    "# # Define the namespace used during upload\n",
    "namespace = \"pdf-upload\""
   ]
  },
  {
   "cell_type": "code",
   "execution_count": 8,
   "metadata": {},
   "outputs": [
    {
     "name": "stdout",
     "output_type": "stream",
     "text": [
      "{'dimension': 1536,\n",
      " 'index_fullness': 0.0,\n",
      " 'metric': 'cosine',\n",
      " 'namespaces': {'openai-v3': {'vector_count': 79},\n",
      "                'pdf-upload': {'vector_count': 1}},\n",
      " 'total_vector_count': 80,\n",
      " 'vector_type': 'dense'}\n"
     ]
    }
   ],
   "source": [
    "# Check how many vectors exist for that PDF\n",
    "stats = index.describe_index_stats(namespace=\"pdf-upload\")\n",
    "print(stats)"
   ]
  },
  {
   "cell_type": "code",
   "execution_count": null,
   "metadata": {},
   "outputs": [],
   "source": []
  }
 ],
 "metadata": {
  "kernelspec": {
   "display_name": ".venv",
   "language": "python",
   "name": "python3"
  },
  "language_info": {
   "codemirror_mode": {
    "name": "ipython",
    "version": 3
   },
   "file_extension": ".py",
   "mimetype": "text/x-python",
   "name": "python",
   "nbconvert_exporter": "python",
   "pygments_lexer": "ipython3",
   "version": "3.12.3"
  }
 },
 "nbformat": 4,
 "nbformat_minor": 2
}
