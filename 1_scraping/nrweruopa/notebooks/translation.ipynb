{
 "cells": [
  {
   "cell_type": "markdown",
   "id": "9ffacbfd",
   "metadata": {},
   "source": [
    "# 🇩🇪➡️🇬🇧 Translation Notebook (Final Format, No Extra Columns)"
   ]
  },
  {
   "cell_type": "code",
   "execution_count": null,
   "id": "0b4cbf88",
   "metadata": {},
   "outputs": [],
   "source": [
    "import pandas as pd\n",
    "import requests"
   ]
  },
  {
   "cell_type": "code",
   "execution_count": null,
   "id": "690d31ec",
   "metadata": {},
   "outputs": [],
   "source": [
    "DEEPL_API_KEY = \"b5635b61-9b9f-4f21-bf92-c228074c84f2:fx\"  # Replace with your actual DeepL API key"
   ]
  },
  {
   "cell_type": "code",
   "execution_count": null,
   "id": "75a4f8fd",
   "metadata": {},
   "outputs": [],
   "source": [
    "def translate_text(text, source_lang='DE', target_lang='EN'):\n",
    "    if not text or not isinstance(text, str):\n",
    "        return ''\n",
    "    url = \"https://api-free.deepl.com/v2/translate\"\n",
    "    params = {\n",
    "        \"auth_key\": DEEPL_API_KEY,\n",
    "        \"text\": text,\n",
    "        \"source_lang\": source_lang,\n",
    "        \"target_lang\": target_lang\n",
    "    }\n",
    "    try:\n",
    "        response = requests.post(url, data=params)\n",
    "        result = response.json()\n",
    "        return result[\"translations\"][0][\"text\"]\n",
    "    except Exception as e:\n",
    "        print(\"Translation error:\", e)\n",
    "        return text"
   ]
  },
  {
   "cell_type": "code",
   "execution_count": 5,
   "id": "227a3dae",
   "metadata": {},
   "outputs": [
    {
     "data": {
      "text/html": [
       "<div>\n",
       "<style scoped>\n",
       "    .dataframe tbody tr th:only-of-type {\n",
       "        vertical-align: middle;\n",
       "    }\n",
       "\n",
       "    .dataframe tbody tr th {\n",
       "        vertical-align: top;\n",
       "    }\n",
       "\n",
       "    .dataframe thead th {\n",
       "        text-align: right;\n",
       "    }\n",
       "</style>\n",
       "<table border=\"1\" class=\"dataframe\">\n",
       "  <thead>\n",
       "    <tr style=\"text-align: right;\">\n",
       "      <th></th>\n",
       "      <th>Name</th>\n",
       "      <th>Topic</th>\n",
       "      <th>Eligibility</th>\n",
       "      <th>Budget</th>\n",
       "      <th>Deadline</th>\n",
       "      <th>Description</th>\n",
       "      <th>URL</th>\n",
       "      <th>Source</th>\n",
       "      <th>Language</th>\n",
       "      <th>Translated</th>\n",
       "    </tr>\n",
       "  </thead>\n",
       "  <tbody>\n",
       "    <tr>\n",
       "      <th>0</th>\n",
       "      <td>FORTIS 1st Open Call</td>\n",
       "      <td>Mensch-Roboter-Interaktion (HRI), multimodale ...</td>\n",
       "      <td>Konsortien aus 2-3 Organisationen: Start-ups, ...</td>\n",
       "      <td>Bis zu 250.000 Euro</td>\n",
       "      <td>4. Juni 2025</td>\n",
       "      <td>FORTIS unterstützt Projekte, die innovative Lö...</td>\n",
       "      <td>https://fortis-project.eu/open-call-1/</td>\n",
       "      <td>NRW Europa</td>\n",
       "      <td>de</td>\n",
       "      <td>False</td>\n",
       "    </tr>\n",
       "    <tr>\n",
       "      <th>1</th>\n",
       "      <td>MASTER 2nd Open Call</td>\n",
       "      <td>VR/XR</td>\n",
       "      <td>Universitäten, Forschungseinrichtungen, Bildun...</td>\n",
       "      <td>Bis zu 100.000 Euro</td>\n",
       "      <td>12. Juni 2025</td>\n",
       "      <td>MASTER unterstützt Projekte, die innovative XR...</td>\n",
       "      <td>https://www.master-xr.eu/open-calls/open-call-2/</td>\n",
       "      <td>NRW Europa</td>\n",
       "      <td>de</td>\n",
       "      <td>False</td>\n",
       "    </tr>\n",
       "    <tr>\n",
       "      <th>2</th>\n",
       "      <td>PEDVolution Open Call</td>\n",
       "      <td>Energienetze, Energieeffizienz</td>\n",
       "      <td>Start-ups, KMU, Mid-caps, Forschungseinrichtun...</td>\n",
       "      <td>Bis zu 50.000 Euro</td>\n",
       "      <td>30. Juni 2025</td>\n",
       "      <td>PEDvolution unterstützt Projekte, die innovati...</td>\n",
       "      <td>https://news.pedvolution.eu/posts/open-call-fo...</td>\n",
       "      <td>NRW Europa</td>\n",
       "      <td>de</td>\n",
       "      <td>False</td>\n",
       "    </tr>\n",
       "    <tr>\n",
       "      <th>3</th>\n",
       "      <td>SMURF 2nd Open Call</td>\n",
       "      <td>Fortswirtschaft &amp; Waldbewirtschaft</td>\n",
       "      <td>Kommunen, Verbände, Föderationen, oder Genosse...</td>\n",
       "      <td>Bis zu 60.000 Euro</td>\n",
       "      <td>2. Juli 2025</td>\n",
       "      <td>Das SMURF-Projekt zielt darauf ab, Innovation,...</td>\n",
       "      <td>https://www.smurfproject.eu/cascade-funding-sm...</td>\n",
       "      <td>NRW Europa</td>\n",
       "      <td>de</td>\n",
       "      <td>False</td>\n",
       "    </tr>\n",
       "    <tr>\n",
       "      <th>4</th>\n",
       "      <td>GUARDIANS 1st Open Call</td>\n",
       "      <td>Landwirtschaft &amp; Digitalisierung</td>\n",
       "      <td>KMU, Start-Up, Forschungseinrichtung oder Univ...</td>\n",
       "      <td>Bis zu 81.000 Euro</td>\n",
       "      <td>15. Juli 2025</td>\n",
       "      <td>GUARDIANS fördert die gemeinsame Entwicklung, ...</td>\n",
       "      <td>https://guardians-project.eu/call/open-call-1-...</td>\n",
       "      <td>NRW Europa</td>\n",
       "      <td>de</td>\n",
       "      <td>False</td>\n",
       "    </tr>\n",
       "  </tbody>\n",
       "</table>\n",
       "</div>"
      ],
      "text/plain": [
       "                      Name                                              Topic  \\\n",
       "0     FORTIS 1st Open Call  Mensch-Roboter-Interaktion (HRI), multimodale ...   \n",
       "1     MASTER 2nd Open Call                                              VR/XR   \n",
       "2    PEDVolution Open Call                     Energienetze, Energieeffizienz   \n",
       "3      SMURF 2nd Open Call                 Fortswirtschaft & Waldbewirtschaft   \n",
       "4  GUARDIANS 1st Open Call                   Landwirtschaft & Digitalisierung   \n",
       "\n",
       "                                         Eligibility               Budget  \\\n",
       "0  Konsortien aus 2-3 Organisationen: Start-ups, ...  Bis zu 250.000 Euro   \n",
       "1  Universitäten, Forschungseinrichtungen, Bildun...  Bis zu 100.000 Euro   \n",
       "2  Start-ups, KMU, Mid-caps, Forschungseinrichtun...   Bis zu 50.000 Euro   \n",
       "3  Kommunen, Verbände, Föderationen, oder Genosse...   Bis zu 60.000 Euro   \n",
       "4  KMU, Start-Up, Forschungseinrichtung oder Univ...   Bis zu 81.000 Euro   \n",
       "\n",
       "        Deadline                                        Description  \\\n",
       "0   4. Juni 2025  FORTIS unterstützt Projekte, die innovative Lö...   \n",
       "1  12. Juni 2025  MASTER unterstützt Projekte, die innovative XR...   \n",
       "2  30. Juni 2025  PEDvolution unterstützt Projekte, die innovati...   \n",
       "3   2. Juli 2025  Das SMURF-Projekt zielt darauf ab, Innovation,...   \n",
       "4  15. Juli 2025  GUARDIANS fördert die gemeinsame Entwicklung, ...   \n",
       "\n",
       "                                                 URL      Source Language  \\\n",
       "0             https://fortis-project.eu/open-call-1/  NRW Europa       de   \n",
       "1   https://www.master-xr.eu/open-calls/open-call-2/  NRW Europa       de   \n",
       "2  https://news.pedvolution.eu/posts/open-call-fo...  NRW Europa       de   \n",
       "3  https://www.smurfproject.eu/cascade-funding-sm...  NRW Europa       de   \n",
       "4  https://guardians-project.eu/call/open-call-1-...  NRW Europa       de   \n",
       "\n",
       "   Translated  \n",
       "0       False  \n",
       "1       False  \n",
       "2       False  \n",
       "3       False  \n",
       "4       False  "
      ]
     },
     "execution_count": 5,
     "metadata": {},
     "output_type": "execute_result"
    }
   ],
   "source": [
    "# Load German CSV\n",
    "df = pd.read_csv(\"nrw_europa_funding.csv\")\n",
    "df.head()"
   ]
  },
  {
   "cell_type": "code",
   "execution_count": 6,
   "id": "5dbb3f10",
   "metadata": {},
   "outputs": [
    {
     "name": "stdout",
     "output_type": "stream",
     "text": [
      "✅ Final translated file saved as: funding-nrweuropa-english.csv\n"
     ]
    }
   ],
   "source": [
    "# Overwrite original columns with translated versions\n",
    "df['Name'] = df['Name'].apply(translate_text)\n",
    "df['Description'] = df['Description'].apply(translate_text)\n",
    "df['Topic'] = df['Topic'].apply(translate_text)\n",
    "df['Eligibility'] = df['Eligibility'].apply(translate_text)\n",
    "df['Budget'] = df['Budget'].apply(translate_text)\n",
    "df['Deadline'] = df['Deadline'].apply(translate_text)\n",
    "\n",
    "# Save to new file (preserving only original structure, but translated)\n",
    "df.to_csv(\"funding-nrweuropa-english.csv\", index=False)\n",
    "print(\"✅ Final translated file saved as: funding-nrweuropa-english.csv\")"
   ]
  },
  {
   "cell_type": "code",
   "execution_count": null,
   "id": "520047ec",
   "metadata": {},
   "outputs": [],
   "source": []
  }
 ],
 "metadata": {
  "kernelspec": {
   "display_name": ".env",
   "language": "python",
   "name": "python3"
  },
  "language_info": {
   "codemirror_mode": {
    "name": "ipython",
    "version": 3
   },
   "file_extension": ".py",
   "mimetype": "text/x-python",
   "name": "python",
   "nbconvert_exporter": "python",
   "pygments_lexer": "ipython3",
   "version": "3.12.3"
  }
 },
 "nbformat": 4,
 "nbformat_minor": 5
}
