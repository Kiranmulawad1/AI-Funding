{
 "cells": [
  {
   "cell_type": "markdown",
   "id": "3beb1c5f",
   "metadata": {},
   "source": [
    "# 🧹 Cleaning Notebook for Translated NRW Europa Data"
   ]
  },
  {
   "cell_type": "code",
   "execution_count": null,
   "id": "152f0265",
   "metadata": {},
   "outputs": [],
   "source": [
    "# Install if needed\n",
    "# !pip install pandas"
   ]
  },
  {
   "cell_type": "code",
   "execution_count": null,
   "id": "c13e5091",
   "metadata": {},
   "outputs": [],
   "source": [
    "import pandas as pd\n",
    "\n",
    "# Load translated file\n",
    "df = pd.read_csv(\"funding-nrweuropa-english.csv\")\n",
    "df.head()"
   ]
  },
  {
   "cell_type": "code",
   "execution_count": null,
   "id": "9c1a6a2e",
   "metadata": {},
   "outputs": [],
   "source": [
    "# Step 1: Strip extra whitespace from all string columns\n",
    "df = df.applymap(lambda x: x.strip() if isinstance(x, str) else x)"
   ]
  },
  {
   "cell_type": "code",
   "execution_count": null,
   "id": "53d603f7",
   "metadata": {},
   "outputs": [],
   "source": [
    "# Step 2: Parse deadline to datetime format\n",
    "df['deadline_datetime'] = pd.to_datetime(df['Deadline'], errors='coerce')"
   ]
  },
  {
   "cell_type": "code",
   "execution_count": null,
   "id": "6419f598",
   "metadata": {},
   "outputs": [],
   "source": [
    "# Step 3: Reorder and select final columns\n",
    "final_df = df[['Name', 'Description', 'Topic', 'Eligibility', 'Budget', 'Deadline', 'deadline_datetime', 'URL']]"
   ]
  },
  {
   "cell_type": "code",
   "execution_count": null,
   "id": "9e5475ee",
   "metadata": {},
   "outputs": [],
   "source": [
    "# Step 4: Rename columns to English for consistency\n",
    "final_df.columns = ['name', 'description', 'domain', 'eligibility', 'amount', 'deadline', 'deadline_datetime', 'url']"
   ]
  },
  {
   "cell_type": "code",
   "execution_count": null,
   "id": "1540edef",
   "metadata": {},
   "outputs": [],
   "source": [
    "# Step 5: Save cleaned output\n",
    "final_df.to_csv(\"funding-nrweuropa-english-cleaned.csv\", index=False)\n",
    "print(\"✅ Cleaned file saved as: funding-nrweuropa-english-cleaned.csv\")"
   ]
  }
 ],
 "metadata": {},
 "nbformat": 4,
 "nbformat_minor": 5
}
