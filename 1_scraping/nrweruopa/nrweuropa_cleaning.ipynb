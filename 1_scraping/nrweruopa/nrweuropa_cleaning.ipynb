{
 "cells": [
  {
   "cell_type": "markdown",
   "id": "3beb1c5f",
   "metadata": {},
   "source": [
    "# 🧹 Cleaning Notebook for Translated NRW Europa Data"
   ]
  },
  {
   "cell_type": "code",
   "execution_count": null,
   "id": "4920cece",
   "metadata": {},
   "outputs": [],
   "source": [
    "# %%\n",
    "import pandas as pd"
   ]
  },
  {
   "cell_type": "code",
   "execution_count": 2,
   "id": "e5b9eb54",
   "metadata": {},
   "outputs": [],
   "source": [
    "# Load translated file\n",
    "df = pd.read_csv(\"data/funding_nrweuropa_english.csv\")\n"
   ]
  },
  {
   "cell_type": "code",
   "execution_count": 3,
   "id": "367a20bc",
   "metadata": {},
   "outputs": [],
   "source": [
    "# %%\n",
    "# Strip whitespace from all string columns\n",
    "for col in df.select_dtypes(include='object'):\n",
    "    df[col] = df[col].str.strip()\n"
   ]
  },
  {
   "cell_type": "code",
   "execution_count": null,
   "id": "6dbf1032",
   "metadata": {},
   "outputs": [],
   "source": [
    "# %%\n",
    "# Parse deadline to datetime (new column)\n",
    "df['deadline_datetime'] = pd.to_datetime(df['Deadline'], errors='coerce')\n"
   ]
  },
  {
   "cell_type": "code",
   "execution_count": null,
   "id": "7faa7a92",
   "metadata": {},
   "outputs": [],
   "source": [
    "# %%\n",
    "# Rename columns for consistency\n",
    "rename_map = {\n",
    "    'Name': 'name',\n",
    "    'Description': 'description',\n",
    "    'Topic': 'domain',\n",
    "    'Eligibility': 'eligibility',\n",
    "    'Budget': 'amount',\n",
    "    'Deadline': 'deadline',\n",
    "    'URL': 'url'\n",
    "}\n",
    "df = df.rename(columns=rename_map)\n"
   ]
  },
  {
   "cell_type": "code",
   "execution_count": 6,
   "id": "00eae647",
   "metadata": {},
   "outputs": [],
   "source": [
    "# %%\n",
    "# Reorder and select final columns\n",
    "final_cols = ['name', 'description', 'domain', 'eligibility', 'amount', 'deadline', 'deadline_datetime', 'url']\n",
    "final_df = df[final_cols]\n"
   ]
  },
  {
   "cell_type": "code",
   "execution_count": null,
   "id": "e31bace2",
   "metadata": {},
   "outputs": [
    {
     "name": "stdout",
     "output_type": "stream",
     "text": [
      "✅ Cleaned file saved as: data/funding_nrweuropa_cleaned.csv\n"
     ]
    }
   ],
   "source": [
    "# %%\n",
    "# Save cleaned output\n",
    "final_df.to_csv(\"data/funding_nrweuropa_cleaned.csv\", index=False)\n",
    "print(\"✅ Cleaned file saved as: data/funding_nrweuropa_cleaned.csv\")\n"
   ]
  },
  {
   "cell_type": "code",
   "execution_count": null,
   "id": "dfe052b7",
   "metadata": {},
   "outputs": [],
   "source": []
  }
 ],
 "metadata": {
  "kernelspec": {
   "display_name": ".venv",
   "language": "python",
   "name": "python3"
  },
  "language_info": {
   "codemirror_mode": {
    "name": "ipython",
    "version": 3
   },
   "file_extension": ".py",
   "mimetype": "text/x-python",
   "name": "python",
   "nbconvert_exporter": "python",
   "pygments_lexer": "ipython3",
   "version": "3.12.3"
  }
 },
 "nbformat": 4,
 "nbformat_minor": 5
}
