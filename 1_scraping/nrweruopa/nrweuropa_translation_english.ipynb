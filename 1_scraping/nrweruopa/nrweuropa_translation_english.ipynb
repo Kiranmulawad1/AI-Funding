{
 "cells": [
  {
   "cell_type": "markdown",
   "id": "9ffacbfd",
   "metadata": {},
   "source": [
    "# 🇩🇪➡️🇬🇧 Translation Notebook (Final Format, No Extra Columns)"
   ]
  },
  {
   "cell_type": "code",
   "execution_count": 1,
   "id": "520047ec",
   "metadata": {},
   "outputs": [],
   "source": [
    "# %%\n",
    "import pandas as pd\n",
    "import os\n",
    "import deepl\n",
    "from tqdm import tqdm\n",
    "from dotenv import load_dotenv\n"
   ]
  },
  {
   "cell_type": "code",
   "execution_count": 4,
   "id": "46a047d7",
   "metadata": {},
   "outputs": [],
   "source": [
    "load_dotenv()  # Loads .env file\n",
    "DEEPL_API_KEY = os.getenv(\"DEEPL_API_KEY\")"
   ]
  },
  {
   "cell_type": "code",
   "execution_count": 5,
   "id": "da224573",
   "metadata": {},
   "outputs": [],
   "source": [
    "# Initialize DeepL Translator\n",
    "translator = deepl.Translator(DEEPL_API_KEY)"
   ]
  },
  {
   "cell_type": "code",
   "execution_count": 6,
   "id": "fbe0a500",
   "metadata": {},
   "outputs": [],
   "source": [
    "# %%\n",
    "# Translation helper with retry logic\n",
    "def translate_text(text, source_lang=\"DE\", target_lang=\"EN-US\"):\n",
    "    if not text or not isinstance(text, str) or not text.strip():\n",
    "        return \"\"\n",
    "    for _ in range(3):\n",
    "        try:\n",
    "            result = translator.translate_text(text, source_lang=source_lang, target_lang=target_lang)\n",
    "            return result.text\n",
    "        except deepl.DeepLException as e:\n",
    "            print(f\"Translation error: {text[:30]}... | {e}\")\n",
    "            import time; time.sleep(5)\n",
    "    return text  # Fallback to original if all retries fail"
   ]
  },
  {
   "cell_type": "code",
   "execution_count": 8,
   "id": "ae9439c1",
   "metadata": {},
   "outputs": [],
   "source": [
    "# %%\n",
    "# Load German CSV\n",
    "df = pd.read_csv(\"data/funding_nrweuropa_data.csv\")"
   ]
  },
  {
   "cell_type": "code",
   "execution_count": 9,
   "id": "d33937ec",
   "metadata": {},
   "outputs": [],
   "source": [
    "# %%\n",
    "# List of columns to translate (adjust as needed)\n",
    "columns_to_translate = [\"Name\", \"Description\", \"Topic\", \"Eligibility\", \"Budget\", \"Deadline\"]"
   ]
  },
  {
   "cell_type": "code",
   "execution_count": 10,
   "id": "82d3e512",
   "metadata": {},
   "outputs": [
    {
     "name": "stdout",
     "output_type": "stream",
     "text": [
      "🔤 Translating column: Name\n"
     ]
    },
    {
     "name": "stderr",
     "output_type": "stream",
     "text": [
      "100%|██████████| 8/8 [00:01<00:00,  7.88it/s]\n"
     ]
    },
    {
     "name": "stdout",
     "output_type": "stream",
     "text": [
      "🔤 Translating column: Description\n"
     ]
    },
    {
     "name": "stderr",
     "output_type": "stream",
     "text": [
      "100%|██████████| 8/8 [00:02<00:00,  3.42it/s]\n"
     ]
    },
    {
     "name": "stdout",
     "output_type": "stream",
     "text": [
      "🔤 Translating column: Topic\n"
     ]
    },
    {
     "name": "stderr",
     "output_type": "stream",
     "text": [
      "100%|██████████| 8/8 [00:00<00:00, 10.65it/s]\n"
     ]
    },
    {
     "name": "stdout",
     "output_type": "stream",
     "text": [
      "🔤 Translating column: Eligibility\n"
     ]
    },
    {
     "name": "stderr",
     "output_type": "stream",
     "text": [
      "100%|██████████| 8/8 [00:01<00:00,  5.64it/s]\n"
     ]
    },
    {
     "name": "stdout",
     "output_type": "stream",
     "text": [
      "🔤 Translating column: Budget\n"
     ]
    },
    {
     "name": "stderr",
     "output_type": "stream",
     "text": [
      "100%|██████████| 8/8 [00:00<00:00, 10.04it/s]\n"
     ]
    },
    {
     "name": "stdout",
     "output_type": "stream",
     "text": [
      "🔤 Translating column: Deadline\n"
     ]
    },
    {
     "name": "stderr",
     "output_type": "stream",
     "text": [
      "100%|██████████| 8/8 [00:00<00:00, 13.13it/s]\n"
     ]
    }
   ],
   "source": [
    "# %%\n",
    "# Translate columns with progress bar\n",
    "for col in columns_to_translate:\n",
    "    print(f\"🔤 Translating column: {col}\")\n",
    "    df[col] = [translate_text(text) for text in tqdm(df[col].astype(str))]"
   ]
  },
  {
   "cell_type": "code",
   "execution_count": 12,
   "id": "1ef0a30c",
   "metadata": {},
   "outputs": [
    {
     "name": "stdout",
     "output_type": "stream",
     "text": [
      "✅ Final translated file saved as: funding_nrweuropa_english.csv\n"
     ]
    }
   ],
   "source": [
    "# %%\n",
    "# Save to new file (preserving only original structure, but translated)\n",
    "df.to_csv(\"data/funding_nrweuropa_english.csv\", index=False)\n",
    "print(\"✅ Final translated file saved as: funding_nrweuropa_english.csv\")"
   ]
  },
  {
   "cell_type": "code",
   "execution_count": null,
   "id": "d0a759eb",
   "metadata": {},
   "outputs": [],
   "source": []
  }
 ],
 "metadata": {
  "kernelspec": {
   "display_name": ".venv",
   "language": "python",
   "name": "python3"
  },
  "language_info": {
   "codemirror_mode": {
    "name": "ipython",
    "version": 3
   },
   "file_extension": ".py",
   "mimetype": "text/x-python",
   "name": "python",
   "nbconvert_exporter": "python",
   "pygments_lexer": "ipython3",
   "version": "3.12.3"
  }
 },
 "nbformat": 4,
 "nbformat_minor": 5
}
