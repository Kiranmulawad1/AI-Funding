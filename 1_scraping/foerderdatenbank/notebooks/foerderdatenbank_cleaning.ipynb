{
 "cells": [
  {
   "cell_type": "code",
   "execution_count": 11,
   "id": "edc5b8b2",
   "metadata": {},
   "outputs": [],
   "source": [
    "import csv"
   ]
  },
  {
   "cell_type": "code",
   "execution_count": 16,
   "id": "ca155fe6",
   "metadata": {},
   "outputs": [],
   "source": [
    "# File paths\n",
    "uncleaned_file = \"data/funding-foerderdatenbank-english.csv\"\n",
    "cleaned_file = \"data/funding-foerderdatenbank-cleaned.csv\""
   ]
  },
  {
   "cell_type": "code",
   "execution_count": 17,
   "id": "88a6982d",
   "metadata": {},
   "outputs": [],
   "source": [
    "# Helper to capitalize only the first letter (and keep rest as is)\n",
    "def capitalize_first(text):\n",
    "    if not text:\n",
    "        return text\n",
    "    return text[0].upper() + text[1:]"
   ]
  },
  {
   "cell_type": "code",
   "execution_count": 18,
   "id": "2cc9a0b3",
   "metadata": {},
   "outputs": [],
   "source": [
    "# Helper to clean and format contact column\n",
    "def clean_contact(contact):\n",
    "    if not contact or not isinstance(contact, str):\n",
    "        return contact\n",
    "    # Split into parts, strip spaces, and reformat\n",
    "    parts = [p.strip() for p in contact.split(',')]\n",
    "    contact_dict = {}\n",
    "    for part in parts:\n",
    "        if ':' in part:\n",
    "            key, value = part.split(':', 1)\n",
    "            key = key.strip().capitalize()\n",
    "            value = value.strip()\n",
    "            contact_dict[key] = value\n",
    "    # Rebuild in standard order\n",
    "    keys = ['Name', 'Email', 'Phone', 'Address']\n",
    "    cleaned = []\n",
    "    for k in keys:\n",
    "        if k in contact_dict:\n",
    "            cleaned.append(f\"{k}: {contact_dict[k]}\")\n",
    "    return ', '.join(cleaned)"
   ]
  },
  {
   "cell_type": "code",
   "execution_count": 19,
   "id": "f2f19d93",
   "metadata": {},
   "outputs": [
    {
     "name": "stdout",
     "output_type": "stream",
     "text": [
      "✅ Cleaned file saved to: data/funding-foerderdatenbank-cleaned.csv\n",
      "{'name': 'Funding as part of the \"Art & AI\" program', 'description': 'Funding guidelines of the Federal Cultural Foundation Valid from 12.07.2024', 'domain': 'Culture, Media & Sport', 'eligibility': 'Association/Union', 'location': 'Nationwide', 'contact': 'Name: Kulturstiftung des Bundes (KSB), Email: info@kulturstiftung-bund.de, Phone: Tel: +49 345 2997-0, Address: 06110 Halle an der Saale', 'url': 'https://www.foerderdatenbank.de/FDB/Content/DE/Foerderprogramm/Bund/KultStiftBund/kunst-und-ki.html'}\n",
      "{'name': 'Funding for projects on the topic of \"Application of artificial intelligence (AI) in drug discovery\"', 'description': 'Guideline for the funding of projects on the topic of \"Application of artificial intelligence (AI) in drug discovery\" dated: 19.02.2025 Federal Ministry of Education and Research BAnz AT 03.03.2025 B5', 'domain': 'Research & Innovation (topic-specific), Health & Social Affairs', 'eligibility': 'University, research institution, company, association/association', 'location': 'Nationwide', 'contact': 'Name: Projektträger Jülich (PtJ), Email: ptj@fz-juelich.de, Phone: Tel: +49 2461 61-2626, Address: 52425 Jülich', 'url': 'https://www.foerderdatenbank.de/FDB/Content/DE/Foerderprogramm/Bund/BMBF/anwendung-ki-wirkstoffforschung.html'}\n",
      "{'name': 'NEXT.IN.NRW - Innovative ideas, services and products from culture, media, creative industries, AI and ICT', 'description': 'If you want to implement innovative projects for the development of innovative, marketable and sustainable products and services in the cultural and creative sector and in the field of information technologies, you can receive a grant under certain conditions.', 'domain': 'Digitalization, research & innovation (topic-specific)', 'eligibility': 'Research institution, university, municipality, public institution, company, association/association', 'location': 'North Rhine-Westphalia', 'contact': 'Name: Innovationsförderagentur NRW (IN.NRW), Email: next.in.nrw@fz-juelich.de, Phone: Tel: 02461 6196596, Address: 52425 Jülich', 'url': 'https://www.foerderdatenbank.de/FDB/Content/DE/Foerderprogramm/Land/NRW/next-in-nrw.html'}\n"
     ]
    }
   ],
   "source": [
    "# Read, clean, and write\n",
    "with open(uncleaned_file, mode='r', encoding='utf-8') as infile:\n",
    "    reader = csv.DictReader(infile)\n",
    "    rows = list(reader)\n",
    "    fieldnames = reader.fieldnames\n",
    "\n",
    "cleaned_rows = []\n",
    "for row in rows:\n",
    "    cleaned_row = row.copy()\n",
    "    # Capitalize first letter of location\n",
    "    if 'location' in row and row['location']:\n",
    "        cleaned_row['location'] = capitalize_first(row['location'].strip())\n",
    "    # Clean contact column\n",
    "    if 'contact' in row:\n",
    "        cleaned_row['contact'] = clean_contact(row['contact'])\n",
    "    cleaned_rows.append(cleaned_row)\n",
    "\n",
    "with open(cleaned_file, mode='w', newline='', encoding='utf-8') as outfile:\n",
    "    writer = csv.DictWriter(outfile, fieldnames=fieldnames)\n",
    "    writer.writeheader()\n",
    "    writer.writerows(cleaned_rows)\n",
    "\n",
    "print(f\"✅ Cleaned file saved to: {cleaned_file}\")\n",
    "# Optionally, print a few cleaned rows for inspection\n",
    "for row in cleaned_rows[:3]:\n",
    "    print(row)\n"
   ]
  }
 ],
 "metadata": {
  "kernelspec": {
   "display_name": ".env",
   "language": "python",
   "name": "python3"
  },
  "language_info": {
   "codemirror_mode": {
    "name": "ipython",
    "version": 3
   },
   "file_extension": ".py",
   "mimetype": "text/x-python",
   "name": "python",
   "nbconvert_exporter": "python",
   "pygments_lexer": "ipython3",
   "version": "3.12.3"
  }
 },
 "nbformat": 4,
 "nbformat_minor": 5
}
