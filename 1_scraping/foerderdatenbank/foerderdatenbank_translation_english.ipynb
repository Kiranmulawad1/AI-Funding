{
 "cells": [
  {
   "cell_type": "markdown",
   "metadata": {},
   "source": [
    "# 🌐 Translation Notebook: Förderdatenbank Data\n",
    "This notebook translates German funding data into English using the DeepL API."
   ]
  },
  {
   "cell_type": "code",
   "execution_count": null,
   "id": "5b7f28cb",
   "metadata": {},
   "outputs": [],
   "source": [
    "# %%\n",
    "import pandas as pd\n",
    "import deepl\n",
    "import time\n",
    "from tqdm import tqdm\n",
    "from dotenv import load_dotenv\n",
    "import os"
   ]
  },
  {
   "cell_type": "code",
   "execution_count": null,
   "id": "116f63f8",
   "metadata": {},
   "outputs": [],
   "source": [
    "# %%\n",
    "# Load API key from .env file\n",
    "load_dotenv()\n",
    "DEEPL_API_KEY = os.getenv(\"DEEPL_API_KEY\")\n",
    "\n",
    "if not DEEPL_API_KEY:\n",
    "    raise ValueError(\"DeepL API key not found. Please create a .env file with DEEPL_API_KEY=your-key\")"
   ]
  },
  {
   "cell_type": "code",
   "execution_count": null,
   "id": "6a473fd6",
   "metadata": {},
   "outputs": [],
   "source": [
    "# Initialize DeepL translator\n",
    "translator = deepl.Translator(DEEPL_API_KEY)"
   ]
  },
  {
   "cell_type": "code",
   "execution_count": 20,
   "id": "404e72a1",
   "metadata": {},
   "outputs": [],
   "source": [
    "# %%\n",
    "# Load the German scraped data\n",
    "df = pd.read_csv(\"data/funding-foerderdatenbank-data.csv\")\n",
    "\n"
   ]
  },
  {
   "cell_type": "code",
   "execution_count": 22,
   "id": "61f8da22",
   "metadata": {},
   "outputs": [],
   "source": [
    "# %%\n",
    "# Define columns to translate\n",
    "columns_to_translate = [\"name\", \"description\", \"domain\", \"eligibility\", \"location\"]\n",
    "\n"
   ]
  },
  {
   "cell_type": "code",
   "execution_count": 23,
   "id": "de7235e5",
   "metadata": {},
   "outputs": [],
   "source": [
    "# %%\n",
    "# Enhanced translation function with rate limiting\n",
    "def translate_text(text):\n",
    "    if pd.isna(text) or not isinstance(text, str) or not text.strip():\n",
    "        return text\n",
    "    \n",
    "    for attempt in range(5):  # Increase retry attempts\n",
    "        try:\n",
    "            result = translator.translate_text(text, source_lang=\"DE\", target_lang=\"EN-US\")\n",
    "            time.sleep(0.5)  # Add delay between requests\n",
    "            return result.text\n",
    "        except deepl.DeepLException as e:\n",
    "            if \"Too many requests\" in str(e):\n",
    "                wait_time = min(2 ** attempt, 60)  # Exponential backoff\n",
    "                print(f\"⏳ Rate limit hit. Waiting {wait_time}s...\")\n",
    "                time.sleep(wait_time)\n",
    "            else:\n",
    "                print(f\"❌ API Error: {text[:30]}... | {e}\")\n",
    "                time.sleep(5)\n",
    "    return text  # Fallback to original text"
   ]
  },
  {
   "cell_type": "code",
   "execution_count": 24,
   "id": "2ef51649",
   "metadata": {},
   "outputs": [
    {
     "name": "stdout",
     "output_type": "stream",
     "text": [
      "🔤 Translating column: name\n"
     ]
    },
    {
     "name": "stderr",
     "output_type": "stream",
     "text": [
      "100%|██████████| 34/34 [00:21<00:00,  1.58it/s]\n"
     ]
    },
    {
     "name": "stdout",
     "output_type": "stream",
     "text": [
      "🔤 Translating column: description\n"
     ]
    },
    {
     "name": "stderr",
     "output_type": "stream",
     "text": [
      "100%|██████████| 34/34 [00:24<00:00,  1.41it/s]\n"
     ]
    },
    {
     "name": "stdout",
     "output_type": "stream",
     "text": [
      "🔤 Translating column: domain\n"
     ]
    },
    {
     "name": "stderr",
     "output_type": "stream",
     "text": [
      "100%|██████████| 34/34 [00:20<00:00,  1.64it/s]\n"
     ]
    },
    {
     "name": "stdout",
     "output_type": "stream",
     "text": [
      "🔤 Translating column: eligibility\n"
     ]
    },
    {
     "name": "stderr",
     "output_type": "stream",
     "text": [
      "100%|██████████| 34/34 [00:20<00:00,  1.67it/s]\n"
     ]
    },
    {
     "name": "stdout",
     "output_type": "stream",
     "text": [
      "🔤 Translating column: location\n"
     ]
    },
    {
     "name": "stderr",
     "output_type": "stream",
     "text": [
      "100%|██████████| 34/34 [00:19<00:00,  1.70it/s]\n"
     ]
    }
   ],
   "source": [
    "# %%\n",
    "# Translate columns with progress monitoring\n",
    "for col in columns_to_translate:\n",
    "    print(f\"🔤 Translating column: {col}\")\n",
    "    df[col] = df[col].astype(str)\n",
    "    \n",
    "    # Batch processing with error handling\n",
    "    translated = []\n",
    "    for text in tqdm(df[col]):\n",
    "        try:\n",
    "            translated.append(translate_text(text))\n",
    "        except Exception as e:\n",
    "            print(f\"⚠️ Translation failed: {e}\")\n",
    "            translated.append(text)  # Keep original on failure\n",
    "    \n",
    "    df[col] = translated\n"
   ]
  },
  {
   "cell_type": "code",
   "execution_count": 26,
   "id": "3b3eb1ec",
   "metadata": {},
   "outputs": [
    {
     "name": "stdout",
     "output_type": "stream",
     "text": [
      "✅ Translated data saved to: data/funding-foerderdatenbank-english.csv\n"
     ]
    }
   ],
   "source": [
    "# %%\n",
    "# Save the translated result\n",
    "output_path = \"data/funding-foerderdatenbank-english.csv\"\n",
    "df.to_csv(output_path, index=False)\n",
    "print(f\"✅ Translated data saved to: {output_path}\")\n"
   ]
  },
  {
   "cell_type": "code",
   "execution_count": null,
   "id": "e389b097",
   "metadata": {},
   "outputs": [],
   "source": []
  }
 ],
 "metadata": {
  "kernelspec": {
   "display_name": ".env",
   "language": "python",
   "name": "python3"
  },
  "language_info": {
   "codemirror_mode": {
    "name": "ipython",
    "version": 3
   },
   "file_extension": ".py",
   "mimetype": "text/x-python",
   "name": "python",
   "nbconvert_exporter": "python",
   "pygments_lexer": "ipython3",
   "version": "3.12.3"
  }
 },
 "nbformat": 4,
 "nbformat_minor": 5
}
