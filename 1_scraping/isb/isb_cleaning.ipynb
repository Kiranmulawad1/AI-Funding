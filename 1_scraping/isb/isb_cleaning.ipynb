{
 "cells": [
  {
   "cell_type": "markdown",
   "id": "b7af5466",
   "metadata": {},
   "source": [
    "# 🧹 Clean ISB Translated Data (No Replacements Needed)\n",
    "This notebook formats the contact column but skips text replacements (since none are needed)."
   ]
  },
  {
   "cell_type": "code",
   "execution_count": null,
   "id": "de52e0a1",
   "metadata": {},
   "outputs": [],
   "source": [
    "\n",
    "# import csv\n",
    "# import pandas as pd\n",
    "# import ast"
   ]
  },
  {
   "cell_type": "code",
   "execution_count": null,
   "id": "72903554",
   "metadata": {},
   "outputs": [],
   "source": [
    "\n",
    "# # --- File paths ---\n",
    "# uncleaned_isb_english = '/Users/kiranmulawad/AI-Funding/1_scraping/isb/data/funding-isb-english.csv'\n",
    "# cleaned_isb_english = '/Users/kiranmulawad/AI-Funding/1_scraping/isb/data/funding-isb-cleaned.csv'\n"
   ]
  },
  {
   "cell_type": "code",
   "execution_count": null,
   "id": "d42984d8",
   "metadata": {},
   "outputs": [],
   "source": [
    "\n",
    "# # --- Clean contact formatting if separator is missing ---\n",
    "# def clean_contact_info(contact_info):\n",
    "#     if \"Advice on business development\" in contact_info:\n",
    "#         if \"|\" not in contact_info.split(\"Advice on business development\")[1][:1]:\n",
    "#             contact_info = contact_info.replace(\"Advice on business development\", \"Advice on business development |\", 1)\n",
    "#     return contact_info\n"
   ]
  },
  {
   "cell_type": "code",
   "execution_count": null,
   "id": "8e8531e4",
   "metadata": {},
   "outputs": [],
   "source": [
    "\n",
    "# # --- Format list-style contact info into readable lines ---\n",
    "# def format_contact_info(contact_column):\n",
    "#     formatted_contacts = []\n",
    "#     try:\n",
    "#         contacts = ast.literal_eval(contact_column) if isinstance(contact_column, str) else contact_column\n",
    "#     except:\n",
    "#         return contact_column\n",
    "\n",
    "#     for contact in contacts:\n",
    "#         parts = [p.strip() for p in contact.split(\"|\")]\n",
    "#         if len(parts) == 3:\n",
    "#             formatted_contacts.append(f\"- Name: {parts[0]} | Phone: {parts[1]} | Email: {parts[2]}\")\n",
    "\n",
    "#     return \"\\n\".join(formatted_contacts) if formatted_contacts else \"No contact information available.\"\n"
   ]
  },
  {
   "cell_type": "code",
   "execution_count": null,
   "id": "905297ed",
   "metadata": {},
   "outputs": [],
   "source": [
    "\n",
    "# # --- Load and clean rows (only contact formatting applied) ---\n",
    "# with open(uncleaned_isb_english, mode='r', encoding='utf-8') as infile:\n",
    "#     reader = csv.DictReader(infile)\n",
    "#     data = list(reader)\n",
    "\n",
    "# cleaned_data = []\n",
    "# for row in data:\n",
    "#     cleaned_row = {}\n",
    "#     for key, value in row.items():\n",
    "#         if key == 'contact':\n",
    "#             value = clean_contact_info(value)\n",
    "#             value = format_contact_info(value)\n",
    "#         cleaned_row[key] = value\n",
    "#     cleaned_data.append(cleaned_row)\n"
   ]
  },
  {
   "cell_type": "code",
   "execution_count": null,
   "id": "6c26effa",
   "metadata": {},
   "outputs": [
    {
     "name": "stdout",
     "output_type": "stream",
     "text": [
      "✅ Cleaned file saved to: /Users/kiranmulawad/AI-Funding/1_scraping/isb/data/funding-isb-cleaned.csv\n"
     ]
    }
   ],
   "source": [
    "\n",
    "# # --- Save cleaned output ---\n",
    "# with open(cleaned_isb_english, mode='w', encoding='utf-8', newline='') as outfile:\n",
    "#     writer = csv.DictWriter(outfile, fieldnames=data[0].keys())\n",
    "#     writer.writeheader()\n",
    "#     writer.writerows(cleaned_data)\n",
    "\n",
    "# print(f\"✅ Cleaned file saved to: {cleaned_isb_english}\")\n"
   ]
  },
  {
   "cell_type": "code",
   "execution_count": 1,
   "id": "9b7b2583",
   "metadata": {},
   "outputs": [],
   "source": [
    "# %% [markdown]\n",
    "# # 🧹 Clean ISB Translated Data (Best Practice Version)\n",
    "# Formats the contact column for readability and ensures all columns are tidy.\n",
    "\n",
    "# %%\n",
    "import pandas as pd\n",
    "\n",
    "# --- File paths ---\n",
    "uncleaned_isb_english = '/Users/kiranmulawad/AI-Funding/1_scraping/isb/data/funding_isb_english.csv'\n",
    "cleaned_isb_english = '/Users/kiranmulawad/AI-Funding/1_scraping/isb/data/funding-isb-cleaned.csv'\n",
    "\n"
   ]
  },
  {
   "cell_type": "code",
   "execution_count": 2,
   "id": "8959ee91",
   "metadata": {},
   "outputs": [],
   "source": [
    "# %%\n",
    "def clean_contact(contact):\n",
    "    \"\"\"\n",
    "    Cleans and formats the contact column for readability.\n",
    "    Handles both single string and list-like entries.\n",
    "    \"\"\"\n",
    "    if pd.isna(contact) or not isinstance(contact, str):\n",
    "        return \"\"\n",
    "    # Try to split multiple contacts (if they are separated by '||' or '\\n')\n",
    "    contacts = [c.strip() for c in contact.replace('\\n', '||').split('||') if c.strip()]\n",
    "    formatted_contacts = []\n",
    "    for c in contacts:\n",
    "        # Split by '|' or ',' if present\n",
    "        if '|' in c:\n",
    "            parts = [p.strip() for p in c.split('|')]\n",
    "        elif ',' in c and 'Email:' in c and 'Phone:' in c:\n",
    "            # Try to split by ',' for FDB style contacts\n",
    "            parts = [p.strip() for p in c.split(',')]\n",
    "        else:\n",
    "            parts = [c.strip()]\n",
    "        # Build a readable contact line\n",
    "        if len(parts) == 3:\n",
    "            formatted_contacts.append(f\"- Name: {parts[0]} | Phone: {parts[1]} | Email: {parts[2]}\")\n",
    "        elif len(parts) == 2:\n",
    "            formatted_contacts.append(f\"- {parts[0]} | {parts[1]}\")\n",
    "        else:\n",
    "            formatted_contacts.append(f\"- {parts[0]}\")\n",
    "    return \"\\n\".join(formatted_contacts) if formatted_contacts else \"\"\n",
    "\n"
   ]
  },
  {
   "cell_type": "code",
   "execution_count": 3,
   "id": "a11cc09b",
   "metadata": {},
   "outputs": [],
   "source": [
    "# %%\n",
    "# Load data\n",
    "df = pd.read_csv(uncleaned_isb_english)\n",
    "\n",
    "# Strip whitespace from all string columns\n",
    "for col in df.select_dtypes(include='object'):\n",
    "    df[col] = df[col].str.strip()\n",
    "\n",
    "# Clean and format the contact column\n",
    "if 'contact' in df.columns:\n",
    "    df['contact'] = df['contact'].apply(clean_contact)\n",
    "\n",
    "# Optional: drop duplicates, reset index, or reorder columns as needed\n",
    "df = df.drop_duplicates().reset_index(drop=True)\n",
    "\n",
    "\n"
   ]
  },
  {
   "cell_type": "code",
   "execution_count": 4,
   "id": "78e6da77",
   "metadata": {},
   "outputs": [
    {
     "name": "stdout",
     "output_type": "stream",
     "text": [
      "✅ Cleaned file saved to: /Users/kiranmulawad/AI-Funding/1_scraping/isb/data/funding-isb-cleaned.csv\n"
     ]
    }
   ],
   "source": [
    "# Save cleaned output\n",
    "df.to_csv(cleaned_isb_english, index=False)\n",
    "print(f\"✅ Cleaned file saved to: {cleaned_isb_english}\")\n",
    "\n"
   ]
  },
  {
   "cell_type": "code",
   "execution_count": 5,
   "id": "af9e20d2",
   "metadata": {},
   "outputs": [
    {
     "data": {
      "text/html": [
       "<div>\n",
       "<style scoped>\n",
       "    .dataframe tbody tr th:only-of-type {\n",
       "        vertical-align: middle;\n",
       "    }\n",
       "\n",
       "    .dataframe tbody tr th {\n",
       "        vertical-align: top;\n",
       "    }\n",
       "\n",
       "    .dataframe thead th {\n",
       "        text-align: right;\n",
       "    }\n",
       "</style>\n",
       "<table border=\"1\" class=\"dataframe\">\n",
       "  <thead>\n",
       "    <tr style=\"text-align: right;\">\n",
       "      <th></th>\n",
       "      <th>name</th>\n",
       "      <th>contact</th>\n",
       "    </tr>\n",
       "  </thead>\n",
       "  <tbody>\n",
       "    <tr>\n",
       "      <th>0</th>\n",
       "      <td>Consulting program for SMEs</td>\n",
       "      <td>- Name: Business development consulting | Phon...</td>\n",
       "    </tr>\n",
       "    <tr>\n",
       "      <th>1</th>\n",
       "      <td>Consulting program for business start-ups</td>\n",
       "      <td>- Name: Business development consulting | Phon...</td>\n",
       "    </tr>\n",
       "    <tr>\n",
       "      <th>2</th>\n",
       "      <td>Business relocation, investment service</td>\n",
       "      <td>- Name: Tim Sandrock | Phone: 06131 6172-1226 ...</td>\n",
       "    </tr>\n",
       "  </tbody>\n",
       "</table>\n",
       "</div>"
      ],
      "text/plain": [
       "                                        name  \\\n",
       "0                Consulting program for SMEs   \n",
       "1  Consulting program for business start-ups   \n",
       "2    Business relocation, investment service   \n",
       "\n",
       "                                             contact  \n",
       "0  - Name: Business development consulting | Phon...  \n",
       "1  - Name: Business development consulting | Phon...  \n",
       "2  - Name: Tim Sandrock | Phone: 06131 6172-1226 ...  "
      ]
     },
     "execution_count": 5,
     "metadata": {},
     "output_type": "execute_result"
    }
   ],
   "source": [
    "# Display sample\n",
    "df[['name', 'contact']].head(3)"
   ]
  },
  {
   "cell_type": "code",
   "execution_count": null,
   "id": "fd31cecf",
   "metadata": {},
   "outputs": [],
   "source": []
  }
 ],
 "metadata": {
  "kernelspec": {
   "display_name": ".venv",
   "language": "python",
   "name": "python3"
  },
  "language_info": {
   "codemirror_mode": {
    "name": "ipython",
    "version": 3
   },
   "file_extension": ".py",
   "mimetype": "text/x-python",
   "name": "python",
   "nbconvert_exporter": "python",
   "pygments_lexer": "ipython3",
   "version": "3.12.3"
  }
 },
 "nbformat": 4,
 "nbformat_minor": 5
}
