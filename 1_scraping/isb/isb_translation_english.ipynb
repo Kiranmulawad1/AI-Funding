{
 "cells": [
  {
   "cell_type": "markdown",
   "id": "5ec7fe0b",
   "metadata": {},
   "source": [
    "# 🌍 ISB Translation (Clean Version)\n",
    "This notebook translates ISB scraped data from German to English using DeepL API."
   ]
  },
  {
   "cell_type": "code",
   "execution_count": null,
   "id": "a89585e7",
   "metadata": {},
   "outputs": [],
   "source": [
    "# %%\n",
    "# Install required packages\n",
    "!pip install -q deepl tqdm python-dotenv\n"
   ]
  },
  {
   "cell_type": "code",
   "execution_count": null,
   "id": "3c6a3fee",
   "metadata": {},
   "outputs": [],
   "source": [
    "# %%\n",
    "import pandas as pd\n",
    "import os\n",
    "import time\n",
    "from tqdm.notebook import tqdm\n",
    "import deepl\n",
    "from dotenv import load_dotenv\n"
   ]
  },
  {
   "cell_type": "code",
   "execution_count": null,
   "id": "f46dd9bc",
   "metadata": {},
   "outputs": [],
   "source": [
    "# %%\n",
    "# Load API key from .env file\n",
    "load_dotenv()\n",
    "DEEPL_API_KEY = os.getenv(\"DEEPL_API_KEY\")\n",
    "\n",
    "if not DEEPL_API_KEY:\n",
    "    raise ValueError(\"DeepL API key not found. Please create a .env file with DEEPL_API_KEY=your-key\")\n",
    "\n"
   ]
  },
  {
   "cell_type": "code",
   "execution_count": null,
   "id": "890ee037",
   "metadata": {},
   "outputs": [],
   "source": [
    "# Initialize DeepL translator\n",
    "translator = deepl.Translator(DEEPL_API_KEY)\n",
    "\n"
   ]
  },
  {
   "cell_type": "code",
   "execution_count": null,
   "id": "39a2c488",
   "metadata": {},
   "outputs": [],
   "source": [
    "# %%\n",
    "def translate_text(text, target_lang=\"EN-US\"):\n",
    "    \"\"\"Translate text with retry logic and proper error handling\"\"\"\n",
    "    if pd.isna(text) or not isinstance(text, str) or not text.strip():\n",
    "        return text\n",
    "    \n",
    "    for attempt in range(3):\n",
    "        try:\n",
    "            result = translator.translate_text(text, target_lang=target_lang)\n",
    "            return result.text\n",
    "        except deepl.exceptions.QuotaExceededException:\n",
    "            print(\"⚠️ DeepL quota exceeded! Translation stopped.\")\n",
    "            return text\n",
    "        except deepl.exceptions.TooManyRequestsException:\n",
    "            wait_time = 5 * (attempt + 1)  # Progressive backoff\n",
    "            print(f\"⏳ Rate limit hit. Waiting {wait_time}s...\")\n",
    "            time.sleep(wait_time)\n",
    "        except Exception as e:\n",
    "            print(f\"⚠️ Error translating: {str(e)[:100]}\")\n",
    "            time.sleep(3)\n",
    "    \n",
    "    # Return original if all retries failed\n",
    "    return text\n",
    "\n"
   ]
  },
  {
   "cell_type": "code",
   "execution_count": null,
   "id": "6a442094",
   "metadata": {},
   "outputs": [],
   "source": [
    "# %%\n",
    "# Load German scraped CSV\n",
    "df = pd.read_csv(\"data/funding-isb.csv\")\n",
    "print(f\"📊 Loaded {len(df)} funding entries\")\n",
    "\n"
   ]
  },
  {
   "cell_type": "code",
   "execution_count": null,
   "id": "6c992eb4",
   "metadata": {},
   "outputs": [],
   "source": [
    "# %%\n",
    "# Translate main text columns\n",
    "translated_df = df.copy()\n",
    "columns_to_translate = [\"name\", \"description\", \"eligibility\", \"amount\", \"procedure\"]\n",
    "\n",
    "for col in columns_to_translate:\n",
    "    if col not in df.columns:\n",
    "        print(f\"⚠️ Column {col} not found, skipping\")\n",
    "        continue\n",
    "        \n",
    "    print(f\"🔤 Translating column: {col}\")\n",
    "    \n",
    "    # Only translate non-null values\n",
    "    mask = ~df[col].isna()\n",
    "    total = mask.sum()\n",
    "    \n",
    "    # Create progress bar for this column\n",
    "    with tqdm(total=total) as pbar:\n",
    "        for i, idx in enumerate(df[mask].index):\n",
    "            translated_df.loc[idx, col] = translate_text(df.loc[idx, col])\n",
    "            pbar.update(1)\n",
    "            \n",
    "            # Add small delay every 5 translations to avoid rate limits\n",
    "            if i % 5 == 0 and i > 0:\n",
    "                time.sleep(0.5)\n",
    "\n"
   ]
  },
  {
   "cell_type": "code",
   "execution_count": null,
   "id": "b87132cc",
   "metadata": {},
   "outputs": [],
   "source": [
    "# %%\n",
    "# Translate contact roles (only the part before first '|')\n",
    "def translate_contact_role(contact):\n",
    "    \"\"\"Translate only the role part of contact information\"\"\"\n",
    "    if pd.isna(contact) or not isinstance(contact, str) or \" | \" not in contact:\n",
    "        return contact\n",
    "    \n",
    "    try:\n",
    "        parts = contact.split(\" | \", 2)\n",
    "        if len(parts) >= 2:\n",
    "            role = parts[0]\n",
    "            rest = \" | \".join(parts[1:])\n",
    "            role_translated = translate_text(role)\n",
    "            return f\"{role_translated} | {rest}\"\n",
    "        return contact\n",
    "    except Exception:\n",
    "        return contact\n",
    "\n"
   ]
  },
  {
   "cell_type": "code",
   "execution_count": null,
   "id": "d2ad8dbf",
   "metadata": {},
   "outputs": [],
   "source": [
    "# %%\n",
    "# Translate contact roles with progress tracking\n",
    "if \"contact\" in df.columns:\n",
    "    print(\"🔤 Translating contact roles...\")\n",
    "    \n",
    "    # Only translate non-null contacts\n",
    "    mask = ~df[\"contact\"].isna()\n",
    "    contacts_to_translate = df.loc[mask, \"contact\"]\n",
    "    \n",
    "    with tqdm(total=len(contacts_to_translate)) as pbar:\n",
    "        for idx in contacts_to_translate.index:\n",
    "            translated_df.loc[idx, \"contact\"] = translate_contact_role(df.loc[idx, \"contact\"])\n",
    "            pbar.update(1)\n",
    "            time.sleep(0.2)  # Small delay to avoid rate limits\n",
    "\n"
   ]
  },
  {
   "cell_type": "code",
   "execution_count": null,
   "id": "e35dd54b",
   "metadata": {},
   "outputs": [],
   "source": [
    "# %%\n",
    "# Save translated output\n",
    "output_file = \"data/funding_isb_english.csv\"\n",
    "translated_df.to_csv(output_file, index=False)\n",
    "print(f\"✅ Translation complete. File saved as {output_file}\")\n",
    "\n"
   ]
  },
  {
   "cell_type": "code",
   "execution_count": null,
   "id": "0a42482d",
   "metadata": {},
   "outputs": [],
   "source": [
    "# %%\n",
    "# Display sample of translated data\n",
    "translated_df[[\"name\", \"description\"]].head(3)\n"
   ]
  },
  {
   "cell_type": "code",
   "execution_count": null,
   "id": "2ec35697",
   "metadata": {},
   "outputs": [],
   "source": []
  }
 ],
 "metadata": {
  "kernelspec": {
   "display_name": ".venv",
   "language": "python",
   "name": "python3"
  },
  "language_info": {
   "codemirror_mode": {
    "name": "ipython",
    "version": 3
   },
   "file_extension": ".py",
   "mimetype": "text/x-python",
   "name": "python",
   "nbconvert_exporter": "python",
   "pygments_lexer": "ipython3",
   "version": "3.12.3"
  }
 },
 "nbformat": 4,
 "nbformat_minor": 5
}
