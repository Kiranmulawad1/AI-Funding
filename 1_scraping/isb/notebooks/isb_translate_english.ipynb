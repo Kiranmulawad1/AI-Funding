{
 "cells": [
  {
   "cell_type": "markdown",
   "id": "5ec7fe0b",
   "metadata": {},
   "source": [
    "# 🌍 ISB Translation (Clean Version)\n",
    "This notebook translates ISB scraped data from German to English using DeepL API."
   ]
  },
  {
   "cell_type": "code",
   "execution_count": null,
   "id": "79337a31",
   "metadata": {},
   "outputs": [],
   "source": [
    "\n",
    "import pandas as pd\n",
    "import requests\n",
    "import time\n"
   ]
  },
  {
   "cell_type": "code",
   "execution_count": null,
   "id": "574b892a",
   "metadata": {},
   "outputs": [],
   "source": [
    "\n",
    "DEEPL_API_KEY = \"your-api-key-here\"  # Replace this with your DeepL API key\n",
    "DEEPL_URL = \"https://api-free.deepl.com/v2/translate\"\n"
   ]
  },
  {
   "cell_type": "code",
   "execution_count": null,
   "id": "4199a14e",
   "metadata": {},
   "outputs": [],
   "source": [
    "\n",
    "def translate_text(text, target_lang=\"EN\"):\n",
    "    if pd.isna(text) or not isinstance(text, str) or not text.strip():\n",
    "        return text\n",
    "    for _ in range(3):\n",
    "        try:\n",
    "            response = requests.post(\n",
    "                DEEPL_URL,\n",
    "                data={\"auth_key\": DEEPL_API_KEY, \"text\": text, \"target_lang\": target_lang},\n",
    "                timeout=10\n",
    "            )\n",
    "            if response.status_code == 429:\n",
    "                print(\"⏳ Rate limit hit. Waiting...\")\n",
    "                time.sleep(10)\n",
    "                continue\n",
    "            if response.status_code != 200:\n",
    "                print(f\"❌ Error {response.status_code}: {text[:50]}\")\n",
    "                return text\n",
    "            return response.json()[\"translations\"][0][\"text\"]\n",
    "        except Exception as e:\n",
    "            print(f\"⚠️ Retry error: {e}\")\n",
    "            time.sleep(5)\n",
    "    return text\n"
   ]
  },
  {
   "cell_type": "code",
   "execution_count": null,
   "id": "4617ca05",
   "metadata": {},
   "outputs": [],
   "source": [
    "\n",
    "# Load German scraped CSV\n",
    "df = pd.read_csv(\"funding-isb.csv\")\n"
   ]
  },
  {
   "cell_type": "code",
   "execution_count": null,
   "id": "b996676b",
   "metadata": {},
   "outputs": [],
   "source": [
    "\n",
    "# Translate main columns\n",
    "translated_df = df.copy()\n",
    "for col in [\"name\", \"description\", \"eligibility\", \"amount\", \"procedure\"]:\n",
    "    print(f\"🔤 Translating column: {col}\")\n",
    "    translated_df[col] = df[col].apply(translate_text)\n",
    "    time.sleep(2)\n"
   ]
  },
  {
   "cell_type": "code",
   "execution_count": null,
   "id": "deec0a5a",
   "metadata": {},
   "outputs": [],
   "source": [
    "\n",
    "# Translate only the contact role (before the first '|')\n",
    "def translate_contact_role(contact):\n",
    "    if pd.isna(contact) or not isinstance(contact, str) or \" | \" not in contact:\n",
    "        return contact\n",
    "    try:\n",
    "        role, phone, email = contact.split(\" | \", 2)\n",
    "        role_translated = translate_text(role)\n",
    "        return f\"{role_translated} | {phone} | {email}\"\n",
    "    except:\n",
    "        return contact\n"
   ]
  },
  {
   "cell_type": "code",
   "execution_count": null,
   "id": "b9f99045",
   "metadata": {},
   "outputs": [],
   "source": [
    "\n",
    "print(\"🔤 Translating contact roles...\")\n",
    "translated_df[\"contact\"] = df[\"contact\"].apply(translate_contact_role)\n"
   ]
  },
  {
   "cell_type": "code",
   "execution_count": null,
   "id": "010827f6",
   "metadata": {},
   "outputs": [],
   "source": [
    "\n",
    "# Save translated output\n",
    "translated_df.to_csv(\"funding-isb-english.csv\", index=False)\n",
    "print(\"✅ Translation complete. File saved as funding-isb-english.csv\")\n"
   ]
  }
 ],
 "metadata": {},
 "nbformat": 4,
 "nbformat_minor": 5
}
