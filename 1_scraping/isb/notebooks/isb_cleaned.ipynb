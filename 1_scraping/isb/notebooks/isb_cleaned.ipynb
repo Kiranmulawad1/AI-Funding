{
 "cells": [
  {
   "cell_type": "markdown",
   "id": "b7af5466",
   "metadata": {},
   "source": [
    "# 🧹 Clean ISB Translated Data (No Replacements Needed)\n",
    "This notebook formats the contact column but skips text replacements (since none are needed)."
   ]
  },
  {
   "cell_type": "code",
   "execution_count": 1,
   "id": "de52e0a1",
   "metadata": {},
   "outputs": [],
   "source": [
    "\n",
    "import csv\n",
    "import pandas as pd\n",
    "import ast\n"
   ]
  },
  {
   "cell_type": "code",
   "execution_count": null,
   "id": "72903554",
   "metadata": {},
   "outputs": [],
   "source": [
    "\n",
    "# --- File paths ---\n",
    "uncleaned_isb_english = 'funding-isb-english.csv'\n",
    "cleaned_isb_english = 'funding-isb-english-cleaned.csv'\n"
   ]
  },
  {
   "cell_type": "code",
   "execution_count": 3,
   "id": "d42984d8",
   "metadata": {},
   "outputs": [],
   "source": [
    "\n",
    "# --- Clean contact formatting if separator is missing ---\n",
    "def clean_contact_info(contact_info):\n",
    "    if \"Advice on business development\" in contact_info:\n",
    "        if \"|\" not in contact_info.split(\"Advice on business development\")[1][:1]:\n",
    "            contact_info = contact_info.replace(\"Advice on business development\", \"Advice on business development |\", 1)\n",
    "    return contact_info\n"
   ]
  },
  {
   "cell_type": "code",
   "execution_count": 4,
   "id": "8e8531e4",
   "metadata": {},
   "outputs": [],
   "source": [
    "\n",
    "# --- Format list-style contact info into readable lines ---\n",
    "def format_contact_info(contact_column):\n",
    "    formatted_contacts = []\n",
    "    try:\n",
    "        contacts = ast.literal_eval(contact_column) if isinstance(contact_column, str) else contact_column\n",
    "    except:\n",
    "        return contact_column\n",
    "\n",
    "    for contact in contacts:\n",
    "        parts = [p.strip() for p in contact.split(\"|\")]\n",
    "        if len(parts) == 3:\n",
    "            formatted_contacts.append(f\"- Name: {parts[0]} | Phone: {parts[1]} | Email: {parts[2]}\")\n",
    "\n",
    "    return \"\\n\".join(formatted_contacts) if formatted_contacts else \"No contact information available.\"\n"
   ]
  },
  {
   "cell_type": "code",
   "execution_count": 5,
   "id": "905297ed",
   "metadata": {},
   "outputs": [
    {
     "ename": "FileNotFoundError",
     "evalue": "[Errno 2] No such file or directory: 'data/funding-isb-english.csv'",
     "output_type": "error",
     "traceback": [
      "\u001b[31m---------------------------------------------------------------------------\u001b[39m",
      "\u001b[31mFileNotFoundError\u001b[39m                         Traceback (most recent call last)",
      "\u001b[36mCell\u001b[39m\u001b[36m \u001b[39m\u001b[32mIn[5]\u001b[39m\u001b[32m, line 2\u001b[39m\n\u001b[32m      1\u001b[39m \u001b[38;5;66;03m# --- Load and clean rows (only contact formatting applied) ---\u001b[39;00m\n\u001b[32m----> \u001b[39m\u001b[32m2\u001b[39m \u001b[38;5;28;01mwith\u001b[39;00m \u001b[38;5;28;43mopen\u001b[39;49m\u001b[43m(\u001b[49m\u001b[43muncleaned_isb_english\u001b[49m\u001b[43m,\u001b[49m\u001b[43m \u001b[49m\u001b[43mmode\u001b[49m\u001b[43m=\u001b[49m\u001b[33;43m'\u001b[39;49m\u001b[33;43mr\u001b[39;49m\u001b[33;43m'\u001b[39;49m\u001b[43m,\u001b[49m\u001b[43m \u001b[49m\u001b[43mencoding\u001b[49m\u001b[43m=\u001b[49m\u001b[33;43m'\u001b[39;49m\u001b[33;43mutf-8\u001b[39;49m\u001b[33;43m'\u001b[39;49m\u001b[43m)\u001b[49m \u001b[38;5;28;01mas\u001b[39;00m infile:\n\u001b[32m      3\u001b[39m     reader = csv.DictReader(infile)\n\u001b[32m      4\u001b[39m     data = \u001b[38;5;28mlist\u001b[39m(reader)\n",
      "\u001b[36mFile \u001b[39m\u001b[32m~/AI-Funding/.env/lib/python3.12/site-packages/IPython/core/interactiveshell.py:327\u001b[39m, in \u001b[36m_modified_open\u001b[39m\u001b[34m(file, *args, **kwargs)\u001b[39m\n\u001b[32m    320\u001b[39m \u001b[38;5;28;01mif\u001b[39;00m file \u001b[38;5;129;01min\u001b[39;00m {\u001b[32m0\u001b[39m, \u001b[32m1\u001b[39m, \u001b[32m2\u001b[39m}:\n\u001b[32m    321\u001b[39m     \u001b[38;5;28;01mraise\u001b[39;00m \u001b[38;5;167;01mValueError\u001b[39;00m(\n\u001b[32m    322\u001b[39m         \u001b[33mf\u001b[39m\u001b[33m\"\u001b[39m\u001b[33mIPython won\u001b[39m\u001b[33m'\u001b[39m\u001b[33mt let you open fd=\u001b[39m\u001b[38;5;132;01m{\u001b[39;00mfile\u001b[38;5;132;01m}\u001b[39;00m\u001b[33m by default \u001b[39m\u001b[33m\"\u001b[39m\n\u001b[32m    323\u001b[39m         \u001b[33m\"\u001b[39m\u001b[33mas it is likely to crash IPython. If you know what you are doing, \u001b[39m\u001b[33m\"\u001b[39m\n\u001b[32m    324\u001b[39m         \u001b[33m\"\u001b[39m\u001b[33myou can use builtins\u001b[39m\u001b[33m'\u001b[39m\u001b[33m open.\u001b[39m\u001b[33m\"\u001b[39m\n\u001b[32m    325\u001b[39m     )\n\u001b[32m--> \u001b[39m\u001b[32m327\u001b[39m \u001b[38;5;28;01mreturn\u001b[39;00m \u001b[43mio_open\u001b[49m\u001b[43m(\u001b[49m\u001b[43mfile\u001b[49m\u001b[43m,\u001b[49m\u001b[43m \u001b[49m\u001b[43m*\u001b[49m\u001b[43margs\u001b[49m\u001b[43m,\u001b[49m\u001b[43m \u001b[49m\u001b[43m*\u001b[49m\u001b[43m*\u001b[49m\u001b[43mkwargs\u001b[49m\u001b[43m)\u001b[49m\n",
      "\u001b[31mFileNotFoundError\u001b[39m: [Errno 2] No such file or directory: 'data/funding-isb-english.csv'"
     ]
    }
   ],
   "source": [
    "\n",
    "# --- Load and clean rows (only contact formatting applied) ---\n",
    "with open(uncleaned_isb_english, mode='r', encoding='utf-8') as infile:\n",
    "    reader = csv.DictReader(infile)\n",
    "    data = list(reader)\n",
    "\n",
    "cleaned_data = []\n",
    "for row in data:\n",
    "    cleaned_row = {}\n",
    "    for key, value in row.items():\n",
    "        if key == 'contact':\n",
    "            value = clean_contact_info(value)\n",
    "            value = format_contact_info(value)\n",
    "        cleaned_row[key] = value\n",
    "    cleaned_data.append(cleaned_row)\n"
   ]
  },
  {
   "cell_type": "code",
   "execution_count": null,
   "id": "6c26effa",
   "metadata": {},
   "outputs": [],
   "source": [
    "\n",
    "# --- Save cleaned output ---\n",
    "with open(cleaned_isb_english, mode='w', encoding='utf-8', newline='') as outfile:\n",
    "    writer = csv.DictWriter(outfile, fieldnames=data[0].keys())\n",
    "    writer.writeheader()\n",
    "    writer.writerows(cleaned_data)\n",
    "\n",
    "print(f\"✅ Cleaned file saved to: {cleaned_isb_english}\")\n"
   ]
  }
 ],
 "metadata": {
  "kernelspec": {
   "display_name": ".env",
   "language": "python",
   "name": "python3"
  },
  "language_info": {
   "codemirror_mode": {
    "name": "ipython",
    "version": 3
   },
   "file_extension": ".py",
   "mimetype": "text/x-python",
   "name": "python",
   "nbconvert_exporter": "python",
   "pygments_lexer": "ipython3",
   "version": "3.12.3"
  }
 },
 "nbformat": 4,
 "nbformat_minor": 5
}
