{
 "cells": [
  {
   "cell_type": "code",
   "execution_count": null,
   "id": "edb481e8",
   "metadata": {},
   "outputs": [],
   "source": [
    "# %%\n",
    "# import sys\n",
    "# !{sys.executable} -m pip install pinecone sentence-transformers python-dotenv pandas tqdm matplotlib"
   ]
  },
  {
   "cell_type": "code",
   "execution_count": 4,
   "id": "0e11e8c9",
   "metadata": {},
   "outputs": [],
   "source": [
    "# %%\n",
    "import os\n",
    "import re\n",
    "import pandas as pd\n",
    "from dotenv import load_dotenv\n",
    "from pinecone import Pinecone\n",
    "from tqdm import tqdm\n",
    "from sentence_transformers import SentenceTransformer\n",
    "from ollama import Client"
   ]
  },
  {
   "cell_type": "code",
   "execution_count": 5,
   "id": "28620a94",
   "metadata": {},
   "outputs": [],
   "source": [
    "# %%\n",
    "# Load environment variables\n",
    "load_dotenv()\n",
    "PINECONE_API_KEY = os.getenv(\"PINECONE_API_KEY\")"
   ]
  },
  {
   "cell_type": "code",
   "execution_count": 6,
   "id": "9525c528",
   "metadata": {},
   "outputs": [],
   "source": [
    "full_df = pd.read_csv(\"/Users/kiranmulawad/AI-Funding/2_preprocessing/data/merged_funding_data.csv\")"
   ]
  },
  {
   "cell_type": "code",
   "execution_count": 7,
   "id": "93296147",
   "metadata": {},
   "outputs": [],
   "source": [
    "# %%\n",
    "# Initialize Pinecone client\n",
    "pc = Pinecone(api_key=PINECONE_API_KEY)\n",
    "index = pc.Index(\"funding-search-bge\")"
   ]
  },
  {
   "cell_type": "code",
   "execution_count": 8,
   "id": "bf798e87",
   "metadata": {},
   "outputs": [],
   "source": [
    "# %%\n",
    "# Sample user query\n",
    "query = \"We are an AI company focused on AI for robotics. We are focusing on research right now.\""
   ]
  },
  {
   "cell_type": "code",
   "execution_count": 9,
   "id": "d6f39b05",
   "metadata": {},
   "outputs": [],
   "source": [
    "# %%\n",
    "# Embed query using local BGE model\n",
    "model = SentenceTransformer(\"BAAI/bge-small-en\")\n",
    "query_embedding = model.encode(query).tolist()"
   ]
  },
  {
   "cell_type": "code",
   "execution_count": 10,
   "id": "c5cdc4e9",
   "metadata": {},
   "outputs": [],
   "source": [
    "# %%\n",
    "# Query Pinecone using the embedded query vector\n",
    "semantic_matches = index.query(\n",
    "    vector=query_embedding,\n",
    "    top_k=5,\n",
    "    include_metadata=True,\n",
    "    namespace=\"open-source-v1\"\n",
    ")"
   ]
  },
  {
   "cell_type": "code",
   "execution_count": null,
   "id": "72db1ea4",
   "metadata": {},
   "outputs": [],
   "source": [
    "# Query Pinecone for uploaded PDF chunks\n",
    "pdf_matches = index.query(\n",
    "    vector=query_embedding,\n",
    "    top_k=5,\n",
    "    include_metadata=True,\n",
    "    namespace=\"pdf-upload\"\n",
    ")"
   ]
  },
  {
   "cell_type": "code",
   "execution_count": null,
   "id": "c6192efb",
   "metadata": {},
   "outputs": [],
   "source": [
    "# Merge all results\n",
    "all_matches = semantic_matches[\"matches\"] + pdf_matches[\"matches\"]\n",
    "\n",
    "# Deduplicate based on (name, description)\n",
    "seen = set()\n",
    "unique_matches = []\n",
    "for m in all_matches:\n",
    "    key = (m[\"metadata\"].get(\"name\", \"\"), m[\"metadata\"].get(\"description\", \"\"))\n",
    "    if key not in seen:\n",
    "        unique_matches.append(m)\n",
    "        seen.add(key)\n",
    "\n",
    "print(f\"✅ Total unique results: {len(unique_matches)}\")\n"
   ]
  },
  {
   "cell_type": "code",
   "execution_count": 55,
   "id": "f3bfee90",
   "metadata": {},
   "outputs": [
    {
     "name": "stdout",
     "output_type": "stream",
     "text": [
      "🔍 Top semantic score: 0.7489\n"
     ]
    }
   ],
   "source": [
    "import re\n",
    "\n",
    "top_score = max(match[\"score\"] for match in semantic_matches[\"matches\"])\n",
    "print(f\"🔍 Top semantic score: {top_score:.4f}\")\n",
    "\n",
    "def hybrid_keyword_filter(df, query: str, top_k=5):\n",
    "    keywords = set(re.findall(r'\\b\\w+\\b', query.lower()))\n",
    "    matched_rows = []\n",
    "    for _, row in df.iterrows():\n",
    "        combined_text = \" \".join([\n",
    "            str(row.get(col, \"\")).lower()\n",
    "            for col in [\"name\", \"description\", \"domain\", \"eligibility\"]\n",
    "        ])\n",
    "        if any(word in combined_text for word in keywords):\n",
    "            matched_rows.append(row)\n",
    "    return pd.DataFrame(matched_rows).head(top_k)\n",
    "\n",
    "# Switch between semantic and keyword fallback\n",
    "if top_score < 0.6:\n",
    "    print(\"⚠️ Low semantic match, switching to keyword fallback...\")\n",
    "    results_df = hybrid_keyword_filter(full_df, query)\n",
    "else:\n",
    "    results_df = pd.DataFrame([m[\"metadata\"] for m in semantic_matches[\"matches\"]])\n"
   ]
  },
  {
   "cell_type": "code",
   "execution_count": 57,
   "id": "cf767505",
   "metadata": {},
   "outputs": [],
   "source": [
    "from dateutil.parser import parse\n",
    "from datetime import datetime\n",
    "\n",
    "# Safe parser for each deadline field\n",
    "def safe_parse_deadline(deadline_str):\n",
    "    try:\n",
    "        return parse(deadline_str, dayfirst=True, fuzzy=True)\n",
    "    except:\n",
    "        return None  # Return None for anything unparseable\n",
    "\n",
    "# Apply parsing\n",
    "results_df[\"deadline_date\"] = results_df[\"deadline\"].apply(safe_parse_deadline)\n",
    "\n",
    "# Calculate days left only if parsing succeeded\n",
    "results_df[\"days_left\"] = (results_df[\"deadline_date\"] - datetime.now()).dt.days"
   ]
  },
  {
   "cell_type": "code",
   "execution_count": 58,
   "id": "50b86ff2",
   "metadata": {},
   "outputs": [],
   "source": [
    "results_df = results_df[results_df[\"days_left\"].fillna(0) >= 0]"
   ]
  },
  {
   "cell_type": "code",
   "execution_count": null,
   "id": "0672cb40",
   "metadata": {},
   "outputs": [],
   "source": [
    "def compute_relevance_score(row, query, funding_need=\"200000\", target_domain=\"AI\"):\n",
    "    score = 0\n",
    "    if target_domain.lower() in str(row.get(\"domain\", \"\")).lower():\n",
    "        score += 0.4\n",
    "    try:\n",
    "        amount_val = int(re.sub(r\"[^\\d]\", \"\", str(row.get(\"amount\", \"0\"))))\n",
    "        if amount_val >= int(funding_need):\n",
    "            score += 0.3\n",
    "    except:\n",
    "        pass\n",
    "    if \"month\" in str(row.get(\"deadline\", \"\")).lower() or \"2025\" in str(row.get(\"deadline\", \"\")):\n",
    "        score += 0.2\n",
    "    if any(word.lower() in str(row.get(\"description\", \"\")).lower() for word in query.split()):\n",
    "        score += 0.1\n",
    "    return round(score * 100)\n",
    "\n",
    "results_df = pd.DataFrame([m[\"metadata\"] for m in unique_matches])\n",
    "\n",
    "results_df[\"relevance_score\"] = results_df.apply(lambda r: compute_relevance_score(r, query), axis=1)\n",
    "\n",
    "results_df = results_df.sort_values(by=\"relevance_score\", ascending=False)\n",
    "\n",
    "matches = [{\"metadata\": r} for r in results_df.to_dict(\"records\")]"
   ]
  },
  {
   "cell_type": "code",
   "execution_count": 74,
   "id": "61959e2b",
   "metadata": {},
   "outputs": [],
   "source": [
    "# %%\n",
    "# Format matches into readable funding blocks\n",
    "def generate_structured_funding_blocks(matches, user_query: str) -> str:\n",
    "    formatted_blocks = []\n",
    "\n",
    "    field_aliases = {\n",
    "        \"Amount\": [\"amount\", \"how much\", \"funding\", \"money\"],\n",
    "        \"Deadline\": [\"deadline\", \"last date\", \"until\", \"submission date\"],\n",
    "        \"Eligibility\": [\"eligible\", \"eligibility\", \"who can apply\"],\n",
    "        \"Procedure\": [\"procedure\", \"how to apply\", \"application\", \"steps\", \"process\"],\n",
    "        \"Contact\": [\"contact\", \"email\", \"person\", \"support\"],\n",
    "    }\n",
    "\n",
    "    for idx, match in enumerate(matches, start=1):\n",
    "        meta = match\n",
    "        name = meta.get(\"name\", \"Unnamed\")\n",
    "\n",
    "        fields = {\n",
    "            \"Description\": meta.get(\"description\"),\n",
    "            \"Domain\": meta.get(\"domain\"),\n",
    "            \"Eligibility\": meta.get(\"eligibility\"),\n",
    "            \"Amount\": meta.get(\"amount\"),\n",
    "            \"Deadline\": meta.get(\"deadline\"),\n",
    "            \"Procedure\": meta.get(\"procedure\"),\n",
    "            \"Contact\": meta.get(\"contact\"),\n",
    "            \"URL\": meta.get(\"url\"),\n",
    "            \"Source\": meta.get(\"source\", \"Unknown\")\n",
    "        }\n",
    "\n",
    "        missing_fields = []\n",
    "        for key, value in fields.items():\n",
    "            if key in field_aliases:\n",
    "                if any(alias in user_query.lower() for alias in field_aliases[key]):\n",
    "                    if not value or \"not found\" in str(value).lower():\n",
    "                        missing_fields.append(key)\n",
    "\n",
    "        block = f\"\"\"**{idx}. {name}**\\n\"\"\"\n",
    "        for key in [\"Description\", \"Domain\", \"Eligibility\", \"Amount\", \"Deadline\", \"Procedure\", \"Contact\", \"Source\"]:\n",
    "            val = fields[key]\n",
    "\n",
    "        \n",
    "            if key == \"Deadline\":\n",
    "                if val and \"not found\" not in str(val).lower():\n",
    "                    days_left = meta.get(\"days_left\", None)\n",
    "                    if pd.notnull(days_left):\n",
    "                        val += f\" (🕒 {int(days_left)} days left)\"\n",
    "                else:\n",
    "                    val = \"Not specified\"\n",
    "\n",
    "\n",
    "            if val and \"not found\" not in str(val).lower():\n",
    "                block += f\"   - **{key}**: {val}\\n\"\n",
    "\n",
    "        if missing_fields:\n",
    "            block += f\"   - *Couldn't trace information about {', '.join(missing_fields)}.*\\n\"\n",
    "\n",
    "        if fields[\"URL\"]:\n",
    "            block += f\"   - **For more information visit**: {fields['URL']}\\n\"\n",
    "\n",
    "        formatted_blocks.append(block)\n",
    "\n",
    "    return \"\\n\".join(formatted_blocks)"
   ]
  },
  {
   "cell_type": "code",
   "execution_count": 75,
   "id": "a9fd6afb",
   "metadata": {},
   "outputs": [
    {
     "name": "stdout",
     "output_type": "stream",
     "text": [
      "**1. Funding for projects on the topic of \"Application of artificial intelligence (AI) in drug discovery\"**\n",
      "   - **Description**: Guideline for the funding of projects on the topic of \"Application of artificial intelligence (AI) in drug discovery\" dated: 19.02.2025 Federal Ministry of Education and Research BAnz AT 03.03.2025 B5\n",
      "   - **Domain**: Research & Innovation (topic-specific), Health & Social Affairs\n",
      "   - **Eligibility**: University, research institution, company, association/association\n",
      "   - **Deadline**: Not specified\n",
      "   - **Contact**: Name: Projektträger Jülich (PtJ), Email: ptj@fz-juelich.de, Phone: Tel: +49 2461 61-2626, Address: 52425 Jülich\n",
      "   - **Source**: foerderdatenbank\n",
      "   - **For more information visit**: https://www.foerderdatenbank.de/FDB/Content/DE/Foerderprogramm/Bund/BMBF/anwendung-ki-wirkstoffforschung.html\n",
      "\n",
      "**2. Promotion of interdisciplinary pilot projects on the topic of \"Neurobiologically inspired artificial intelligence\"**\n",
      "   - **Description**: Guideline for the funding of interdisciplinary pilot projects on the topic of \"Neurobiologically inspired artificial intelligence\" dated: 25.11.2024 Federal Ministry of Education and Research BAnz AT 04.12.2024 B5\n",
      "   - **Domain**: Research & Innovation (topic-specific)\n",
      "   - **Eligibility**: Research institution, university, company\n",
      "   - **Deadline**: Not specified\n",
      "   - **Contact**: Name: DLR Projektträger, Email: ge@dlr.de, Phone: Tel: +49 0228 3821-1210, Address: 53227 Bonn\n",
      "   - **Source**: foerderdatenbank\n",
      "   - **For more information visit**: https://www.foerderdatenbank.de/FDB/Content/DE/Foerderprogramm/Bund/BMBF/bmbf-neurobiologisch-inspirierte-ki.html\n",
      "\n",
      "**3. Funding of collaborative research projects in the fields of \"software and algorithms with a focus on artificial intelligence and machine learning\", \"research data management\" and \"federated digital infrastructures\" for the exploration of the universe and matter (ErUM)**\n",
      "   - **Description**: Directive on the funding of collaborative research projects in the fields of \"Software and algorithms with a focus on artificial intelligence and machine learning\", \"Research data management\" and \"Federated digital infrastructures\" for the exploration of the universe and matter (ErUM) of 30.09.2024\n",
      "   - **Domain**: Research & Innovation (topic-specific)\n",
      "   - **Eligibility**: Research institution, university, company\n",
      "   - **Deadline**: Not specified\n",
      "   - **Contact**: Name: Projektträger DESY (PT.DESY), Email: pt@desy.de, Phone: Tel: +49 40 8998-3702, Address: 22607 Hamburg\n",
      "   - **Source**: foerderdatenbank\n",
      "   - **For more information visit**: https://www.foerderdatenbank.de/FDB/Content/DE/Foerderprogramm/Bund/BMBF/software-algorithmen-ki-maschinelles-lernen.html\n",
      "\n"
     ]
    }
   ],
   "source": [
    "semantic_output = generate_structured_funding_blocks(results_df.to_dict(orient=\"records\"), query)\n",
    "# Display the formatted output\n",
    "print(semantic_output)"
   ]
  },
  {
   "cell_type": "code",
   "execution_count": 53,
   "id": "2dd3f7ab",
   "metadata": {},
   "outputs": [],
   "source": [
    "# # %%\n",
    "# semantic_output = generate_structured_funding_blocks(semantic_matches[\"matches\"], query)\n",
    "# print(semantic_output)"
   ]
  },
  {
   "cell_type": "code",
   "execution_count": 27,
   "id": "f502fe17",
   "metadata": {},
   "outputs": [],
   "source": [
    "# # Save the prompt\n",
    "# with open(\"llm_prompt_llama.txt\", \"w\") as f:\n",
    "#     f.write(llm_prompt)"
   ]
  },
  {
   "cell_type": "code",
   "execution_count": 28,
   "id": "cefa51ba",
   "metadata": {},
   "outputs": [],
   "source": [
    "# # Load the prompt\n",
    "# with open(\"llm_prompt.txt\", \"r\") as f:\n",
    "#     llm_prompt = f.read()"
   ]
  },
  {
   "cell_type": "code",
   "execution_count": 29,
   "id": "3c4bb22f",
   "metadata": {},
   "outputs": [],
   "source": [
    "# Prepare the LLM prompt\n",
    "llm_prompt = f\"\"\"\n",
    "The company described itself as:\n",
    "\n",
    "\"{query}\"\n",
    "\n",
    "Here are the top 5 most relevant public funding programs in Germany, based on a semantic search match to their needs:\n",
    "\n",
    "{semantic_output}\n",
    "\n",
    "Now:\n",
    "\n",
    "Please write a concise and professional recommendation containing **only the top 2–3 most relevant funding programs** in this format:\n",
    "\n",
    "Only select the top programs that most directly match the company’s domain, maturity stage (e.g., early-stage research), or funding needs. Ignore entries that are vague or poorly aligned.\n",
    "\n",
    "For each recommendation, follow this format exactly:\n",
    "\n",
    "1. <Program Name>  \n",
    "Why it fits: <1–2 lines explaining relevance to the company’s domain (or) industry (or) field of work>  \n",
    "**Description**: <1–3 sentence summary of what the program funds and its focus>  \n",
    "**Domain**: <Domain>  \n",
    "**Eligibility**: <Eligibility>  \n",
    "**Amount**: <Amount>  \n",
    "**Deadline**: <Deadline>  \n",
    "**Contact**: <Contact person, email, or organization — not the URL>  \n",
    "**Next Steps**:  \n",
    "- Step 1: <Visit the official call page>  \n",
    "- Step 2: <Provide one or two helpful next steps, e.g., form a consortium, prepare documents>  \n",
    "- Step 3: (Optional) <Any extra steps from the program's procedure>\n",
    "\n",
    "If any field like **Amount**, **Deadline**, **Eligibility**, **Procedure**, **Contact**, or **Domain** is missing, either omit the line or say “Not specified”.\n",
    "\n",
    "Make sure **Next Steps** are formatted as real bullet points on new lines — not in a single line. Use simple and readable language. List only the top 2 or 3 matching programs — not all 5.\n",
    "\"\"\""
   ]
  },
  {
   "cell_type": "code",
   "execution_count": 30,
   "id": "04fb0005",
   "metadata": {},
   "outputs": [],
   "source": [
    "# %%\n",
    "# Run the prompt using LLaMA 3.2 via Ollama\n",
    "client = Client(host=\"http://localhost:11434\")\n",
    "\n",
    "response = client.generate(\n",
    "    model=\"llama3.2\",\n",
    "    prompt=llm_prompt,\n",
    "    stream=False\n",
    ")"
   ]
  },
  {
   "cell_type": "code",
   "execution_count": 31,
   "id": "60a35036",
   "metadata": {},
   "outputs": [
    {
     "name": "stdout",
     "output_type": "stream",
     "text": [
      "\n",
      "🧾 LLaMA 3.2 Recommendation:\n",
      "\n",
      "Here are the top 2-3 most relevant funding programs for the AI company focused on AI for robotics:\n",
      "\n",
      "1. MASTER 2nd Open Call\n",
      "Why it fits: This program focuses on developing and validating innovative XR-based educational content for robotics training, which aligns with the company's domain of AI for robotics.\n",
      "**Description**: MASTER supports projects that develop practical training scenarios for industrial robotics using XR technologies, making them accessible to students and specialists. \n",
      "**Domain**: VR/XR\n",
      "**Eligibility**: Universities, research institutions, educational institutions, SMEs and large companies\n",
      "**Amount**: Up to 100,000 euros\n",
      "**Deadline**: June 12, 2025\n",
      "**Contact**: Name: DLR Projektträger, Email: ge@dlr.de\n",
      "\n",
      "Next Steps:\n",
      "• Visit the official call page at https://www.master-xr.eu/open-calls/open-call-2/\n",
      "• Form a consortium with relevant partners to develop XR-based educational content for robotics training.\n",
      "• Prepare detailed project proposals and submit them by the deadline.\n",
      "\n",
      "2. FORTIS 1st Open Call\n",
      "Why it fits: This program supports projects that develop innovative solutions for safe, trustworthy, and efficient human-robot interaction in industrial applications, aligning with the company's domain of AI for robotics.\n",
      "**Description**: FORTIS funds projects that integrate multimodal communication methods and digital twins to optimize collaboration between humans and robots in industries like construction, maintenance, and logistics. \n",
      "**Domain**: Human-robot interaction (HRI), multimodal communication, digital twins\n",
      "**Eligibility**: Consortia of 2-3 organizations: Start-ups, SMEs, mid-caps, research institutions, universities\n",
      "**Amount**: Up to 250,000 euros\n",
      "**Deadline**: June 04, 2025\n",
      "**Contact**: Name: Fortis Project Team, Email: [fortis@fortis-project.eu](mailto:fortis@fortis-project.eu)\n",
      "\n",
      "Next Steps:\n",
      "• Form a consortium with relevant partners to develop innovative human-robot interaction solutions.\n",
      "• Prepare detailed project proposals and submit them by the deadline.\n",
      "\n",
      "3. Promotion of interdisciplinary pilot projects on the topic of \"Neurobiologically inspired artificial intelligence\"\n",
      "Why it fits: Although this program has a broader focus, its emphasis on neurobiologically inspired AI aligns with the company's domain of AI for robotics.\n",
      "**Description**: This program supports interdisciplinary pilot projects that explore neurobiologically inspired AI in various fields. \n",
      "**Domain**: Research & Innovation (topic-specific)\n",
      "**Eligibility**: Research institution, university, company\n",
      "**Amount**: Not specified\n",
      "**Deadline**: Not specified\n",
      "**Contact**: Name: DLR Projektträger, Email: ge@dlr.de\n",
      "\n",
      "Next Steps:\n",
      "• Visit the official call page at https://www.foerderdatenbank.de/FDB/Content/DE/Foerderprogramm/Bund/BMBF/bmbf-neurobiologisch-inspirierte-ki.html\n",
      "• Prepare detailed project proposals and submit them by the next call deadline.\n",
      "\n",
      "Please note that not all fields were specified, so I omitted them accordingly.\n"
     ]
    }
   ],
   "source": [
    "# %%\n",
    "# Output the final result\n",
    "print(\"\\n🧾 LLaMA 3.2 Recommendation:\\n\")\n",
    "print(response['response'])"
   ]
  },
  {
   "cell_type": "code",
   "execution_count": null,
   "id": "d0f4f2da",
   "metadata": {},
   "outputs": [],
   "source": []
  }
 ],
 "metadata": {
  "kernelspec": {
   "display_name": ".venv",
   "language": "python",
   "name": "python3"
  },
  "language_info": {
   "codemirror_mode": {
    "name": "ipython",
    "version": 3
   },
   "file_extension": ".py",
   "mimetype": "text/x-python",
   "name": "python",
   "nbconvert_exporter": "python",
   "pygments_lexer": "ipython3",
   "version": "3.12.3"
  }
 },
 "nbformat": 4,
 "nbformat_minor": 5
}
