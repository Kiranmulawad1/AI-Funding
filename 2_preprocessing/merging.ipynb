{
 "cells": [
  {
   "cell_type": "code",
   "execution_count": 1,
   "id": "a6266aa3",
   "metadata": {},
   "outputs": [],
   "source": [
    "# %%\n",
    "import pandas as pd\n",
    "from dateutil import parser"
   ]
  },
  {
   "cell_type": "code",
   "execution_count": 5,
   "id": "3b5c741d",
   "metadata": {},
   "outputs": [],
   "source": [
    "# %%\n",
    "# Define input file paths\n",
    "files = {\n",
    "    \"nrweuropa\": \"/Users/kiranmulawad/AI-Funding/2_preprocessing/data/funding_nrweuropa_cleaned.csv\",\n",
    "    \"foerderdatenbank\": \"/Users/kiranmulawad/AI-Funding/2_preprocessing/data/funding_foerderdatenbank_cleaned.csv\",\n",
    "    \"isb\": \"/Users/kiranmulawad/AI-Funding/2_preprocessing/data/funding-isb-cleaned.csv\"\n",
    "}\n",
    "\n"
   ]
  },
  {
   "cell_type": "code",
   "execution_count": null,
   "id": "7729f67d",
   "metadata": {},
   "outputs": [],
   "source": [
    "# %%\n",
    "# New (put 'source' first):\n",
    "final_columns = [\n",
    "    \"source\", \"name\", \"description\", \"domain\", \"eligibility\", \"location\",\n",
    "    \"amount\", \"procedure\", \"contact\", \"deadline\", \"url\"\n",
    "]\n",
    "\n"
   ]
  },
  {
   "cell_type": "code",
   "execution_count": 11,
   "id": "4150204d",
   "metadata": {},
   "outputs": [],
   "source": [
    "# Initialize list to collect DataFrames\n",
    "dataframes = []"
   ]
  },
  {
   "cell_type": "code",
   "execution_count": 12,
   "id": "9d236b90",
   "metadata": {},
   "outputs": [],
   "source": [
    "# Process each file and attach source\n",
    "for site, path in files.items():\n",
    "    df = pd.read_csv(path, dtype=str)  # Read with all columns as string\n",
    "    df[\"source\"] = site  # Add source column at the beginning\n",
    "\n",
    "    # Ensure all required columns exist\n",
    "    for col in final_columns:\n",
    "        if col not in df.columns:\n",
    "            df[col] = f\"{col} information not found\"\n",
    "\n",
    "    # Reorder columns to ensure consistency (source first)\n",
    "    ordered_cols = [\"source\"] + [col for col in final_columns if col != \"source\"]\n",
    "    df = df[ordered_cols]\n",
    "\n",
    "    dataframes.append(df)\n"
   ]
  },
  {
   "cell_type": "code",
   "execution_count": 13,
   "id": "a01ed059",
   "metadata": {},
   "outputs": [],
   "source": [
    "# %%\n",
    "# Concatenate all dataframes\n",
    "final_df = pd.concat(dataframes, ignore_index=True)\n",
    "\n"
   ]
  },
  {
   "cell_type": "code",
   "execution_count": 14,
   "id": "d5dc0d19",
   "metadata": {},
   "outputs": [],
   "source": [
    "# %%\n",
    "# Format deadline field to standard readable date (e.g. February 5, 2025)\n",
    "def standardize_deadline(date_str):\n",
    "    if pd.isna(date_str) or date_str.strip() == \"\":\n",
    "        return \"No deadline provided\"\n",
    "    try:\n",
    "        date_obj = parser.parse(date_str, dayfirst=True)\n",
    "        return date_obj.strftime(\"%B %d, %Y\")\n",
    "    except Exception:\n",
    "        return date_str  # Leave unchanged if it can't be parsed\n",
    "\n",
    "final_df[\"deadline\"] = final_df[\"deadline\"].apply(standardize_deadline)\n",
    "\n"
   ]
  },
  {
   "cell_type": "code",
   "execution_count": 15,
   "id": "b291d6b7",
   "metadata": {},
   "outputs": [
    {
     "name": "stdout",
     "output_type": "stream",
     "text": [
      "✅ Merged CSV saved to: data/merged_funding_data.csv\n"
     ]
    }
   ],
   "source": [
    "# %%\n",
    "# Save the merged output\n",
    "output_path = \"data/merged_funding_data.csv\"\n",
    "final_df.to_csv(output_path, index=False)\n",
    "\n",
    "print(f\"✅ Merged CSV saved to: {output_path}\")\n"
   ]
  },
  {
   "cell_type": "code",
   "execution_count": null,
   "id": "0a6bcbff",
   "metadata": {},
   "outputs": [],
   "source": []
  }
 ],
 "metadata": {
  "kernelspec": {
   "display_name": ".venv",
   "language": "python",
   "name": "python3"
  },
  "language_info": {
   "codemirror_mode": {
    "name": "ipython",
    "version": 3
   },
   "file_extension": ".py",
   "mimetype": "text/x-python",
   "name": "python",
   "nbconvert_exporter": "python",
   "pygments_lexer": "ipython3",
   "version": "3.12.3"
  }
 },
 "nbformat": 4,
 "nbformat_minor": 5
}
