{
 "cells": [
  {
   "cell_type": "code",
   "execution_count": 3,
   "id": "aa43c0d3",
   "metadata": {},
   "outputs": [],
   "source": [
    "# %%\n",
    "# Install required packages (run only once)\n",
    "import sys\n",
    "!{sys.executable} -m pip install -q sentence-transformers pinecone python-dotenv pandas tqdm"
   ]
  },
  {
   "cell_type": "code",
   "execution_count": 12,
   "id": "2f1a01fd",
   "metadata": {},
   "outputs": [],
   "source": [
    "# %%\n",
    "# Imports\n",
    "import os\n",
    "import hashlib\n",
    "import pandas as pd\n",
    "from dotenv import load_dotenv\n",
    "from pinecone import Pinecone, ServerlessSpec\n",
    "from tqdm import tqdm\n",
    "from sentence_transformers import SentenceTransformer"
   ]
  },
  {
   "cell_type": "code",
   "execution_count": null,
   "id": "373a7aa0",
   "metadata": {},
   "outputs": [],
   "source": [
    "# %%\n",
    "# Load .env config\n",
    "load_dotenv()\n",
    "PINECONE_API_KEY = os.getenv(\"PINECONE_API_KEY\")\n",
    "\n",
    "assert PINECONE_API_KEY, \"❌ PINECONE_API_KEY not found in .env\""
   ]
  },
  {
   "cell_type": "code",
   "execution_count": 14,
   "id": "cd713593",
   "metadata": {},
   "outputs": [],
   "source": [
    "# %%\n",
    "# Load funding dataset\n",
    "df = pd.read_csv(\"/Users/kiranmulawad/AI-Funding/2_preprocessing/data/merged_funding_data.csv\")"
   ]
  },
  {
   "cell_type": "code",
   "execution_count": 15,
   "id": "f95710f8",
   "metadata": {},
   "outputs": [],
   "source": [
    "# %%\n",
    "# Build semantic_corpus with labeled structure\n",
    "def build_semantic_corpus(row):\n",
    "    return \". \".join([\n",
    "        f\"name = {row.get('name', '')}\",\n",
    "        f\"description = {row.get('description', '')}\",\n",
    "        f\"domain = {row.get('domain', '')}\",\n",
    "        f\"eligibility = {row.get('eligibility', '')}\",\n",
    "        f\"amount = {row.get('amount', '')}\",\n",
    "        f\"location = {row.get('location', '')}\",\n",
    "        f\"procedure = {row.get('procedure', '')}\",\n",
    "        f\"contact = {row.get('contact', '')}\",\n",
    "        f\"deadline = {row.get('deadline', '')}\"\n",
    "    ]).strip(\". \")\n",
    "\n",
    "df[\"semantic_corpus\"] = df.apply(build_semantic_corpus, axis=1)"
   ]
  },
  {
   "cell_type": "code",
   "execution_count": 16,
   "id": "8a5c45d3",
   "metadata": {},
   "outputs": [],
   "source": [
    "# %%\n",
    "# Generate stable hash IDs from URLs\n",
    "def hash_id(text):\n",
    "    return hashlib.md5(text.encode(\"utf-8\")).hexdigest()\n",
    "\n",
    "df[\"id\"] = df[\"url\"].fillna(\"no-url\").apply(hash_id)"
   ]
  },
  {
   "cell_type": "code",
   "execution_count": 17,
   "id": "2bb8a40e",
   "metadata": {},
   "outputs": [],
   "source": [
    "# %%\n",
    "# Initialize embedding model (BGE-small)\n",
    "model = SentenceTransformer(\"BAAI/bge-small-en-v1.5\")"
   ]
  },
  {
   "cell_type": "code",
   "execution_count": 22,
   "id": "528a689c",
   "metadata": {},
   "outputs": [],
   "source": [
    "# Initialize Pinecone client\n",
    "pc = Pinecone(api_key=PINECONE_API_KEY)\n",
    "\n",
    "# Index configuration\n",
    "index_name = \"funding-search-bge\"\n",
    "dimension = 384\n",
    "namespace = \"open-source-v1\"\n",
    "\n",
    "# Create index if it doesn't exist\n",
    "if index_name not in pc.list_indexes().names():\n",
    "    pc.create_index(\n",
    "        name=index_name,\n",
    "        dimension=dimension,\n",
    "        metric=\"cosine\",\n",
    "        spec=ServerlessSpec(cloud=\"aws\", region=\"us-east-1\")\n",
    "    )\n",
    "\n",
    "# Connect to index\n",
    "index = pc.Index(index_name)"
   ]
  },
  {
   "cell_type": "code",
   "execution_count": 23,
   "id": "75e0f1bf",
   "metadata": {},
   "outputs": [
    {
     "name": "stderr",
     "output_type": "stream",
     "text": [
      "Uploading embeddings to Pinecone: 100%|██████████| 3/3 [00:06<00:00,  2.01s/it]"
     ]
    },
    {
     "name": "stdout",
     "output_type": "stream",
     "text": [
      "✅ All embeddings uploaded to Pinecone under namespace: open-source-v1\n"
     ]
    },
    {
     "name": "stderr",
     "output_type": "stream",
     "text": [
      "\n"
     ]
    }
   ],
   "source": [
    "# %%\n",
    "# Upload in batches\n",
    "batch_size = 32\n",
    "\n",
    "for i in tqdm(range(0, len(df), batch_size), desc=\"Uploading embeddings to Pinecone\"):\n",
    "    batch = df.iloc[i:i+batch_size]\n",
    "    texts = batch[\"semantic_corpus\"].fillna(\"\").tolist()\n",
    "    ids = batch[\"id\"].tolist()\n",
    "    embeddings = model.encode(texts, show_progress_bar=False).tolist()\n",
    "\n",
    "    metadata = batch[[\n",
    "        \"id\", \"name\", \"description\", \"domain\", \"eligibility\", \"location\",\n",
    "        \"amount\", \"procedure\", \"contact\", \"deadline\", \"url\"\n",
    "    ]].fillna(\"\").to_dict(orient=\"records\")\n",
    "\n",
    "    vectors = list(zip(ids, embeddings, metadata))\n",
    "    index.upsert(vectors=vectors, namespace=namespace)\n",
    "\n",
    "print(f\"✅ All embeddings uploaded to Pinecone under namespace: {namespace}\")"
   ]
  },
  {
   "cell_type": "code",
   "execution_count": null,
   "id": "8e8ceff7",
   "metadata": {},
   "outputs": [],
   "source": []
  }
 ],
 "metadata": {
  "kernelspec": {
   "display_name": ".venv",
   "language": "python",
   "name": "python3"
  },
  "language_info": {
   "codemirror_mode": {
    "name": "ipython",
    "version": 3
   },
   "file_extension": ".py",
   "mimetype": "text/x-python",
   "name": "python",
   "nbconvert_exporter": "python",
   "pygments_lexer": "ipython3",
   "version": "3.12.3"
  }
 },
 "nbformat": 4,
 "nbformat_minor": 5
}
