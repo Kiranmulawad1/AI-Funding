{
 "cells": [
  {
   "cell_type": "code",
   "execution_count": 1,
   "id": "6c6fb192",
   "metadata": {},
   "outputs": [],
   "source": [
    "# %%\n",
    "# Imports\n",
    "import os\n",
    "import pandas as pd\n",
    "from dotenv import load_dotenv\n",
    "from pinecone import Pinecone\n",
    "from tqdm import tqdm\n",
    "from sentence_transformers import SentenceTransformer, CrossEncoder\n",
    "from ollama import Client"
   ]
  },
  {
   "cell_type": "code",
   "execution_count": 2,
   "id": "76b6f99b",
   "metadata": {},
   "outputs": [],
   "source": [
    "# %%\n",
    "# Load environment variables\n",
    "load_dotenv()\n",
    "PINECONE_API_KEY = os.getenv(\"PINECONE_API_KEY\")"
   ]
  },
  {
   "cell_type": "code",
   "execution_count": 3,
   "id": "037a2467",
   "metadata": {},
   "outputs": [
    {
     "data": {
      "application/vnd.jupyter.widget-view+json": {
       "model_id": "01132d8ba7c74a608c3fa0aa558180e5",
       "version_major": 2,
       "version_minor": 0
      },
      "text/plain": [
       "config.json:   0%|          | 0.00/794 [00:00<?, ?B/s]"
      ]
     },
     "metadata": {},
     "output_type": "display_data"
    },
    {
     "data": {
      "application/vnd.jupyter.widget-view+json": {
       "model_id": "900ab3615d2a4651b7dc719ee42bace5",
       "version_major": 2,
       "version_minor": 0
      },
      "text/plain": [
       "model.safetensors:   0%|          | 0.00/90.9M [00:00<?, ?B/s]"
      ]
     },
     "metadata": {},
     "output_type": "display_data"
    },
    {
     "data": {
      "application/vnd.jupyter.widget-view+json": {
       "model_id": "1b6e42562ebd459c94377063ef4207b0",
       "version_major": 2,
       "version_minor": 0
      },
      "text/plain": [
       "tokenizer_config.json: 0.00B [00:00, ?B/s]"
      ]
     },
     "metadata": {},
     "output_type": "display_data"
    },
    {
     "data": {
      "application/vnd.jupyter.widget-view+json": {
       "model_id": "a90afd089b044c74afd9f46a6d1fa175",
       "version_major": 2,
       "version_minor": 0
      },
      "text/plain": [
       "vocab.txt: 0.00B [00:00, ?B/s]"
      ]
     },
     "metadata": {},
     "output_type": "display_data"
    },
    {
     "data": {
      "application/vnd.jupyter.widget-view+json": {
       "model_id": "3b397d4682c14d348e0f16752bf013e2",
       "version_major": 2,
       "version_minor": 0
      },
      "text/plain": [
       "tokenizer.json: 0.00B [00:00, ?B/s]"
      ]
     },
     "metadata": {},
     "output_type": "display_data"
    },
    {
     "data": {
      "application/vnd.jupyter.widget-view+json": {
       "model_id": "c23cdc8bceb04c359f2365daf3abc658",
       "version_major": 2,
       "version_minor": 0
      },
      "text/plain": [
       "special_tokens_map.json:   0%|          | 0.00/132 [00:00<?, ?B/s]"
      ]
     },
     "metadata": {},
     "output_type": "display_data"
    },
    {
     "data": {
      "application/vnd.jupyter.widget-view+json": {
       "model_id": "cb6f388aa09b4a688b39e1eab428f7b8",
       "version_major": 2,
       "version_minor": 0
      },
      "text/plain": [
       "README.md: 0.00B [00:00, ?B/s]"
      ]
     },
     "metadata": {},
     "output_type": "display_data"
    }
   ],
   "source": [
    "# %%\n",
    "# Initialize clients\n",
    "pc = Pinecone(api_key=PINECONE_API_KEY)\n",
    "index = pc.Index(\"funding-search-bge\")\n",
    "embed_model = SentenceTransformer(\"BAAI/bge-small-en\")\n",
    "rerank_model = CrossEncoder(\"cross-encoder/ms-marco-MiniLM-L-6-v2\")\n",
    "ollama_client = Client(host=\"http://localhost:11434\")"
   ]
  },
  {
   "cell_type": "code",
   "execution_count": 4,
   "id": "385f39bb",
   "metadata": {},
   "outputs": [],
   "source": [
    "# %%\n",
    "# Input query\n",
    "query = \"We are an AI company focused on AI for robotics. We are focusing on research right now.\"\n",
    "query_embedding = embed_model.encode(query).tolist()"
   ]
  },
  {
   "cell_type": "code",
   "execution_count": 5,
   "id": "6c09677b",
   "metadata": {},
   "outputs": [],
   "source": [
    "# %%\n",
    "# Get semantic matches from Pinecone\n",
    "semantic_matches = index.query(\n",
    "    vector=query_embedding,\n",
    "    top_k=8,\n",
    "    include_metadata=True,\n",
    "    namespace=\"open-source-v1\"\n",
    ")"
   ]
  },
  {
   "cell_type": "code",
   "execution_count": 9,
   "id": "c70e4cee",
   "metadata": {},
   "outputs": [
    {
     "name": "stdout",
     "output_type": "stream",
     "text": [
      "MASTER 2nd Open Call\n",
      "Promotion of interdisciplinary pilot projects on the topic of \"Neurobiologically inspired artificial intelligence\"\n",
      "Funding for projects on the topic of \"Application of artificial intelligence (AI) in drug discovery\"\n",
      "FORTIS 1st Open Call\n",
      "Funding of collaborative research projects in the fields of \"software and algorithms with a focus on artificial intelligence and machine learning\", \"research data management\" and \"federated digital infrastructures\" for the exploration of the universe and matter (ErUM)\n",
      "AIRISE Open Call\n",
      "Promotion of strategic project funding with the Republic of Korea with the participation of industry and science (2+2 projects) on the topics of \"Digital technologies in red biotechnology and artificial intelligence in biodiversity research\"\n",
      "Funding as part of the urban-rural-future transformation initiative - accelerating planning for climate adaptation with urban digital twins\n"
     ]
    }
   ],
   "source": [
    "for match in semantic_matches[\"matches\"]:\n",
    "    print(match[\"metadata\"][\"name\"])"
   ]
  },
  {
   "cell_type": "code",
   "execution_count": 10,
   "id": "7a2bfd6a",
   "metadata": {},
   "outputs": [],
   "source": [
    "# %%\n",
    "# Rerank using CrossEncoder\n",
    "rerank_inputs = [\n",
    "    [query, match[\"metadata\"].get(\"description\", \"\")] for match in semantic_matches[\"matches\"]\n",
    "]\n",
    "scores = rerank_model.predict(rerank_inputs)\n",
    "reranked = [x for _, x in sorted(zip(scores, semantic_matches[\"matches\"]), reverse=True)]\n",
    "top_matches = reranked[:5]"
   ]
  },
  {
   "cell_type": "code",
   "execution_count": 20,
   "id": "b48661c4",
   "metadata": {},
   "outputs": [],
   "source": [
    "# %%\n",
    "# Format structured funding blocks with citations\n",
    "def generate_funding_blocks(matches, query: str) -> str:\n",
    "    formatted = []\n",
    "    for idx, match in enumerate(matches, start=1):\n",
    "        meta = match[\"metadata\"]\n",
    "        name = meta.get(\"name\", f\"Program {idx}\")\n",
    "        block = f\"\"\"**{idx}. {name}**\\n\"\"\"\n",
    "        fields = {\n",
    "            \"Description\": meta.get(\"description\"),\n",
    "            \"Domain\": meta.get(\"domain\"),\n",
    "            \"Eligibility\": meta.get(\"eligibility\"),\n",
    "            \"Amount\": meta.get(\"amount\"),\n",
    "            \"Deadline\": meta.get(\"deadline\"),\n",
    "            \"Procedure\": meta.get(\"procedure\"),\n",
    "            \"Contact\": meta.get(\"contact\"),\n",
    "            \"URL\": meta.get(\"url\")\n",
    "        }\n",
    "        for key, val in fields.items():\n",
    "            if val and \"not found\" not in str(val).lower():\n",
    "                block += f\"- **{key}**: {val}\\n\"\n",
    "        block += \"\\n\"\n",
    "        formatted.append(block)\n",
    "    return \"\\n\".join(formatted).strip()"
   ]
  },
  {
   "cell_type": "code",
   "execution_count": 22,
   "id": "d2c62c09",
   "metadata": {},
   "outputs": [
    {
     "name": "stdout",
     "output_type": "stream",
     "text": [
      "🔍 Top Results:\n",
      " **1. AIRISE Open Call**\n",
      "- **Description**: AIRISE supports SMEs and mid-caps in the implementation and scaling of AI solutions in manufacturing. The Open Calls are aimed at companies that are either conducting their first AI experiments or want to bring existing applications to a higher level of maturity (TRL). Funding is available for projects in areas such as design & engineering, process monitoring, manufacturing operations, supply chain, cyber security and training Further information can be found here\n",
      "- **Domain**: AI in production\n",
      "- **Eligibility**: SMEs and mid-caps\n",
      "- **Amount**: Up to 60,000 euros\n",
      "- **Deadline**: July 16, 2025\n",
      "- **URL**: https://airise.eu/calls\n",
      "\n",
      "\n",
      "**2. Funding of collaborative research projects in the fields of \"software and algorithms with a focus on artificial intelligence and machine learning\", \"research data management\" and \"federated digital infrastructures\" for the exploration of the universe and matter (ErUM)**\n",
      "- **Description**: Directive on the funding of collaborative research projects in the fields of \"Software and algorithms with a focus on artificial intelligence and machine learning\", \"Research data management\" and \"Federated digital infrastructures\" for the exploration of the universe and matter (ErUM) of 30.09.2024\n",
      "- **Domain**: Research & Innovation (topic-specific)\n",
      "- **Eligibility**: Research institution, university, company\n",
      "- **Contact**: Name: Projektträger DESY (PT.DESY), Email: pt@desy.de, Phone: Tel: +49 40 8998-3702, Address: 22607 Hamburg\n",
      "- **URL**: https://www.foerderdatenbank.de/FDB/Content/DE/Foerderprogramm/Bund/BMBF/software-algorithmen-ki-maschinelles-lernen.html\n",
      "\n",
      "\n",
      "**3. FORTIS 1st Open Call**\n",
      "- **Description**: FORTIS supports projects that develop innovative solutions for safe, trustworthy and efficient human-robot interaction in industrial applications. The focus is on the integration of multimodal communication methods and digital twins to optimize collaboration between humans and robots in areas such as construction, maintenance and logistics. The aim is to promote practical technologies that improve interaction and increase productivity. Further information can be found here\n",
      "- **Domain**: Human-robot interaction (HRI), multimodal communication, digital twins\n",
      "- **Eligibility**: Consortia of 2-3 organizations: Start-ups, SMEs, mid-caps, research institutions, universities\n",
      "- **Amount**: Up to 250,000 euros\n",
      "- **Deadline**: June 04, 2025\n",
      "- **URL**: https://fortis-project.eu/open-call-1/\n",
      "\n",
      "\n",
      "**4. Funding for projects on the topic of \"Application of artificial intelligence (AI) in drug discovery\"**\n",
      "- **Description**: Guideline for the funding of projects on the topic of \"Application of artificial intelligence (AI) in drug discovery\" dated: 19.02.2025 Federal Ministry of Education and Research BAnz AT 03.03.2025 B5\n",
      "- **Domain**: Research & Innovation (topic-specific), Health & Social Affairs\n",
      "- **Eligibility**: University, research institution, company, association/association\n",
      "- **Contact**: Name:  ...\n",
      "\n"
     ]
    }
   ],
   "source": [
    "# %%\n",
    "semantic_output = generate_funding_blocks(top_matches, query)\n",
    "print(\"🔍 Top Results:\\n\", semantic_output[:3000], \"...\\n\")"
   ]
  },
  {
   "cell_type": "code",
   "execution_count": 16,
   "id": "540430b2",
   "metadata": {},
   "outputs": [],
   "source": [
    "# %%\n",
    "# Load the advanced prompt template\n",
    "with open(\"llm_prompt_llama_advanced.txt\", \"r\") as f:\n",
    "    prompt_template = f.read()\n",
    "\n",
    "llm_prompt = prompt_template.replace(\"{{QUERY}}\", query).replace(\"{{RESULTS}}\", semantic_output)"
   ]
  },
  {
   "cell_type": "code",
   "execution_count": 17,
   "id": "74a50e95",
   "metadata": {},
   "outputs": [],
   "source": [
    "# %%\n",
    "# Generate recommendation using LLaMA 3.2\n",
    "response = ollama_client.generate(\n",
    "    model=\"llama3.2\",\n",
    "    prompt=llm_prompt,\n",
    "    stream=False\n",
    ")"
   ]
  },
  {
   "cell_type": "code",
   "execution_count": 18,
   "id": "4b178afb",
   "metadata": {},
   "outputs": [
    {
     "name": "stdout",
     "output_type": "stream",
     "text": [
      "🧾 Final Recommendation:\n",
      "\n",
      "Here's a concise and professional recommendation containing the top 2-3 most relevant funding programs for the company:\n",
      "\n",
      "1. **AIRISE Open Call**\n",
      "Why it fits: This program supports AI solutions in manufacturing, aligning with the company's focus on AI for robotics.\n",
      "\n",
      "**Description**: AIRISE supports SMEs and mid-caps in implementing and scaling AI solutions in manufacturing, including design & engineering, process monitoring, and supply chain optimization.\n",
      "\n",
      "**Domain**: AI in production\n",
      "**Eligibility**: SMEs and mid-caps\n",
      "**Amount**: Up to 60,000 euros\n",
      "**Deadline**: July 16, 2025\n",
      "**Contact**: Projektträger DESY (pt@desy.de)\n",
      "**Next Steps**:\n",
      "- Step 1: Visit the official call page at https://airise.eu/calls\n",
      "- Step 2: Prepare a detailed project proposal and submit it along with all required documents\n",
      "\n",
      "2. **FORTIS 1st Open Call**\n",
      "Why it fits: FORTIS supports projects on human-robot interaction, which is closely related to robotics.\n",
      "\n",
      "**Description**: FORTIS supports innovative solutions for safe, trustworthy, and efficient human-robot collaboration in industrial applications, focusing on multimodal communication and digital twins.\n",
      "\n",
      "**Domain**: Human-robot interaction (HRI), multimodal communication, digital twins\n",
      "**Eligibility**: Consortia of 2-3 organizations: Start-ups, SMEs, mid-caps, research institutions, universities\n",
      "**Amount**: Up to 250,000 euros\n",
      "**Deadline**: June 04, 2025\n",
      "**Contact**: Name: [Not specified]\n",
      "**Next Steps**:\n",
      "- Step 1: Form a consortium with other relevant organizations and submit the proposal\n",
      "- Step 2: Prepare a detailed project plan and budget\n",
      "\n",
      "3. **Funding of collaborative research projects in AI and machine learning**\n",
      "Why it fits: This program supports research on software and algorithms for AI and machine learning, which is also relevant to robotics.\n",
      "\n",
      "**Description**: The program funds collaborative research projects in the fields of software and algorithms with a focus on artificial intelligence and machine learning, as well as research data management and federated digital infrastructures.\n",
      "\n",
      "**Domain**: Research & Innovation (topic-specific)\n",
      "**Eligibility**: Research institution, university, company\n",
      "**Amount**: Not specified\n",
      "**Deadline**: 30.09.2024\n",
      "**Contact**: Projektträger DESY (pt@desy.de)\n",
      "**Next Steps**:\n",
      "- Step 1: Identify potential partners and submit the proposal\n",
      "- Step 2: Prepare a detailed project plan and budget\n",
      "\n",
      "Please note that I omitted the **MASTER Open Call** as it seems to be more focused on educational content, which is not directly related to the company's domain.\n"
     ]
    }
   ],
   "source": [
    "# %% new\n",
    "# Print final output\n",
    "print(\"🧾 Final Recommendation:\\n\")\n",
    "print(response[\"response\"])"
   ]
  },
  {
   "cell_type": "code",
   "execution_count": null,
   "id": "fccf0c85",
   "metadata": {},
   "outputs": [
    {
     "name": "stdout",
     "output_type": "stream",
     "text": [
      "🧾 Final Recommendation:\n",
      "\n",
      "Based on your company's focus on AI for robotics, I recommend the following top funding programs:\n",
      "\n",
      "1. AIRISE Open Call  \n",
      "Why it fits: This program supports SMEs and mid-caps in implementing and scaling AI solutions in manufacturing, aligning with the company's focus on research.\n",
      "\n",
      "**Description**: The AIRISE Open Call funds projects that enhance AI applications in areas such as design & engineering, process monitoring, and supply chain management.\n",
      "\n",
      "**Domain**: AI in production  \n",
      "**Eligibility**: SMEs and mid-caps  \n",
      "**Amount**: Up to 60,000 euros  \n",
      "**Deadline**: July 16, 2025  \n",
      "**Contact**: Visit the official call page: https://airise.eu/calls  \n",
      "- Review the eligibility criteria carefully  \n",
      "- Ensure a clear understanding of the funding requirements  \n",
      "- Contact AIRISE support for any further assistance\n",
      "\n",
      "2. FORTIS 1st Open Call  \n",
      "Why it fits: This program supports projects that develop innovative solutions for safe, trustworthy, and efficient human-robot interaction in industrial applications.\n",
      "\n",
      "**Description**: The FORTIS 1st Open Call funds consortia of organizations developing multimodal communication methods and digital twins to optimize collaboration between humans and robots.\n",
      "\n",
      "**Domain**: Human-robot interaction (HRI), multimodal communication, digital twins  \n",
      "**Eligibility**: Consortia of 2-3 organizations: Start-ups, SMEs, mid-caps, research institutions, universities  \n",
      "**Amount**: Up to 250,000 euros  \n",
      "**Deadline**: June 04, 2025  \n",
      "**Contact**: Visit the official call page: https://fortis-project.eu/open-call-1/  \n",
      "- Collaborate with relevant organizations to form a strong consortium  \n",
      "- Prepare a detailed project proposal highlighting innovative approaches  \n",
      "- Contact FORTIS support for guidance on the application process\n"
     ]
    }
   ],
   "source": [
    "# %% old\n",
    "# Print final output\n",
    "print(\"🧾 Final Recommendation:\\n\")\n",
    "print(response[\"response\"])\n"
   ]
  },
  {
   "cell_type": "code",
   "execution_count": null,
   "id": "0ce5a9b0",
   "metadata": {},
   "outputs": [],
   "source": []
  }
 ],
 "metadata": {
  "kernelspec": {
   "display_name": ".venv",
   "language": "python",
   "name": "python3"
  },
  "language_info": {
   "codemirror_mode": {
    "name": "ipython",
    "version": 3
   },
   "file_extension": ".py",
   "mimetype": "text/x-python",
   "name": "python",
   "nbconvert_exporter": "python",
   "pygments_lexer": "ipython3",
   "version": "3.12.3"
  }
 },
 "nbformat": 4,
 "nbformat_minor": 5
}
